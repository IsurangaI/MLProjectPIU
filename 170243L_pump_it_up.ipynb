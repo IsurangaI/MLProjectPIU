{
  "nbformat": 4,
  "nbformat_minor": 0,
  "metadata": {
    "colab": {
      "name": "170243L_pump_it_up.ipynb",
      "provenance": [],
      "collapsed_sections": [],
      "authorship_tag": "ABX9TyNWcc5PCLu/JBzVa1PE7owV",
      "include_colab_link": true
    },
    "kernelspec": {
      "name": "python3",
      "display_name": "Python 3"
    },
    "language_info": {
      "name": "python"
    },
    "accelerator": "GPU"
  },
  "cells": [
    {
      "cell_type": "markdown",
      "metadata": {
        "id": "view-in-github",
        "colab_type": "text"
      },
      "source": [
        "<a href=\"https://colab.research.google.com/github/nigma97/MLProjectPIU/blob/main/170243L_pump_it_up.ipynb\" target=\"_parent\"><img src=\"https://colab.research.google.com/assets/colab-badge.svg\" alt=\"Open In Colab\"/></a>"
      ]
    },
    {
      "cell_type": "code",
      "metadata": {
        "id": "HWkNcj3ApUkJ"
      },
      "source": [
        "import numpy as np\n",
        "import pandas as pd\n",
        "from sklearn.cluster import KMeans\n",
        "from sklearn.model_selection import StratifiedKFold,train_test_split,KFold\n",
        "from sklearn.ensemble import RandomForestClassifier,ExtraTreesClassifier\n",
        "from sklearn.preprocessing import LabelEncoder,StandardScaler, MinMaxScaler\n",
        "from sklearn.metrics import roc_auc_score\n",
        "from sklearn.model_selection import GridSearchCV, cross_val_score, cross_val_predict, StratifiedKFold, learning_curve, KFold, train_test_split\n",
        "from xgboost import XGBClassifier\n",
        "import pandas as pd\n",
        "import seaborn as sns\n",
        "sns.set(style='white', context='notebook', palette='deep')\n",
        "# from collections import Counter\n",
        "import matplotlib.pyplot as plt\n",
        "\n",
        "from sklearn.impute import SimpleImputer"
      ],
      "execution_count": 1,
      "outputs": []
    },
    {
      "cell_type": "code",
      "metadata": {
        "colab": {
          "base_uri": "https://localhost:8080/"
        },
        "id": "ayskoprdpnOl",
        "outputId": "1ad5246e-1abb-438b-848e-052e106c01b0"
      },
      "source": [
        "from google.colab import drive\n",
        "drive.mount('/content/drive')"
      ],
      "execution_count": 2,
      "outputs": [
        {
          "output_type": "stream",
          "name": "stdout",
          "text": [
            "Mounted at /content/drive\n"
          ]
        }
      ]
    },
    {
      "cell_type": "code",
      "metadata": {
        "id": "smpjeuakuP4I"
      },
      "source": [
        "df_train_set = pd.read_csv('/content/drive/My Drive/MLproject/training_set_values.csv')\n",
        "df_train_labels = pd.read_csv('/content/drive/My Drive/MLproject/training_set_labels.csv')"
      ],
      "execution_count": 3,
      "outputs": []
    },
    {
      "cell_type": "code",
      "metadata": {
        "colab": {
          "base_uri": "https://localhost:8080/"
        },
        "id": "Pd7veTEcflNd",
        "outputId": "3dddd8dc-1297-4920-ad70-ce787bac3f21"
      },
      "source": [
        "df_train_set.shape"
      ],
      "execution_count": 4,
      "outputs": [
        {
          "output_type": "execute_result",
          "data": {
            "text/plain": [
              "(59400, 40)"
            ]
          },
          "metadata": {},
          "execution_count": 4
        }
      ]
    },
    {
      "cell_type": "code",
      "metadata": {
        "colab": {
          "base_uri": "https://localhost:8080/",
          "height": 408
        },
        "id": "kdi3wpLOl07X",
        "outputId": "30f65992-ab29-4650-d8d5-d51e1ff2f1a9"
      },
      "source": [
        "df_train_set.head()\n"
      ],
      "execution_count": 5,
      "outputs": [
        {
          "output_type": "execute_result",
          "data": {
            "text/html": [
              "<div>\n",
              "<style scoped>\n",
              "    .dataframe tbody tr th:only-of-type {\n",
              "        vertical-align: middle;\n",
              "    }\n",
              "\n",
              "    .dataframe tbody tr th {\n",
              "        vertical-align: top;\n",
              "    }\n",
              "\n",
              "    .dataframe thead th {\n",
              "        text-align: right;\n",
              "    }\n",
              "</style>\n",
              "<table border=\"1\" class=\"dataframe\">\n",
              "  <thead>\n",
              "    <tr style=\"text-align: right;\">\n",
              "      <th></th>\n",
              "      <th>id</th>\n",
              "      <th>amount_tsh</th>\n",
              "      <th>date_recorded</th>\n",
              "      <th>funder</th>\n",
              "      <th>gps_height</th>\n",
              "      <th>installer</th>\n",
              "      <th>longitude</th>\n",
              "      <th>latitude</th>\n",
              "      <th>wpt_name</th>\n",
              "      <th>num_private</th>\n",
              "      <th>basin</th>\n",
              "      <th>subvillage</th>\n",
              "      <th>region</th>\n",
              "      <th>region_code</th>\n",
              "      <th>district_code</th>\n",
              "      <th>lga</th>\n",
              "      <th>ward</th>\n",
              "      <th>population</th>\n",
              "      <th>public_meeting</th>\n",
              "      <th>recorded_by</th>\n",
              "      <th>scheme_management</th>\n",
              "      <th>scheme_name</th>\n",
              "      <th>permit</th>\n",
              "      <th>construction_year</th>\n",
              "      <th>extraction_type</th>\n",
              "      <th>extraction_type_group</th>\n",
              "      <th>extraction_type_class</th>\n",
              "      <th>management</th>\n",
              "      <th>management_group</th>\n",
              "      <th>payment</th>\n",
              "      <th>payment_type</th>\n",
              "      <th>water_quality</th>\n",
              "      <th>quality_group</th>\n",
              "      <th>quantity</th>\n",
              "      <th>quantity_group</th>\n",
              "      <th>source</th>\n",
              "      <th>source_type</th>\n",
              "      <th>source_class</th>\n",
              "      <th>waterpoint_type</th>\n",
              "      <th>waterpoint_type_group</th>\n",
              "    </tr>\n",
              "  </thead>\n",
              "  <tbody>\n",
              "    <tr>\n",
              "      <th>0</th>\n",
              "      <td>69572</td>\n",
              "      <td>6000.0</td>\n",
              "      <td>2011-03-14</td>\n",
              "      <td>Roman</td>\n",
              "      <td>1390</td>\n",
              "      <td>Roman</td>\n",
              "      <td>34.938093</td>\n",
              "      <td>-9.856322</td>\n",
              "      <td>none</td>\n",
              "      <td>0</td>\n",
              "      <td>Lake Nyasa</td>\n",
              "      <td>Mnyusi B</td>\n",
              "      <td>Iringa</td>\n",
              "      <td>11</td>\n",
              "      <td>5</td>\n",
              "      <td>Ludewa</td>\n",
              "      <td>Mundindi</td>\n",
              "      <td>109</td>\n",
              "      <td>True</td>\n",
              "      <td>GeoData Consultants Ltd</td>\n",
              "      <td>VWC</td>\n",
              "      <td>Roman</td>\n",
              "      <td>False</td>\n",
              "      <td>1999</td>\n",
              "      <td>gravity</td>\n",
              "      <td>gravity</td>\n",
              "      <td>gravity</td>\n",
              "      <td>vwc</td>\n",
              "      <td>user-group</td>\n",
              "      <td>pay annually</td>\n",
              "      <td>annually</td>\n",
              "      <td>soft</td>\n",
              "      <td>good</td>\n",
              "      <td>enough</td>\n",
              "      <td>enough</td>\n",
              "      <td>spring</td>\n",
              "      <td>spring</td>\n",
              "      <td>groundwater</td>\n",
              "      <td>communal standpipe</td>\n",
              "      <td>communal standpipe</td>\n",
              "    </tr>\n",
              "    <tr>\n",
              "      <th>1</th>\n",
              "      <td>8776</td>\n",
              "      <td>0.0</td>\n",
              "      <td>2013-03-06</td>\n",
              "      <td>Grumeti</td>\n",
              "      <td>1399</td>\n",
              "      <td>GRUMETI</td>\n",
              "      <td>34.698766</td>\n",
              "      <td>-2.147466</td>\n",
              "      <td>Zahanati</td>\n",
              "      <td>0</td>\n",
              "      <td>Lake Victoria</td>\n",
              "      <td>Nyamara</td>\n",
              "      <td>Mara</td>\n",
              "      <td>20</td>\n",
              "      <td>2</td>\n",
              "      <td>Serengeti</td>\n",
              "      <td>Natta</td>\n",
              "      <td>280</td>\n",
              "      <td>NaN</td>\n",
              "      <td>GeoData Consultants Ltd</td>\n",
              "      <td>Other</td>\n",
              "      <td>NaN</td>\n",
              "      <td>True</td>\n",
              "      <td>2010</td>\n",
              "      <td>gravity</td>\n",
              "      <td>gravity</td>\n",
              "      <td>gravity</td>\n",
              "      <td>wug</td>\n",
              "      <td>user-group</td>\n",
              "      <td>never pay</td>\n",
              "      <td>never pay</td>\n",
              "      <td>soft</td>\n",
              "      <td>good</td>\n",
              "      <td>insufficient</td>\n",
              "      <td>insufficient</td>\n",
              "      <td>rainwater harvesting</td>\n",
              "      <td>rainwater harvesting</td>\n",
              "      <td>surface</td>\n",
              "      <td>communal standpipe</td>\n",
              "      <td>communal standpipe</td>\n",
              "    </tr>\n",
              "    <tr>\n",
              "      <th>2</th>\n",
              "      <td>34310</td>\n",
              "      <td>25.0</td>\n",
              "      <td>2013-02-25</td>\n",
              "      <td>Lottery Club</td>\n",
              "      <td>686</td>\n",
              "      <td>World vision</td>\n",
              "      <td>37.460664</td>\n",
              "      <td>-3.821329</td>\n",
              "      <td>Kwa Mahundi</td>\n",
              "      <td>0</td>\n",
              "      <td>Pangani</td>\n",
              "      <td>Majengo</td>\n",
              "      <td>Manyara</td>\n",
              "      <td>21</td>\n",
              "      <td>4</td>\n",
              "      <td>Simanjiro</td>\n",
              "      <td>Ngorika</td>\n",
              "      <td>250</td>\n",
              "      <td>True</td>\n",
              "      <td>GeoData Consultants Ltd</td>\n",
              "      <td>VWC</td>\n",
              "      <td>Nyumba ya mungu pipe scheme</td>\n",
              "      <td>True</td>\n",
              "      <td>2009</td>\n",
              "      <td>gravity</td>\n",
              "      <td>gravity</td>\n",
              "      <td>gravity</td>\n",
              "      <td>vwc</td>\n",
              "      <td>user-group</td>\n",
              "      <td>pay per bucket</td>\n",
              "      <td>per bucket</td>\n",
              "      <td>soft</td>\n",
              "      <td>good</td>\n",
              "      <td>enough</td>\n",
              "      <td>enough</td>\n",
              "      <td>dam</td>\n",
              "      <td>dam</td>\n",
              "      <td>surface</td>\n",
              "      <td>communal standpipe multiple</td>\n",
              "      <td>communal standpipe</td>\n",
              "    </tr>\n",
              "    <tr>\n",
              "      <th>3</th>\n",
              "      <td>67743</td>\n",
              "      <td>0.0</td>\n",
              "      <td>2013-01-28</td>\n",
              "      <td>Unicef</td>\n",
              "      <td>263</td>\n",
              "      <td>UNICEF</td>\n",
              "      <td>38.486161</td>\n",
              "      <td>-11.155298</td>\n",
              "      <td>Zahanati Ya Nanyumbu</td>\n",
              "      <td>0</td>\n",
              "      <td>Ruvuma / Southern Coast</td>\n",
              "      <td>Mahakamani</td>\n",
              "      <td>Mtwara</td>\n",
              "      <td>90</td>\n",
              "      <td>63</td>\n",
              "      <td>Nanyumbu</td>\n",
              "      <td>Nanyumbu</td>\n",
              "      <td>58</td>\n",
              "      <td>True</td>\n",
              "      <td>GeoData Consultants Ltd</td>\n",
              "      <td>VWC</td>\n",
              "      <td>NaN</td>\n",
              "      <td>True</td>\n",
              "      <td>1986</td>\n",
              "      <td>submersible</td>\n",
              "      <td>submersible</td>\n",
              "      <td>submersible</td>\n",
              "      <td>vwc</td>\n",
              "      <td>user-group</td>\n",
              "      <td>never pay</td>\n",
              "      <td>never pay</td>\n",
              "      <td>soft</td>\n",
              "      <td>good</td>\n",
              "      <td>dry</td>\n",
              "      <td>dry</td>\n",
              "      <td>machine dbh</td>\n",
              "      <td>borehole</td>\n",
              "      <td>groundwater</td>\n",
              "      <td>communal standpipe multiple</td>\n",
              "      <td>communal standpipe</td>\n",
              "    </tr>\n",
              "    <tr>\n",
              "      <th>4</th>\n",
              "      <td>19728</td>\n",
              "      <td>0.0</td>\n",
              "      <td>2011-07-13</td>\n",
              "      <td>Action In A</td>\n",
              "      <td>0</td>\n",
              "      <td>Artisan</td>\n",
              "      <td>31.130847</td>\n",
              "      <td>-1.825359</td>\n",
              "      <td>Shuleni</td>\n",
              "      <td>0</td>\n",
              "      <td>Lake Victoria</td>\n",
              "      <td>Kyanyamisa</td>\n",
              "      <td>Kagera</td>\n",
              "      <td>18</td>\n",
              "      <td>1</td>\n",
              "      <td>Karagwe</td>\n",
              "      <td>Nyakasimbi</td>\n",
              "      <td>0</td>\n",
              "      <td>True</td>\n",
              "      <td>GeoData Consultants Ltd</td>\n",
              "      <td>NaN</td>\n",
              "      <td>NaN</td>\n",
              "      <td>True</td>\n",
              "      <td>0</td>\n",
              "      <td>gravity</td>\n",
              "      <td>gravity</td>\n",
              "      <td>gravity</td>\n",
              "      <td>other</td>\n",
              "      <td>other</td>\n",
              "      <td>never pay</td>\n",
              "      <td>never pay</td>\n",
              "      <td>soft</td>\n",
              "      <td>good</td>\n",
              "      <td>seasonal</td>\n",
              "      <td>seasonal</td>\n",
              "      <td>rainwater harvesting</td>\n",
              "      <td>rainwater harvesting</td>\n",
              "      <td>surface</td>\n",
              "      <td>communal standpipe</td>\n",
              "      <td>communal standpipe</td>\n",
              "    </tr>\n",
              "  </tbody>\n",
              "</table>\n",
              "</div>"
            ],
            "text/plain": [
              "      id  amount_tsh  ...              waterpoint_type waterpoint_type_group\n",
              "0  69572      6000.0  ...           communal standpipe    communal standpipe\n",
              "1   8776         0.0  ...           communal standpipe    communal standpipe\n",
              "2  34310        25.0  ...  communal standpipe multiple    communal standpipe\n",
              "3  67743         0.0  ...  communal standpipe multiple    communal standpipe\n",
              "4  19728         0.0  ...           communal standpipe    communal standpipe\n",
              "\n",
              "[5 rows x 40 columns]"
            ]
          },
          "metadata": {},
          "execution_count": 5
        }
      ]
    },
    {
      "cell_type": "code",
      "metadata": {
        "colab": {
          "base_uri": "https://localhost:8080/"
        },
        "id": "oFa2FmNLl_PU",
        "outputId": "f703383b-7783-4059-f86c-5f6244d69f2d"
      },
      "source": [
        "df_train_set.isna().sum()"
      ],
      "execution_count": 6,
      "outputs": [
        {
          "output_type": "execute_result",
          "data": {
            "text/plain": [
              "id                           0\n",
              "amount_tsh                   0\n",
              "date_recorded                0\n",
              "funder                    3635\n",
              "gps_height                   0\n",
              "installer                 3655\n",
              "longitude                    0\n",
              "latitude                     0\n",
              "wpt_name                     0\n",
              "num_private                  0\n",
              "basin                        0\n",
              "subvillage                 371\n",
              "region                       0\n",
              "region_code                  0\n",
              "district_code                0\n",
              "lga                          0\n",
              "ward                         0\n",
              "population                   0\n",
              "public_meeting            3334\n",
              "recorded_by                  0\n",
              "scheme_management         3877\n",
              "scheme_name              28166\n",
              "permit                    3056\n",
              "construction_year            0\n",
              "extraction_type              0\n",
              "extraction_type_group        0\n",
              "extraction_type_class        0\n",
              "management                   0\n",
              "management_group             0\n",
              "payment                      0\n",
              "payment_type                 0\n",
              "water_quality                0\n",
              "quality_group                0\n",
              "quantity                     0\n",
              "quantity_group               0\n",
              "source                       0\n",
              "source_type                  0\n",
              "source_class                 0\n",
              "waterpoint_type              0\n",
              "waterpoint_type_group        0\n",
              "dtype: int64"
            ]
          },
          "metadata": {},
          "execution_count": 6
        }
      ]
    },
    {
      "cell_type": "code",
      "metadata": {
        "id": "M8AnTuHfv7Xg"
      },
      "source": [
        "test_set_values = pd.read_csv('/content/drive/My Drive/MLproject/test_set_values.csv')"
      ],
      "execution_count": 7,
      "outputs": []
    },
    {
      "cell_type": "code",
      "metadata": {
        "colab": {
          "base_uri": "https://localhost:8080/",
          "height": 425
        },
        "id": "WTFuxm1Rfp4H",
        "outputId": "65b4dd1b-6268-4c3d-b211-fc1469af514c"
      },
      "source": [
        "test_set_values.head()"
      ],
      "execution_count": 8,
      "outputs": [
        {
          "output_type": "execute_result",
          "data": {
            "text/html": [
              "<div>\n",
              "<style scoped>\n",
              "    .dataframe tbody tr th:only-of-type {\n",
              "        vertical-align: middle;\n",
              "    }\n",
              "\n",
              "    .dataframe tbody tr th {\n",
              "        vertical-align: top;\n",
              "    }\n",
              "\n",
              "    .dataframe thead th {\n",
              "        text-align: right;\n",
              "    }\n",
              "</style>\n",
              "<table border=\"1\" class=\"dataframe\">\n",
              "  <thead>\n",
              "    <tr style=\"text-align: right;\">\n",
              "      <th></th>\n",
              "      <th>id</th>\n",
              "      <th>amount_tsh</th>\n",
              "      <th>date_recorded</th>\n",
              "      <th>funder</th>\n",
              "      <th>gps_height</th>\n",
              "      <th>installer</th>\n",
              "      <th>longitude</th>\n",
              "      <th>latitude</th>\n",
              "      <th>wpt_name</th>\n",
              "      <th>num_private</th>\n",
              "      <th>basin</th>\n",
              "      <th>subvillage</th>\n",
              "      <th>region</th>\n",
              "      <th>region_code</th>\n",
              "      <th>district_code</th>\n",
              "      <th>lga</th>\n",
              "      <th>ward</th>\n",
              "      <th>population</th>\n",
              "      <th>public_meeting</th>\n",
              "      <th>recorded_by</th>\n",
              "      <th>scheme_management</th>\n",
              "      <th>scheme_name</th>\n",
              "      <th>permit</th>\n",
              "      <th>construction_year</th>\n",
              "      <th>extraction_type</th>\n",
              "      <th>extraction_type_group</th>\n",
              "      <th>extraction_type_class</th>\n",
              "      <th>management</th>\n",
              "      <th>management_group</th>\n",
              "      <th>payment</th>\n",
              "      <th>payment_type</th>\n",
              "      <th>water_quality</th>\n",
              "      <th>quality_group</th>\n",
              "      <th>quantity</th>\n",
              "      <th>quantity_group</th>\n",
              "      <th>source</th>\n",
              "      <th>source_type</th>\n",
              "      <th>source_class</th>\n",
              "      <th>waterpoint_type</th>\n",
              "      <th>waterpoint_type_group</th>\n",
              "    </tr>\n",
              "  </thead>\n",
              "  <tbody>\n",
              "    <tr>\n",
              "      <th>0</th>\n",
              "      <td>50785</td>\n",
              "      <td>0.0</td>\n",
              "      <td>2013-02-04</td>\n",
              "      <td>Dmdd</td>\n",
              "      <td>1996</td>\n",
              "      <td>DMDD</td>\n",
              "      <td>35.290799</td>\n",
              "      <td>-4.059696</td>\n",
              "      <td>Dinamu Secondary School</td>\n",
              "      <td>0</td>\n",
              "      <td>Internal</td>\n",
              "      <td>Magoma</td>\n",
              "      <td>Manyara</td>\n",
              "      <td>21</td>\n",
              "      <td>3</td>\n",
              "      <td>Mbulu</td>\n",
              "      <td>Bashay</td>\n",
              "      <td>321</td>\n",
              "      <td>True</td>\n",
              "      <td>GeoData Consultants Ltd</td>\n",
              "      <td>Parastatal</td>\n",
              "      <td>NaN</td>\n",
              "      <td>True</td>\n",
              "      <td>2012</td>\n",
              "      <td>other</td>\n",
              "      <td>other</td>\n",
              "      <td>other</td>\n",
              "      <td>parastatal</td>\n",
              "      <td>parastatal</td>\n",
              "      <td>never pay</td>\n",
              "      <td>never pay</td>\n",
              "      <td>soft</td>\n",
              "      <td>good</td>\n",
              "      <td>seasonal</td>\n",
              "      <td>seasonal</td>\n",
              "      <td>rainwater harvesting</td>\n",
              "      <td>rainwater harvesting</td>\n",
              "      <td>surface</td>\n",
              "      <td>other</td>\n",
              "      <td>other</td>\n",
              "    </tr>\n",
              "    <tr>\n",
              "      <th>1</th>\n",
              "      <td>51630</td>\n",
              "      <td>0.0</td>\n",
              "      <td>2013-02-04</td>\n",
              "      <td>Government Of Tanzania</td>\n",
              "      <td>1569</td>\n",
              "      <td>DWE</td>\n",
              "      <td>36.656709</td>\n",
              "      <td>-3.309214</td>\n",
              "      <td>Kimnyak</td>\n",
              "      <td>0</td>\n",
              "      <td>Pangani</td>\n",
              "      <td>Kimnyak</td>\n",
              "      <td>Arusha</td>\n",
              "      <td>2</td>\n",
              "      <td>2</td>\n",
              "      <td>Arusha Rural</td>\n",
              "      <td>Kimnyaki</td>\n",
              "      <td>300</td>\n",
              "      <td>True</td>\n",
              "      <td>GeoData Consultants Ltd</td>\n",
              "      <td>VWC</td>\n",
              "      <td>TPRI pipe line</td>\n",
              "      <td>True</td>\n",
              "      <td>2000</td>\n",
              "      <td>gravity</td>\n",
              "      <td>gravity</td>\n",
              "      <td>gravity</td>\n",
              "      <td>vwc</td>\n",
              "      <td>user-group</td>\n",
              "      <td>never pay</td>\n",
              "      <td>never pay</td>\n",
              "      <td>soft</td>\n",
              "      <td>good</td>\n",
              "      <td>insufficient</td>\n",
              "      <td>insufficient</td>\n",
              "      <td>spring</td>\n",
              "      <td>spring</td>\n",
              "      <td>groundwater</td>\n",
              "      <td>communal standpipe</td>\n",
              "      <td>communal standpipe</td>\n",
              "    </tr>\n",
              "    <tr>\n",
              "      <th>2</th>\n",
              "      <td>17168</td>\n",
              "      <td>0.0</td>\n",
              "      <td>2013-02-01</td>\n",
              "      <td>NaN</td>\n",
              "      <td>1567</td>\n",
              "      <td>NaN</td>\n",
              "      <td>34.767863</td>\n",
              "      <td>-5.004344</td>\n",
              "      <td>Puma Secondary</td>\n",
              "      <td>0</td>\n",
              "      <td>Internal</td>\n",
              "      <td>Msatu</td>\n",
              "      <td>Singida</td>\n",
              "      <td>13</td>\n",
              "      <td>2</td>\n",
              "      <td>Singida Rural</td>\n",
              "      <td>Puma</td>\n",
              "      <td>500</td>\n",
              "      <td>True</td>\n",
              "      <td>GeoData Consultants Ltd</td>\n",
              "      <td>VWC</td>\n",
              "      <td>P</td>\n",
              "      <td>NaN</td>\n",
              "      <td>2010</td>\n",
              "      <td>other</td>\n",
              "      <td>other</td>\n",
              "      <td>other</td>\n",
              "      <td>vwc</td>\n",
              "      <td>user-group</td>\n",
              "      <td>never pay</td>\n",
              "      <td>never pay</td>\n",
              "      <td>soft</td>\n",
              "      <td>good</td>\n",
              "      <td>insufficient</td>\n",
              "      <td>insufficient</td>\n",
              "      <td>rainwater harvesting</td>\n",
              "      <td>rainwater harvesting</td>\n",
              "      <td>surface</td>\n",
              "      <td>other</td>\n",
              "      <td>other</td>\n",
              "    </tr>\n",
              "    <tr>\n",
              "      <th>3</th>\n",
              "      <td>45559</td>\n",
              "      <td>0.0</td>\n",
              "      <td>2013-01-22</td>\n",
              "      <td>Finn Water</td>\n",
              "      <td>267</td>\n",
              "      <td>FINN WATER</td>\n",
              "      <td>38.058046</td>\n",
              "      <td>-9.418672</td>\n",
              "      <td>Kwa Mzee Pange</td>\n",
              "      <td>0</td>\n",
              "      <td>Ruvuma / Southern Coast</td>\n",
              "      <td>Kipindimbi</td>\n",
              "      <td>Lindi</td>\n",
              "      <td>80</td>\n",
              "      <td>43</td>\n",
              "      <td>Liwale</td>\n",
              "      <td>Mkutano</td>\n",
              "      <td>250</td>\n",
              "      <td>NaN</td>\n",
              "      <td>GeoData Consultants Ltd</td>\n",
              "      <td>VWC</td>\n",
              "      <td>NaN</td>\n",
              "      <td>True</td>\n",
              "      <td>1987</td>\n",
              "      <td>other</td>\n",
              "      <td>other</td>\n",
              "      <td>other</td>\n",
              "      <td>vwc</td>\n",
              "      <td>user-group</td>\n",
              "      <td>unknown</td>\n",
              "      <td>unknown</td>\n",
              "      <td>soft</td>\n",
              "      <td>good</td>\n",
              "      <td>dry</td>\n",
              "      <td>dry</td>\n",
              "      <td>shallow well</td>\n",
              "      <td>shallow well</td>\n",
              "      <td>groundwater</td>\n",
              "      <td>other</td>\n",
              "      <td>other</td>\n",
              "    </tr>\n",
              "    <tr>\n",
              "      <th>4</th>\n",
              "      <td>49871</td>\n",
              "      <td>500.0</td>\n",
              "      <td>2013-03-27</td>\n",
              "      <td>Bruder</td>\n",
              "      <td>1260</td>\n",
              "      <td>BRUDER</td>\n",
              "      <td>35.006123</td>\n",
              "      <td>-10.950412</td>\n",
              "      <td>Kwa Mzee Turuka</td>\n",
              "      <td>0</td>\n",
              "      <td>Ruvuma / Southern Coast</td>\n",
              "      <td>Losonga</td>\n",
              "      <td>Ruvuma</td>\n",
              "      <td>10</td>\n",
              "      <td>3</td>\n",
              "      <td>Mbinga</td>\n",
              "      <td>Mbinga Urban</td>\n",
              "      <td>60</td>\n",
              "      <td>NaN</td>\n",
              "      <td>GeoData Consultants Ltd</td>\n",
              "      <td>Water Board</td>\n",
              "      <td>BRUDER</td>\n",
              "      <td>True</td>\n",
              "      <td>2000</td>\n",
              "      <td>gravity</td>\n",
              "      <td>gravity</td>\n",
              "      <td>gravity</td>\n",
              "      <td>water board</td>\n",
              "      <td>user-group</td>\n",
              "      <td>pay monthly</td>\n",
              "      <td>monthly</td>\n",
              "      <td>soft</td>\n",
              "      <td>good</td>\n",
              "      <td>enough</td>\n",
              "      <td>enough</td>\n",
              "      <td>spring</td>\n",
              "      <td>spring</td>\n",
              "      <td>groundwater</td>\n",
              "      <td>communal standpipe</td>\n",
              "      <td>communal standpipe</td>\n",
              "    </tr>\n",
              "  </tbody>\n",
              "</table>\n",
              "</div>"
            ],
            "text/plain": [
              "      id  amount_tsh  ...     waterpoint_type waterpoint_type_group\n",
              "0  50785         0.0  ...               other                 other\n",
              "1  51630         0.0  ...  communal standpipe    communal standpipe\n",
              "2  17168         0.0  ...               other                 other\n",
              "3  45559         0.0  ...               other                 other\n",
              "4  49871       500.0  ...  communal standpipe    communal standpipe\n",
              "\n",
              "[5 rows x 40 columns]"
            ]
          },
          "metadata": {},
          "execution_count": 8
        }
      ]
    },
    {
      "cell_type": "code",
      "metadata": {
        "colab": {
          "base_uri": "https://localhost:8080/"
        },
        "id": "oqC6QMbUwh8c",
        "outputId": "b077ddb6-2f60-4710-fc1a-630e162fd75d"
      },
      "source": [
        "test_set_values.shape"
      ],
      "execution_count": 9,
      "outputs": [
        {
          "output_type": "execute_result",
          "data": {
            "text/plain": [
              "(14850, 40)"
            ]
          },
          "metadata": {},
          "execution_count": 9
        }
      ]
    },
    {
      "cell_type": "code",
      "metadata": {
        "id": "Xps1RZIsEc40"
      },
      "source": [
        "len_data = len(df_train_set)\n",
        "dataset =  pd.concat(objs=[df_train_set, test_set_values], axis=0).reset_index(drop=True)\n",
        "df = dataset.copy()\n",
        "df['status_group'] = df_train_labels['status_group']"
      ],
      "execution_count": 10,
      "outputs": []
    },
    {
      "cell_type": "code",
      "metadata": {
        "colab": {
          "base_uri": "https://localhost:8080/"
        },
        "id": "1ErQ3ehAfghW",
        "outputId": "2125533e-33ce-4770-a557-f1c523ac0994"
      },
      "source": [
        "dataset.isna().sum()"
      ],
      "execution_count": 11,
      "outputs": [
        {
          "output_type": "execute_result",
          "data": {
            "text/plain": [
              "id                           0\n",
              "amount_tsh                   0\n",
              "date_recorded                0\n",
              "funder                    4504\n",
              "gps_height                   0\n",
              "installer                 4532\n",
              "longitude                    0\n",
              "latitude                     0\n",
              "wpt_name                     0\n",
              "num_private                  0\n",
              "basin                        0\n",
              "subvillage                 470\n",
              "region                       0\n",
              "region_code                  0\n",
              "district_code                0\n",
              "lga                          0\n",
              "ward                         0\n",
              "population                   0\n",
              "public_meeting            4155\n",
              "recorded_by                  0\n",
              "scheme_management         4846\n",
              "scheme_name              35258\n",
              "permit                    3793\n",
              "construction_year            0\n",
              "extraction_type              0\n",
              "extraction_type_group        0\n",
              "extraction_type_class        0\n",
              "management                   0\n",
              "management_group             0\n",
              "payment                      0\n",
              "payment_type                 0\n",
              "water_quality                0\n",
              "quality_group                0\n",
              "quantity                     0\n",
              "quantity_group               0\n",
              "source                       0\n",
              "source_type                  0\n",
              "source_class                 0\n",
              "waterpoint_type              0\n",
              "waterpoint_type_group        0\n",
              "dtype: int64"
            ]
          },
          "metadata": {},
          "execution_count": 11
        }
      ]
    },
    {
      "cell_type": "code",
      "metadata": {
        "colab": {
          "base_uri": "https://localhost:8080/"
        },
        "id": "KrynrAqtf8U-",
        "outputId": "89e08ab0-3c1b-4f52-9556-10c77a753ad6"
      },
      "source": [
        "df.shape"
      ],
      "execution_count": 12,
      "outputs": [
        {
          "output_type": "execute_result",
          "data": {
            "text/plain": [
              "(74250, 41)"
            ]
          },
          "metadata": {},
          "execution_count": 12
        }
      ]
    },
    {
      "cell_type": "code",
      "metadata": {
        "id": "oe72J324DpTf"
      },
      "source": [
        "df.drop(columns=['date_recorded'],inplace=True )"
      ],
      "execution_count": 13,
      "outputs": []
    },
    {
      "cell_type": "code",
      "metadata": {
        "id": "Es7MhC9CvMh5"
      },
      "source": [
        "df_train_set.set_index('id',inplace=True)"
      ],
      "execution_count": 14,
      "outputs": []
    },
    {
      "cell_type": "code",
      "metadata": {
        "id": "QvR1T8-cvXXf"
      },
      "source": [
        "df_train_labels.set_index('id',inplace=True)"
      ],
      "execution_count": 15,
      "outputs": []
    },
    {
      "cell_type": "code",
      "metadata": {
        "id": "TcVrYEYevap-"
      },
      "source": [
        "#df = pd.merge(df_train_labels, df_train_set, how = 'inner', left_index = True,right_index=True)"
      ],
      "execution_count": 16,
      "outputs": []
    },
    {
      "cell_type": "code",
      "metadata": {
        "id": "8T5LPMsbvcqw"
      },
      "source": [
        "df.reset_index(inplace=True)"
      ],
      "execution_count": 17,
      "outputs": []
    },
    {
      "cell_type": "code",
      "metadata": {
        "colab": {
          "base_uri": "https://localhost:8080/"
        },
        "id": "jLu8DUjRvhS9",
        "outputId": "dc23d38b-c967-407e-e78d-b0e25a32f7c8"
      },
      "source": [
        "df.isna().sum()"
      ],
      "execution_count": 18,
      "outputs": [
        {
          "output_type": "execute_result",
          "data": {
            "text/plain": [
              "index                        0\n",
              "id                           0\n",
              "amount_tsh                   0\n",
              "funder                    4504\n",
              "gps_height                   0\n",
              "installer                 4532\n",
              "longitude                    0\n",
              "latitude                     0\n",
              "wpt_name                     0\n",
              "num_private                  0\n",
              "basin                        0\n",
              "subvillage                 470\n",
              "region                       0\n",
              "region_code                  0\n",
              "district_code                0\n",
              "lga                          0\n",
              "ward                         0\n",
              "population                   0\n",
              "public_meeting            4155\n",
              "recorded_by                  0\n",
              "scheme_management         4846\n",
              "scheme_name              35258\n",
              "permit                    3793\n",
              "construction_year            0\n",
              "extraction_type              0\n",
              "extraction_type_group        0\n",
              "extraction_type_class        0\n",
              "management                   0\n",
              "management_group             0\n",
              "payment                      0\n",
              "payment_type                 0\n",
              "water_quality                0\n",
              "quality_group                0\n",
              "quantity                     0\n",
              "quantity_group               0\n",
              "source                       0\n",
              "source_type                  0\n",
              "source_class                 0\n",
              "waterpoint_type              0\n",
              "waterpoint_type_group        0\n",
              "status_group             14850\n",
              "dtype: int64"
            ]
          },
          "metadata": {},
          "execution_count": 18
        }
      ]
    },
    {
      "cell_type": "code",
      "metadata": {
        "colab": {
          "base_uri": "https://localhost:8080/"
        },
        "id": "b9iP3cL7vrWP",
        "outputId": "db422fe3-0262-4681-dfec-23e9deeefe9a"
      },
      "source": [
        "test_set_values.isna().sum()"
      ],
      "execution_count": 19,
      "outputs": [
        {
          "output_type": "execute_result",
          "data": {
            "text/plain": [
              "id                          0\n",
              "amount_tsh                  0\n",
              "date_recorded               0\n",
              "funder                    869\n",
              "gps_height                  0\n",
              "installer                 877\n",
              "longitude                   0\n",
              "latitude                    0\n",
              "wpt_name                    0\n",
              "num_private                 0\n",
              "basin                       0\n",
              "subvillage                 99\n",
              "region                      0\n",
              "region_code                 0\n",
              "district_code               0\n",
              "lga                         0\n",
              "ward                        0\n",
              "population                  0\n",
              "public_meeting            821\n",
              "recorded_by                 0\n",
              "scheme_management         969\n",
              "scheme_name              7092\n",
              "permit                    737\n",
              "construction_year           0\n",
              "extraction_type             0\n",
              "extraction_type_group       0\n",
              "extraction_type_class       0\n",
              "management                  0\n",
              "management_group            0\n",
              "payment                     0\n",
              "payment_type                0\n",
              "water_quality               0\n",
              "quality_group               0\n",
              "quantity                    0\n",
              "quantity_group              0\n",
              "source                      0\n",
              "source_type                 0\n",
              "source_class                0\n",
              "waterpoint_type             0\n",
              "waterpoint_type_group       0\n",
              "dtype: int64"
            ]
          },
          "metadata": {},
          "execution_count": 19
        }
      ]
    },
    {
      "cell_type": "code",
      "metadata": {
        "colab": {
          "base_uri": "https://localhost:8080/",
          "height": 295
        },
        "id": "HNaUycR1wdw9",
        "outputId": "0ca059c0-f094-4dd9-fc8b-82a0e946da84"
      },
      "source": [
        "df.describe()"
      ],
      "execution_count": 20,
      "outputs": [
        {
          "output_type": "execute_result",
          "data": {
            "text/html": [
              "<div>\n",
              "<style scoped>\n",
              "    .dataframe tbody tr th:only-of-type {\n",
              "        vertical-align: middle;\n",
              "    }\n",
              "\n",
              "    .dataframe tbody tr th {\n",
              "        vertical-align: top;\n",
              "    }\n",
              "\n",
              "    .dataframe thead th {\n",
              "        text-align: right;\n",
              "    }\n",
              "</style>\n",
              "<table border=\"1\" class=\"dataframe\">\n",
              "  <thead>\n",
              "    <tr style=\"text-align: right;\">\n",
              "      <th></th>\n",
              "      <th>index</th>\n",
              "      <th>id</th>\n",
              "      <th>amount_tsh</th>\n",
              "      <th>gps_height</th>\n",
              "      <th>longitude</th>\n",
              "      <th>latitude</th>\n",
              "      <th>num_private</th>\n",
              "      <th>region_code</th>\n",
              "      <th>district_code</th>\n",
              "      <th>population</th>\n",
              "      <th>construction_year</th>\n",
              "    </tr>\n",
              "  </thead>\n",
              "  <tbody>\n",
              "    <tr>\n",
              "      <th>count</th>\n",
              "      <td>74250.000000</td>\n",
              "      <td>74250.000000</td>\n",
              "      <td>74250.000000</td>\n",
              "      <td>74250.000000</td>\n",
              "      <td>74250.000000</td>\n",
              "      <td>7.425000e+04</td>\n",
              "      <td>74250.000000</td>\n",
              "      <td>74250.000000</td>\n",
              "      <td>74250.000000</td>\n",
              "      <td>74250.000000</td>\n",
              "      <td>74250.000000</td>\n",
              "    </tr>\n",
              "    <tr>\n",
              "      <th>mean</th>\n",
              "      <td>37124.500000</td>\n",
              "      <td>37124.500000</td>\n",
              "      <td>318.685704</td>\n",
              "      <td>665.667313</td>\n",
              "      <td>34.074262</td>\n",
              "      <td>-5.701771e+00</td>\n",
              "      <td>0.462330</td>\n",
              "      <td>15.265414</td>\n",
              "      <td>5.629077</td>\n",
              "      <td>180.750828</td>\n",
              "      <td>1298.463650</td>\n",
              "    </tr>\n",
              "    <tr>\n",
              "      <th>std</th>\n",
              "      <td>21434.273081</td>\n",
              "      <td>21434.273081</td>\n",
              "      <td>2906.762364</td>\n",
              "      <td>692.761033</td>\n",
              "      <td>6.572519</td>\n",
              "      <td>2.944969e+00</td>\n",
              "      <td>11.537879</td>\n",
              "      <td>17.508907</td>\n",
              "      <td>9.641636</td>\n",
              "      <td>471.086120</td>\n",
              "      <td>952.349375</td>\n",
              "    </tr>\n",
              "    <tr>\n",
              "      <th>min</th>\n",
              "      <td>0.000000</td>\n",
              "      <td>0.000000</td>\n",
              "      <td>0.000000</td>\n",
              "      <td>-90.000000</td>\n",
              "      <td>0.000000</td>\n",
              "      <td>-1.164944e+01</td>\n",
              "      <td>0.000000</td>\n",
              "      <td>1.000000</td>\n",
              "      <td>0.000000</td>\n",
              "      <td>0.000000</td>\n",
              "      <td>0.000000</td>\n",
              "    </tr>\n",
              "    <tr>\n",
              "      <th>25%</th>\n",
              "      <td>18562.250000</td>\n",
              "      <td>18562.250000</td>\n",
              "      <td>0.000000</td>\n",
              "      <td>0.000000</td>\n",
              "      <td>33.086819</td>\n",
              "      <td>-8.525675e+00</td>\n",
              "      <td>0.000000</td>\n",
              "      <td>5.000000</td>\n",
              "      <td>2.000000</td>\n",
              "      <td>0.000000</td>\n",
              "      <td>0.000000</td>\n",
              "    </tr>\n",
              "    <tr>\n",
              "      <th>50%</th>\n",
              "      <td>37124.500000</td>\n",
              "      <td>37124.500000</td>\n",
              "      <td>0.000000</td>\n",
              "      <td>364.000000</td>\n",
              "      <td>34.907475</td>\n",
              "      <td>-5.026540e+00</td>\n",
              "      <td>0.000000</td>\n",
              "      <td>12.000000</td>\n",
              "      <td>3.000000</td>\n",
              "      <td>25.000000</td>\n",
              "      <td>1986.000000</td>\n",
              "    </tr>\n",
              "    <tr>\n",
              "      <th>75%</th>\n",
              "      <td>55686.750000</td>\n",
              "      <td>55686.750000</td>\n",
              "      <td>20.000000</td>\n",
              "      <td>1317.000000</td>\n",
              "      <td>37.181685</td>\n",
              "      <td>-3.325058e+00</td>\n",
              "      <td>0.000000</td>\n",
              "      <td>17.000000</td>\n",
              "      <td>5.000000</td>\n",
              "      <td>215.000000</td>\n",
              "      <td>2004.000000</td>\n",
              "    </tr>\n",
              "    <tr>\n",
              "      <th>max</th>\n",
              "      <td>74249.000000</td>\n",
              "      <td>74249.000000</td>\n",
              "      <td>350000.000000</td>\n",
              "      <td>2777.000000</td>\n",
              "      <td>40.345193</td>\n",
              "      <td>-2.000000e-08</td>\n",
              "      <td>1776.000000</td>\n",
              "      <td>99.000000</td>\n",
              "      <td>80.000000</td>\n",
              "      <td>30500.000000</td>\n",
              "      <td>2013.000000</td>\n",
              "    </tr>\n",
              "  </tbody>\n",
              "</table>\n",
              "</div>"
            ],
            "text/plain": [
              "              index            id  ...    population  construction_year\n",
              "count  74250.000000  74250.000000  ...  74250.000000       74250.000000\n",
              "mean   37124.500000  37124.500000  ...    180.750828        1298.463650\n",
              "std    21434.273081  21434.273081  ...    471.086120         952.349375\n",
              "min        0.000000      0.000000  ...      0.000000           0.000000\n",
              "25%    18562.250000  18562.250000  ...      0.000000           0.000000\n",
              "50%    37124.500000  37124.500000  ...     25.000000        1986.000000\n",
              "75%    55686.750000  55686.750000  ...    215.000000        2004.000000\n",
              "max    74249.000000  74249.000000  ...  30500.000000        2013.000000\n",
              "\n",
              "[8 rows x 11 columns]"
            ]
          },
          "metadata": {},
          "execution_count": 20
        }
      ]
    },
    {
      "cell_type": "code",
      "metadata": {
        "colab": {
          "base_uri": "https://localhost:8080/"
        },
        "id": "LPKfhygo99S3",
        "outputId": "1e17899c-3aff-48b6-fab9-70b3bdf1053f"
      },
      "source": [
        "df['scheme_management'].value_counts()"
      ],
      "execution_count": 21,
      "outputs": [
        {
          "output_type": "execute_result",
          "data": {
            "text/plain": [
              "VWC                 45917\n",
              "WUG                  6496\n",
              "Water authority      3975\n",
              "WUA                  3551\n",
              "Water Board          3462\n",
              "Parastatal           2124\n",
              "Company              1341\n",
              "Private operator     1326\n",
              "Other                 996\n",
              "SWC                   123\n",
              "Trust                  92\n",
              "None                    1\n",
              "Name: scheme_management, dtype: int64"
            ]
          },
          "metadata": {},
          "execution_count": 21
        }
      ]
    },
    {
      "cell_type": "code",
      "metadata": {
        "colab": {
          "base_uri": "https://localhost:8080/"
        },
        "id": "INY0xuVh9_u8",
        "outputId": "424a7c46-a77c-4644-caf8-3942bcfa6388"
      },
      "source": [
        "df['management'].value_counts()"
      ],
      "execution_count": 22,
      "outputs": [
        {
          "output_type": "execute_result",
          "data": {
            "text/plain": [
              "vwc                 50624\n",
              "wug                  8108\n",
              "water board          3688\n",
              "wua                  3118\n",
              "private operator     2504\n",
              "parastatal           2229\n",
              "water authority      1123\n",
              "other                1083\n",
              "company               859\n",
              "unknown               683\n",
              "other - school        126\n",
              "trust                 105\n",
              "Name: management, dtype: int64"
            ]
          },
          "metadata": {},
          "execution_count": 22
        }
      ]
    },
    {
      "cell_type": "code",
      "metadata": {
        "colab": {
          "base_uri": "https://localhost:8080/"
        },
        "id": "T-FOvSh7-Brd",
        "outputId": "9622074e-348b-4cc1-c5da-fc0eeeed66fe"
      },
      "source": [
        "df['quantity'].value_counts()"
      ],
      "execution_count": 23,
      "outputs": [
        {
          "output_type": "execute_result",
          "data": {
            "text/plain": [
              "enough          41522\n",
              "insufficient    18896\n",
              "dry              7782\n",
              "seasonal         5075\n",
              "unknown           975\n",
              "Name: quantity, dtype: int64"
            ]
          },
          "metadata": {},
          "execution_count": 23
        }
      ]
    },
    {
      "cell_type": "code",
      "metadata": {
        "colab": {
          "base_uri": "https://localhost:8080/"
        },
        "id": "ueCxzDpO_O0P",
        "outputId": "72ff587e-a0b7-4fc0-e0fb-8e87c1801f32"
      },
      "source": [
        "df['quantity_group'].value_counts()"
      ],
      "execution_count": 24,
      "outputs": [
        {
          "output_type": "execute_result",
          "data": {
            "text/plain": [
              "enough          41522\n",
              "insufficient    18896\n",
              "dry              7782\n",
              "seasonal         5075\n",
              "unknown           975\n",
              "Name: quantity_group, dtype: int64"
            ]
          },
          "metadata": {},
          "execution_count": 24
        }
      ]
    },
    {
      "cell_type": "code",
      "metadata": {
        "colab": {
          "base_uri": "https://localhost:8080/",
          "height": 285
        },
        "id": "WemA5_a4_a51",
        "outputId": "d1b59c70-445c-416c-ab47-67e99c39b492"
      },
      "source": [
        "ax = sns.countplot(x='quantity', hue=\"status_group\", data=df)"
      ],
      "execution_count": 25,
      "outputs": [
        {
          "output_type": "display_data",
          "data": {
            "image/png": "[encoded data removed]",
            "text/plain": [
              "<Figure size 432x288 with 1 Axes>"
            ]
          },
          "metadata": {
            "needs_background": "light"
          }
        }
      ]
    },
    {
      "cell_type": "code",
      "metadata": {
        "colab": {
          "base_uri": "https://localhost:8080/",
          "height": 285
        },
        "id": "bIcqG_nz_cu1",
        "outputId": "72c7e972-5e48-4448-ca9c-0a5cb5d143c6"
      },
      "source": [
        "ax = sns.countplot(x='quantity_group', hue=\"status_group\", data=df)"
      ],
      "execution_count": 26,
      "outputs": [
        {
          "output_type": "display_data",
          "data": {
            "image/png": "[encoded data removed]",
            "text/plain": [
              "<Figure size 432x288 with 1 Axes>"
            ]
          },
          "metadata": {
            "needs_background": "light"
          }
        }
      ]
    },
    {
      "cell_type": "code",
      "metadata": {
        "colab": {
          "base_uri": "https://localhost:8080/"
        },
        "id": "tCo9R9uf_ed-",
        "outputId": "d477bfd6-6d72-4a6f-97f7-4afdb97f538e"
      },
      "source": [
        "df['source'].value_counts()"
      ],
      "execution_count": 27,
      "outputs": [
        {
          "output_type": "execute_result",
          "data": {
            "text/plain": [
              "spring                  21216\n",
              "shallow well            21140\n",
              "machine dbh             13822\n",
              "river                   11964\n",
              "rainwater harvesting     2863\n",
              "hand dtw                 1108\n",
              "lake                      950\n",
              "dam                       840\n",
              "other                     261\n",
              "unknown                    86\n",
              "Name: source, dtype: int64"
            ]
          },
          "metadata": {},
          "execution_count": 27
        }
      ]
    },
    {
      "cell_type": "code",
      "metadata": {
        "colab": {
          "base_uri": "https://localhost:8080/"
        },
        "id": "hracarcO_ga2",
        "outputId": "6f5d63f0-74bb-4492-dc1d-9db089b1f03c"
      },
      "source": [
        "df['source_type'].value_counts()"
      ],
      "execution_count": 28,
      "outputs": [
        {
          "output_type": "execute_result",
          "data": {
            "text/plain": [
              "spring                  21216\n",
              "shallow well            21140\n",
              "borehole                14930\n",
              "river/lake              12914\n",
              "rainwater harvesting     2863\n",
              "dam                       840\n",
              "other                     347\n",
              "Name: source_type, dtype: int64"
            ]
          },
          "metadata": {},
          "execution_count": 28
        }
      ]
    },
    {
      "cell_type": "code",
      "metadata": {
        "colab": {
          "base_uri": "https://localhost:8080/"
        },
        "id": "4J40CmW0_iH2",
        "outputId": "0d75e779-f1bb-45e7-cc69-691ac88ca4c3"
      },
      "source": [
        "df['source_class'].value_counts()"
      ],
      "execution_count": 29,
      "outputs": [
        {
          "output_type": "execute_result",
          "data": {
            "text/plain": [
              "groundwater    57286\n",
              "surface        16617\n",
              "unknown          347\n",
              "Name: source_class, dtype: int64"
            ]
          },
          "metadata": {},
          "execution_count": 29
        }
      ]
    },
    {
      "cell_type": "code",
      "metadata": {
        "colab": {
          "base_uri": "https://localhost:8080/",
          "height": 458
        },
        "id": "c9PRUsRk_jvW",
        "outputId": "baf85024-1ed6-4e07-b0b8-b3d94e366050"
      },
      "source": [
        "df.groupby(['source_class','source']).count()"
      ],
      "execution_count": 30,
      "outputs": [
        {
          "output_type": "execute_result",
          "data": {
            "text/html": [
              "<div>\n",
              "<style scoped>\n",
              "    .dataframe tbody tr th:only-of-type {\n",
              "        vertical-align: middle;\n",
              "    }\n",
              "\n",
              "    .dataframe tbody tr th {\n",
              "        vertical-align: top;\n",
              "    }\n",
              "\n",
              "    .dataframe thead th {\n",
              "        text-align: right;\n",
              "    }\n",
              "</style>\n",
              "<table border=\"1\" class=\"dataframe\">\n",
              "  <thead>\n",
              "    <tr style=\"text-align: right;\">\n",
              "      <th></th>\n",
              "      <th></th>\n",
              "      <th>index</th>\n",
              "      <th>id</th>\n",
              "      <th>amount_tsh</th>\n",
              "      <th>funder</th>\n",
              "      <th>gps_height</th>\n",
              "      <th>installer</th>\n",
              "      <th>longitude</th>\n",
              "      <th>latitude</th>\n",
              "      <th>wpt_name</th>\n",
              "      <th>num_private</th>\n",
              "      <th>basin</th>\n",
              "      <th>subvillage</th>\n",
              "      <th>region</th>\n",
              "      <th>region_code</th>\n",
              "      <th>district_code</th>\n",
              "      <th>lga</th>\n",
              "      <th>ward</th>\n",
              "      <th>population</th>\n",
              "      <th>public_meeting</th>\n",
              "      <th>recorded_by</th>\n",
              "      <th>scheme_management</th>\n",
              "      <th>scheme_name</th>\n",
              "      <th>permit</th>\n",
              "      <th>construction_year</th>\n",
              "      <th>extraction_type</th>\n",
              "      <th>extraction_type_group</th>\n",
              "      <th>extraction_type_class</th>\n",
              "      <th>management</th>\n",
              "      <th>management_group</th>\n",
              "      <th>payment</th>\n",
              "      <th>payment_type</th>\n",
              "      <th>water_quality</th>\n",
              "      <th>quality_group</th>\n",
              "      <th>quantity</th>\n",
              "      <th>quantity_group</th>\n",
              "      <th>source_type</th>\n",
              "      <th>waterpoint_type</th>\n",
              "      <th>waterpoint_type_group</th>\n",
              "      <th>status_group</th>\n",
              "    </tr>\n",
              "    <tr>\n",
              "      <th>source_class</th>\n",
              "      <th>source</th>\n",
              "      <th></th>\n",
              "      <th></th>\n",
              "      <th></th>\n",
              "      <th></th>\n",
              "      <th></th>\n",
              "      <th></th>\n",
              "      <th></th>\n",
              "      <th></th>\n",
              "      <th></th>\n",
              "      <th></th>\n",
              "      <th></th>\n",
              "      <th></th>\n",
              "      <th></th>\n",
              "      <th></th>\n",
              "      <th></th>\n",
              "      <th></th>\n",
              "      <th></th>\n",
              "      <th></th>\n",
              "      <th></th>\n",
              "      <th></th>\n",
              "      <th></th>\n",
              "      <th></th>\n",
              "      <th></th>\n",
              "      <th></th>\n",
              "      <th></th>\n",
              "      <th></th>\n",
              "      <th></th>\n",
              "      <th></th>\n",
              "      <th></th>\n",
              "      <th></th>\n",
              "      <th></th>\n",
              "      <th></th>\n",
              "      <th></th>\n",
              "      <th></th>\n",
              "      <th></th>\n",
              "      <th></th>\n",
              "      <th></th>\n",
              "      <th></th>\n",
              "      <th></th>\n",
              "    </tr>\n",
              "  </thead>\n",
              "  <tbody>\n",
              "    <tr>\n",
              "      <th rowspan=\"4\" valign=\"top\">groundwater</th>\n",
              "      <th>hand dtw</th>\n",
              "      <td>1108</td>\n",
              "      <td>1108</td>\n",
              "      <td>1108</td>\n",
              "      <td>1098</td>\n",
              "      <td>1108</td>\n",
              "      <td>1098</td>\n",
              "      <td>1108</td>\n",
              "      <td>1108</td>\n",
              "      <td>1108</td>\n",
              "      <td>1108</td>\n",
              "      <td>1108</td>\n",
              "      <td>1108</td>\n",
              "      <td>1108</td>\n",
              "      <td>1108</td>\n",
              "      <td>1108</td>\n",
              "      <td>1108</td>\n",
              "      <td>1108</td>\n",
              "      <td>1108</td>\n",
              "      <td>997</td>\n",
              "      <td>1108</td>\n",
              "      <td>1100</td>\n",
              "      <td>159</td>\n",
              "      <td>1099</td>\n",
              "      <td>1108</td>\n",
              "      <td>1108</td>\n",
              "      <td>1108</td>\n",
              "      <td>1108</td>\n",
              "      <td>1108</td>\n",
              "      <td>1108</td>\n",
              "      <td>1108</td>\n",
              "      <td>1108</td>\n",
              "      <td>1108</td>\n",
              "      <td>1108</td>\n",
              "      <td>1108</td>\n",
              "      <td>1108</td>\n",
              "      <td>1108</td>\n",
              "      <td>1108</td>\n",
              "      <td>1108</td>\n",
              "      <td>874</td>\n",
              "    </tr>\n",
              "    <tr>\n",
              "      <th>machine dbh</th>\n",
              "      <td>13822</td>\n",
              "      <td>13822</td>\n",
              "      <td>13822</td>\n",
              "      <td>12816</td>\n",
              "      <td>13822</td>\n",
              "      <td>12807</td>\n",
              "      <td>13822</td>\n",
              "      <td>13822</td>\n",
              "      <td>13822</td>\n",
              "      <td>13822</td>\n",
              "      <td>13822</td>\n",
              "      <td>13532</td>\n",
              "      <td>13822</td>\n",
              "      <td>13822</td>\n",
              "      <td>13822</td>\n",
              "      <td>13822</td>\n",
              "      <td>13822</td>\n",
              "      <td>13822</td>\n",
              "      <td>12791</td>\n",
              "      <td>13822</td>\n",
              "      <td>13201</td>\n",
              "      <td>6854</td>\n",
              "      <td>12874</td>\n",
              "      <td>13822</td>\n",
              "      <td>13822</td>\n",
              "      <td>13822</td>\n",
              "      <td>13822</td>\n",
              "      <td>13822</td>\n",
              "      <td>13822</td>\n",
              "      <td>13822</td>\n",
              "      <td>13822</td>\n",
              "      <td>13822</td>\n",
              "      <td>13822</td>\n",
              "      <td>13822</td>\n",
              "      <td>13822</td>\n",
              "      <td>13822</td>\n",
              "      <td>13822</td>\n",
              "      <td>13822</td>\n",
              "      <td>11075</td>\n",
              "    </tr>\n",
              "    <tr>\n",
              "      <th>shallow well</th>\n",
              "      <td>21140</td>\n",
              "      <td>21140</td>\n",
              "      <td>21140</td>\n",
              "      <td>20507</td>\n",
              "      <td>21140</td>\n",
              "      <td>20490</td>\n",
              "      <td>21140</td>\n",
              "      <td>21140</td>\n",
              "      <td>21140</td>\n",
              "      <td>21140</td>\n",
              "      <td>21140</td>\n",
              "      <td>21132</td>\n",
              "      <td>21140</td>\n",
              "      <td>21140</td>\n",
              "      <td>21140</td>\n",
              "      <td>21140</td>\n",
              "      <td>21140</td>\n",
              "      <td>21140</td>\n",
              "      <td>19506</td>\n",
              "      <td>21140</td>\n",
              "      <td>17741</td>\n",
              "      <td>1396</td>\n",
              "      <td>20431</td>\n",
              "      <td>21140</td>\n",
              "      <td>21140</td>\n",
              "      <td>21140</td>\n",
              "      <td>21140</td>\n",
              "      <td>21140</td>\n",
              "      <td>21140</td>\n",
              "      <td>21140</td>\n",
              "      <td>21140</td>\n",
              "      <td>21140</td>\n",
              "      <td>21140</td>\n",
              "      <td>21140</td>\n",
              "      <td>21140</td>\n",
              "      <td>21140</td>\n",
              "      <td>21140</td>\n",
              "      <td>21140</td>\n",
              "      <td>16824</td>\n",
              "    </tr>\n",
              "    <tr>\n",
              "      <th>spring</th>\n",
              "      <td>21216</td>\n",
              "      <td>21216</td>\n",
              "      <td>21216</td>\n",
              "      <td>19778</td>\n",
              "      <td>21216</td>\n",
              "      <td>19778</td>\n",
              "      <td>21216</td>\n",
              "      <td>21216</td>\n",
              "      <td>21216</td>\n",
              "      <td>21216</td>\n",
              "      <td>21216</td>\n",
              "      <td>21047</td>\n",
              "      <td>21216</td>\n",
              "      <td>21216</td>\n",
              "      <td>21216</td>\n",
              "      <td>21216</td>\n",
              "      <td>21216</td>\n",
              "      <td>21216</td>\n",
              "      <td>20443</td>\n",
              "      <td>21216</td>\n",
              "      <td>20901</td>\n",
              "      <td>18625</td>\n",
              "      <td>19921</td>\n",
              "      <td>21216</td>\n",
              "      <td>21216</td>\n",
              "      <td>21216</td>\n",
              "      <td>21216</td>\n",
              "      <td>21216</td>\n",
              "      <td>21216</td>\n",
              "      <td>21216</td>\n",
              "      <td>21216</td>\n",
              "      <td>21216</td>\n",
              "      <td>21216</td>\n",
              "      <td>21216</td>\n",
              "      <td>21216</td>\n",
              "      <td>21216</td>\n",
              "      <td>21216</td>\n",
              "      <td>21216</td>\n",
              "      <td>17021</td>\n",
              "    </tr>\n",
              "    <tr>\n",
              "      <th rowspan=\"4\" valign=\"top\">surface</th>\n",
              "      <th>dam</th>\n",
              "      <td>840</td>\n",
              "      <td>840</td>\n",
              "      <td>840</td>\n",
              "      <td>828</td>\n",
              "      <td>840</td>\n",
              "      <td>828</td>\n",
              "      <td>840</td>\n",
              "      <td>840</td>\n",
              "      <td>840</td>\n",
              "      <td>840</td>\n",
              "      <td>840</td>\n",
              "      <td>840</td>\n",
              "      <td>840</td>\n",
              "      <td>840</td>\n",
              "      <td>840</td>\n",
              "      <td>840</td>\n",
              "      <td>840</td>\n",
              "      <td>840</td>\n",
              "      <td>786</td>\n",
              "      <td>840</td>\n",
              "      <td>825</td>\n",
              "      <td>592</td>\n",
              "      <td>801</td>\n",
              "      <td>840</td>\n",
              "      <td>840</td>\n",
              "      <td>840</td>\n",
              "      <td>840</td>\n",
              "      <td>840</td>\n",
              "      <td>840</td>\n",
              "      <td>840</td>\n",
              "      <td>840</td>\n",
              "      <td>840</td>\n",
              "      <td>840</td>\n",
              "      <td>840</td>\n",
              "      <td>840</td>\n",
              "      <td>840</td>\n",
              "      <td>840</td>\n",
              "      <td>840</td>\n",
              "      <td>656</td>\n",
              "    </tr>\n",
              "    <tr>\n",
              "      <th>lake</th>\n",
              "      <td>950</td>\n",
              "      <td>950</td>\n",
              "      <td>950</td>\n",
              "      <td>946</td>\n",
              "      <td>950</td>\n",
              "      <td>945</td>\n",
              "      <td>950</td>\n",
              "      <td>950</td>\n",
              "      <td>950</td>\n",
              "      <td>950</td>\n",
              "      <td>950</td>\n",
              "      <td>949</td>\n",
              "      <td>950</td>\n",
              "      <td>950</td>\n",
              "      <td>950</td>\n",
              "      <td>950</td>\n",
              "      <td>950</td>\n",
              "      <td>950</td>\n",
              "      <td>780</td>\n",
              "      <td>950</td>\n",
              "      <td>919</td>\n",
              "      <td>762</td>\n",
              "      <td>950</td>\n",
              "      <td>950</td>\n",
              "      <td>950</td>\n",
              "      <td>950</td>\n",
              "      <td>950</td>\n",
              "      <td>950</td>\n",
              "      <td>950</td>\n",
              "      <td>950</td>\n",
              "      <td>950</td>\n",
              "      <td>950</td>\n",
              "      <td>950</td>\n",
              "      <td>950</td>\n",
              "      <td>950</td>\n",
              "      <td>950</td>\n",
              "      <td>950</td>\n",
              "      <td>950</td>\n",
              "      <td>765</td>\n",
              "    </tr>\n",
              "    <tr>\n",
              "      <th>rainwater harvesting</th>\n",
              "      <td>2863</td>\n",
              "      <td>2863</td>\n",
              "      <td>2863</td>\n",
              "      <td>2607</td>\n",
              "      <td>2863</td>\n",
              "      <td>2600</td>\n",
              "      <td>2863</td>\n",
              "      <td>2863</td>\n",
              "      <td>2863</td>\n",
              "      <td>2863</td>\n",
              "      <td>2863</td>\n",
              "      <td>2861</td>\n",
              "      <td>2863</td>\n",
              "      <td>2863</td>\n",
              "      <td>2863</td>\n",
              "      <td>2863</td>\n",
              "      <td>2863</td>\n",
              "      <td>2863</td>\n",
              "      <td>2609</td>\n",
              "      <td>2863</td>\n",
              "      <td>2577</td>\n",
              "      <td>397</td>\n",
              "      <td>2536</td>\n",
              "      <td>2863</td>\n",
              "      <td>2863</td>\n",
              "      <td>2863</td>\n",
              "      <td>2863</td>\n",
              "      <td>2863</td>\n",
              "      <td>2863</td>\n",
              "      <td>2863</td>\n",
              "      <td>2863</td>\n",
              "      <td>2863</td>\n",
              "      <td>2863</td>\n",
              "      <td>2863</td>\n",
              "      <td>2863</td>\n",
              "      <td>2863</td>\n",
              "      <td>2863</td>\n",
              "      <td>2863</td>\n",
              "      <td>2295</td>\n",
              "    </tr>\n",
              "    <tr>\n",
              "      <th>river</th>\n",
              "      <td>11964</td>\n",
              "      <td>11964</td>\n",
              "      <td>11964</td>\n",
              "      <td>10854</td>\n",
              "      <td>11964</td>\n",
              "      <td>10860</td>\n",
              "      <td>11964</td>\n",
              "      <td>11964</td>\n",
              "      <td>11964</td>\n",
              "      <td>11964</td>\n",
              "      <td>11964</td>\n",
              "      <td>11964</td>\n",
              "      <td>11964</td>\n",
              "      <td>11964</td>\n",
              "      <td>11964</td>\n",
              "      <td>11964</td>\n",
              "      <td>11964</td>\n",
              "      <td>11964</td>\n",
              "      <td>11875</td>\n",
              "      <td>11964</td>\n",
              "      <td>11837</td>\n",
              "      <td>9998</td>\n",
              "      <td>11514</td>\n",
              "      <td>11964</td>\n",
              "      <td>11964</td>\n",
              "      <td>11964</td>\n",
              "      <td>11964</td>\n",
              "      <td>11964</td>\n",
              "      <td>11964</td>\n",
              "      <td>11964</td>\n",
              "      <td>11964</td>\n",
              "      <td>11964</td>\n",
              "      <td>11964</td>\n",
              "      <td>11964</td>\n",
              "      <td>11964</td>\n",
              "      <td>11964</td>\n",
              "      <td>11964</td>\n",
              "      <td>11964</td>\n",
              "      <td>9612</td>\n",
              "    </tr>\n",
              "    <tr>\n",
              "      <th rowspan=\"2\" valign=\"top\">unknown</th>\n",
              "      <th>other</th>\n",
              "      <td>261</td>\n",
              "      <td>261</td>\n",
              "      <td>261</td>\n",
              "      <td>253</td>\n",
              "      <td>261</td>\n",
              "      <td>253</td>\n",
              "      <td>261</td>\n",
              "      <td>261</td>\n",
              "      <td>261</td>\n",
              "      <td>261</td>\n",
              "      <td>261</td>\n",
              "      <td>261</td>\n",
              "      <td>261</td>\n",
              "      <td>261</td>\n",
              "      <td>261</td>\n",
              "      <td>261</td>\n",
              "      <td>261</td>\n",
              "      <td>261</td>\n",
              "      <td>247</td>\n",
              "      <td>261</td>\n",
              "      <td>243</td>\n",
              "      <td>177</td>\n",
              "      <td>257</td>\n",
              "      <td>261</td>\n",
              "      <td>261</td>\n",
              "      <td>261</td>\n",
              "      <td>261</td>\n",
              "      <td>261</td>\n",
              "      <td>261</td>\n",
              "      <td>261</td>\n",
              "      <td>261</td>\n",
              "      <td>261</td>\n",
              "      <td>261</td>\n",
              "      <td>261</td>\n",
              "      <td>261</td>\n",
              "      <td>261</td>\n",
              "      <td>261</td>\n",
              "      <td>261</td>\n",
              "      <td>212</td>\n",
              "    </tr>\n",
              "    <tr>\n",
              "      <th>unknown</th>\n",
              "      <td>86</td>\n",
              "      <td>86</td>\n",
              "      <td>86</td>\n",
              "      <td>59</td>\n",
              "      <td>86</td>\n",
              "      <td>59</td>\n",
              "      <td>86</td>\n",
              "      <td>86</td>\n",
              "      <td>86</td>\n",
              "      <td>86</td>\n",
              "      <td>86</td>\n",
              "      <td>86</td>\n",
              "      <td>86</td>\n",
              "      <td>86</td>\n",
              "      <td>86</td>\n",
              "      <td>86</td>\n",
              "      <td>86</td>\n",
              "      <td>86</td>\n",
              "      <td>61</td>\n",
              "      <td>86</td>\n",
              "      <td>60</td>\n",
              "      <td>32</td>\n",
              "      <td>74</td>\n",
              "      <td>86</td>\n",
              "      <td>86</td>\n",
              "      <td>86</td>\n",
              "      <td>86</td>\n",
              "      <td>86</td>\n",
              "      <td>86</td>\n",
              "      <td>86</td>\n",
              "      <td>86</td>\n",
              "      <td>86</td>\n",
              "      <td>86</td>\n",
              "      <td>86</td>\n",
              "      <td>86</td>\n",
              "      <td>86</td>\n",
              "      <td>86</td>\n",
              "      <td>86</td>\n",
              "      <td>66</td>\n",
              "    </tr>\n",
              "  </tbody>\n",
              "</table>\n",
              "</div>"
            ],
            "text/plain": [
              "                                   index  ...  status_group\n",
              "source_class source                       ...              \n",
              "groundwater  hand dtw               1108  ...           874\n",
              "             machine dbh           13822  ...         11075\n",
              "             shallow well          21140  ...         16824\n",
              "             spring                21216  ...         17021\n",
              "surface      dam                     840  ...           656\n",
              "             lake                    950  ...           765\n",
              "             rainwater harvesting   2863  ...          2295\n",
              "             river                 11964  ...          9612\n",
              "unknown      other                   261  ...           212\n",
              "             unknown                  86  ...            66\n",
              "\n",
              "[10 rows x 39 columns]"
            ]
          },
          "metadata": {},
          "execution_count": 30
        }
      ]
    },
    {
      "cell_type": "code",
      "metadata": {
        "colab": {
          "base_uri": "https://localhost:8080/",
          "height": 285
        },
        "id": "vxiEiR1b_lpo",
        "outputId": "a2ab6a4e-844d-4a63-e29d-b4a194bcc69d"
      },
      "source": [
        "ax = sns.countplot(x='source_class', hue=\"status_group\", data=df)"
      ],
      "execution_count": 31,
      "outputs": [
        {
          "output_type": "display_data",
          "data": {
            "image/png": "[encoded data removed]",
            "text/plain": [
              "<Figure size 432x288 with 1 Axes>"
            ]
          },
          "metadata": {
            "needs_background": "light"
          }
        }
      ]
    },
    {
      "cell_type": "code",
      "metadata": {
        "colab": {
          "base_uri": "https://localhost:8080/",
          "height": 611
        },
        "id": "gjWMmr5t_nM2",
        "outputId": "2ec17cdc-714e-4a7d-93ca-96d080535131"
      },
      "source": [
        "plt.figure(figsize=(20,10))\n",
        "ax = sns.countplot(x='source', hue=\"status_group\", data=df)"
      ],
      "execution_count": 32,
      "outputs": [
        {
          "output_type": "display_data",
          "data": {
            "image/png": "[encoded data removed]",
            "text/plain": [
              "<Figure size 1440x720 with 1 Axes>"
            ]
          },
          "metadata": {
            "needs_background": "light"
          }
        }
      ]
    },
    {
      "cell_type": "code",
      "metadata": {
        "colab": {
          "base_uri": "https://localhost:8080/"
        },
        "id": "zQ0R4Ekn_oz3",
        "outputId": "d09082f8-02f7-4dd3-a602-7a0e67291177"
      },
      "source": [
        "df['water_quality'].value_counts()"
      ],
      "execution_count": 33,
      "outputs": [
        {
          "output_type": "execute_result",
          "data": {
            "text/plain": [
              "soft                  63505\n",
              "salty                  6082\n",
              "unknown                2345\n",
              "milky                  1005\n",
              "coloured                623\n",
              "salty abandoned         423\n",
              "fluoride                244\n",
              "fluoride abandoned       23\n",
              "Name: water_quality, dtype: int64"
            ]
          },
          "metadata": {},
          "execution_count": 33
        }
      ]
    },
    {
      "cell_type": "code",
      "metadata": {
        "colab": {
          "base_uri": "https://localhost:8080/"
        },
        "id": "3Gb1PoO-_qAx",
        "outputId": "14579108-a21d-46be-e401-b8a50db852d9"
      },
      "source": [
        "df['quality_group'].value_counts()"
      ],
      "execution_count": 34,
      "outputs": [
        {
          "output_type": "execute_result",
          "data": {
            "text/plain": [
              "good        63505\n",
              "salty        6505\n",
              "unknown      2345\n",
              "milky        1005\n",
              "colored       623\n",
              "fluoride      267\n",
              "Name: quality_group, dtype: int64"
            ]
          },
          "metadata": {},
          "execution_count": 34
        }
      ]
    },
    {
      "cell_type": "code",
      "metadata": {
        "colab": {
          "base_uri": "https://localhost:8080/",
          "height": 611
        },
        "id": "I5ZOe_2J_rxV",
        "outputId": "5c00a8d7-19ef-46dc-f2c6-b639c7a5969a"
      },
      "source": [
        "plt.figure(figsize=(20,10))\n",
        "ax = sns.countplot(x='water_quality', hue=\"status_group\", data=df)"
      ],
      "execution_count": 35,
      "outputs": [
        {
          "output_type": "display_data",
          "data": {
            "image/png": "[encoded data removed]",
            "text/plain": [
              "<Figure size 1440x720 with 1 Axes>"
            ]
          },
          "metadata": {
            "needs_background": "light"
          }
        }
      ]
    },
    {
      "cell_type": "code",
      "metadata": {
        "colab": {
          "base_uri": "https://localhost:8080/"
        },
        "id": "9n2DI2BeCV_W",
        "outputId": "40e288fd-606d-4077-ebdb-6044d6632ea7"
      },
      "source": [
        "df['water_quality'].value_counts()"
      ],
      "execution_count": 36,
      "outputs": [
        {
          "output_type": "execute_result",
          "data": {
            "text/plain": [
              "soft                  63505\n",
              "salty                  6082\n",
              "unknown                2345\n",
              "milky                  1005\n",
              "coloured                623\n",
              "salty abandoned         423\n",
              "fluoride                244\n",
              "fluoride abandoned       23\n",
              "Name: water_quality, dtype: int64"
            ]
          },
          "metadata": {},
          "execution_count": 36
        }
      ]
    },
    {
      "cell_type": "code",
      "metadata": {
        "colab": {
          "base_uri": "https://localhost:8080/"
        },
        "id": "uCd-MN7_CXH4",
        "outputId": "fd63c610-33cb-48a1-e5c7-e8652112a11b"
      },
      "source": [
        "df['quality_group'].value_counts()"
      ],
      "execution_count": 37,
      "outputs": [
        {
          "output_type": "execute_result",
          "data": {
            "text/plain": [
              "good        63505\n",
              "salty        6505\n",
              "unknown      2345\n",
              "milky        1005\n",
              "colored       623\n",
              "fluoride      267\n",
              "Name: quality_group, dtype: int64"
            ]
          },
          "metadata": {},
          "execution_count": 37
        }
      ]
    },
    {
      "cell_type": "code",
      "metadata": {
        "colab": {
          "base_uri": "https://localhost:8080/",
          "height": 611
        },
        "id": "SzETX8c8Cpq1",
        "outputId": "7d4ed11b-7921-4533-b541-50a458a058f7"
      },
      "source": [
        "plt.figure(figsize=(20,10))\n",
        "ax = sns.countplot(x='water_quality', hue=\"status_group\", data=df)"
      ],
      "execution_count": 38,
      "outputs": [
        {
          "output_type": "display_data",
          "data": {
            "image/png": "[encoded data removed]",
            "text/plain": [
              "<Figure size 1440x720 with 1 Axes>"
            ]
          },
          "metadata": {
            "needs_background": "light"
          }
        }
      ]
    },
    {
      "cell_type": "code",
      "metadata": {
        "colab": {
          "base_uri": "https://localhost:8080/"
        },
        "id": "DmwgNdt3Cs4N",
        "outputId": "13c9bbf7-1510-4642-9b61-3d07d5325587"
      },
      "source": [
        "df['payment'].value_counts()"
      ],
      "execution_count": 39,
      "outputs": [
        {
          "output_type": "execute_result",
          "data": {
            "text/plain": [
              "never pay                31712\n",
              "pay per bucket           11266\n",
              "pay monthly              10397\n",
              "unknown                  10149\n",
              "pay when scheme fails     4842\n",
              "pay annually              4570\n",
              "other                     1314\n",
              "Name: payment, dtype: int64"
            ]
          },
          "metadata": {},
          "execution_count": 39
        }
      ]
    },
    {
      "cell_type": "code",
      "metadata": {
        "colab": {
          "base_uri": "https://localhost:8080/"
        },
        "id": "DfBEymIgCuCX",
        "outputId": "cca47135-84f4-426b-eb89-a27246e4f1c6"
      },
      "source": [
        "df['payment_type'].value_counts()"
      ],
      "execution_count": 40,
      "outputs": [
        {
          "output_type": "execute_result",
          "data": {
            "text/plain": [
              "never pay     31712\n",
              "per bucket    11266\n",
              "monthly       10397\n",
              "unknown       10149\n",
              "on failure     4842\n",
              "annually       4570\n",
              "other          1314\n",
              "Name: payment_type, dtype: int64"
            ]
          },
          "metadata": {},
          "execution_count": 40
        }
      ]
    },
    {
      "cell_type": "code",
      "metadata": {
        "colab": {
          "base_uri": "https://localhost:8080/"
        },
        "id": "tdxmNF6HC2yP",
        "outputId": "733fe850-0065-44f3-e59f-7e1a476dbbc2"
      },
      "source": [
        "df['extraction_type'].value_counts()"
      ],
      "execution_count": 41,
      "outputs": [
        {
          "output_type": "execute_result",
          "data": {
            "text/plain": [
              "gravity                      33263\n",
              "nira/tanira                  10205\n",
              "other                         8102\n",
              "submersible                   5982\n",
              "swn 80                        4588\n",
              "mono                          3628\n",
              "india mark ii                 3029\n",
              "afridev                       2208\n",
              "ksb                           1790\n",
              "other - rope pump              572\n",
              "other - swn 81                 284\n",
              "windmill                       152\n",
              "india mark iii                 135\n",
              "cemo                           108\n",
              "other - play pump              101\n",
              "walimi                          60\n",
              "climax                          41\n",
              "other - mkulima/shinyanga        2\n",
              "Name: extraction_type, dtype: int64"
            ]
          },
          "metadata": {},
          "execution_count": 41
        }
      ]
    },
    {
      "cell_type": "code",
      "metadata": {
        "colab": {
          "base_uri": "https://localhost:8080/"
        },
        "id": "sUyXVuRTC4rP",
        "outputId": "401fa25d-0cd0-4107-ae6f-8b2c71aa610c"
      },
      "source": [
        "df['extraction_type_group'].value_counts()"
      ],
      "execution_count": 42,
      "outputs": [
        {
          "output_type": "execute_result",
          "data": {
            "text/plain": [
              "gravity            33263\n",
              "nira/tanira        10205\n",
              "other               8102\n",
              "submersible         7772\n",
              "swn 80              4588\n",
              "mono                3628\n",
              "india mark ii       3029\n",
              "afridev             2208\n",
              "rope pump            572\n",
              "other handpump       447\n",
              "wind-powered         152\n",
              "other motorpump      149\n",
              "india mark iii       135\n",
              "Name: extraction_type_group, dtype: int64"
            ]
          },
          "metadata": {},
          "execution_count": 42
        }
      ]
    },
    {
      "cell_type": "code",
      "metadata": {
        "colab": {
          "base_uri": "https://localhost:8080/"
        },
        "id": "0aZoOTglC6aW",
        "outputId": "fcf5c84c-d98c-4234-dc55-e78333a1fb37"
      },
      "source": [
        "df['extraction_type_class'].value_counts()"
      ],
      "execution_count": 43,
      "outputs": [
        {
          "output_type": "execute_result",
          "data": {
            "text/plain": [
              "gravity         33263\n",
              "handpump        20612\n",
              "other            8102\n",
              "submersible      7772\n",
              "motorpump        3777\n",
              "rope pump         572\n",
              "wind-powered      152\n",
              "Name: extraction_type_class, dtype: int64"
            ]
          },
          "metadata": {},
          "execution_count": 43
        }
      ]
    },
    {
      "cell_type": "code",
      "metadata": {
        "colab": {
          "base_uri": "https://localhost:8080/",
          "height": 671
        },
        "id": "D90Q80W9C73A",
        "outputId": "211cd29f-7fd5-4712-a5c2-6905ba37ec2b"
      },
      "source": [
        "df.groupby(['extraction_type_class', 'extraction_type', 'extraction_type_group']).count()"
      ],
      "execution_count": 44,
      "outputs": [
        {
          "output_type": "execute_result",
          "data": {
            "text/html": [
              "<div>\n",
              "<style scoped>\n",
              "    .dataframe tbody tr th:only-of-type {\n",
              "        vertical-align: middle;\n",
              "    }\n",
              "\n",
              "    .dataframe tbody tr th {\n",
              "        vertical-align: top;\n",
              "    }\n",
              "\n",
              "    .dataframe thead th {\n",
              "        text-align: right;\n",
              "    }\n",
              "</style>\n",
              "<table border=\"1\" class=\"dataframe\">\n",
              "  <thead>\n",
              "    <tr style=\"text-align: right;\">\n",
              "      <th></th>\n",
              "      <th></th>\n",
              "      <th></th>\n",
              "      <th>index</th>\n",
              "      <th>id</th>\n",
              "      <th>amount_tsh</th>\n",
              "      <th>funder</th>\n",
              "      <th>gps_height</th>\n",
              "      <th>installer</th>\n",
              "      <th>longitude</th>\n",
              "      <th>latitude</th>\n",
              "      <th>wpt_name</th>\n",
              "      <th>num_private</th>\n",
              "      <th>basin</th>\n",
              "      <th>subvillage</th>\n",
              "      <th>region</th>\n",
              "      <th>region_code</th>\n",
              "      <th>district_code</th>\n",
              "      <th>lga</th>\n",
              "      <th>ward</th>\n",
              "      <th>population</th>\n",
              "      <th>public_meeting</th>\n",
              "      <th>recorded_by</th>\n",
              "      <th>scheme_management</th>\n",
              "      <th>scheme_name</th>\n",
              "      <th>permit</th>\n",
              "      <th>construction_year</th>\n",
              "      <th>management</th>\n",
              "      <th>management_group</th>\n",
              "      <th>payment</th>\n",
              "      <th>payment_type</th>\n",
              "      <th>water_quality</th>\n",
              "      <th>quality_group</th>\n",
              "      <th>quantity</th>\n",
              "      <th>quantity_group</th>\n",
              "      <th>source</th>\n",
              "      <th>source_type</th>\n",
              "      <th>source_class</th>\n",
              "      <th>waterpoint_type</th>\n",
              "      <th>waterpoint_type_group</th>\n",
              "      <th>status_group</th>\n",
              "    </tr>\n",
              "    <tr>\n",
              "      <th>extraction_type_class</th>\n",
              "      <th>extraction_type</th>\n",
              "      <th>extraction_type_group</th>\n",
              "      <th></th>\n",
              "      <th></th>\n",
              "      <th></th>\n",
              "      <th></th>\n",
              "      <th></th>\n",
              "      <th></th>\n",
              "      <th></th>\n",
              "      <th></th>\n",
              "      <th></th>\n",
              "      <th></th>\n",
              "      <th></th>\n",
              "      <th></th>\n",
              "      <th></th>\n",
              "      <th></th>\n",
              "      <th></th>\n",
              "      <th></th>\n",
              "      <th></th>\n",
              "      <th></th>\n",
              "      <th></th>\n",
              "      <th></th>\n",
              "      <th></th>\n",
              "      <th></th>\n",
              "      <th></th>\n",
              "      <th></th>\n",
              "      <th></th>\n",
              "      <th></th>\n",
              "      <th></th>\n",
              "      <th></th>\n",
              "      <th></th>\n",
              "      <th></th>\n",
              "      <th></th>\n",
              "      <th></th>\n",
              "      <th></th>\n",
              "      <th></th>\n",
              "      <th></th>\n",
              "      <th></th>\n",
              "      <th></th>\n",
              "      <th></th>\n",
              "    </tr>\n",
              "  </thead>\n",
              "  <tbody>\n",
              "    <tr>\n",
              "      <th>gravity</th>\n",
              "      <th>gravity</th>\n",
              "      <th>gravity</th>\n",
              "      <td>33263</td>\n",
              "      <td>33263</td>\n",
              "      <td>33263</td>\n",
              "      <td>30677</td>\n",
              "      <td>33263</td>\n",
              "      <td>30683</td>\n",
              "      <td>33263</td>\n",
              "      <td>33263</td>\n",
              "      <td>33263</td>\n",
              "      <td>33263</td>\n",
              "      <td>33263</td>\n",
              "      <td>33095</td>\n",
              "      <td>33263</td>\n",
              "      <td>33263</td>\n",
              "      <td>33263</td>\n",
              "      <td>33263</td>\n",
              "      <td>33263</td>\n",
              "      <td>33263</td>\n",
              "      <td>32103</td>\n",
              "      <td>33263</td>\n",
              "      <td>32686</td>\n",
              "      <td>27205</td>\n",
              "      <td>31339</td>\n",
              "      <td>33263</td>\n",
              "      <td>33263</td>\n",
              "      <td>33263</td>\n",
              "      <td>33263</td>\n",
              "      <td>33263</td>\n",
              "      <td>33263</td>\n",
              "      <td>33263</td>\n",
              "      <td>33263</td>\n",
              "      <td>33263</td>\n",
              "      <td>33263</td>\n",
              "      <td>33263</td>\n",
              "      <td>33263</td>\n",
              "      <td>33263</td>\n",
              "      <td>33263</td>\n",
              "      <td>26780</td>\n",
              "    </tr>\n",
              "    <tr>\n",
              "      <th rowspan=\"9\" valign=\"top\">handpump</th>\n",
              "      <th>afridev</th>\n",
              "      <th>afridev</th>\n",
              "      <td>2208</td>\n",
              "      <td>2208</td>\n",
              "      <td>2208</td>\n",
              "      <td>2079</td>\n",
              "      <td>2208</td>\n",
              "      <td>2076</td>\n",
              "      <td>2208</td>\n",
              "      <td>2208</td>\n",
              "      <td>2208</td>\n",
              "      <td>2208</td>\n",
              "      <td>2208</td>\n",
              "      <td>2208</td>\n",
              "      <td>2208</td>\n",
              "      <td>2208</td>\n",
              "      <td>2208</td>\n",
              "      <td>2208</td>\n",
              "      <td>2208</td>\n",
              "      <td>2208</td>\n",
              "      <td>2021</td>\n",
              "      <td>2208</td>\n",
              "      <td>2012</td>\n",
              "      <td>262</td>\n",
              "      <td>2076</td>\n",
              "      <td>2208</td>\n",
              "      <td>2208</td>\n",
              "      <td>2208</td>\n",
              "      <td>2208</td>\n",
              "      <td>2208</td>\n",
              "      <td>2208</td>\n",
              "      <td>2208</td>\n",
              "      <td>2208</td>\n",
              "      <td>2208</td>\n",
              "      <td>2208</td>\n",
              "      <td>2208</td>\n",
              "      <td>2208</td>\n",
              "      <td>2208</td>\n",
              "      <td>2208</td>\n",
              "      <td>1770</td>\n",
              "    </tr>\n",
              "    <tr>\n",
              "      <th>india mark ii</th>\n",
              "      <th>india mark ii</th>\n",
              "      <td>3029</td>\n",
              "      <td>3029</td>\n",
              "      <td>3029</td>\n",
              "      <td>2974</td>\n",
              "      <td>3029</td>\n",
              "      <td>2974</td>\n",
              "      <td>3029</td>\n",
              "      <td>3029</td>\n",
              "      <td>3029</td>\n",
              "      <td>3029</td>\n",
              "      <td>3029</td>\n",
              "      <td>3029</td>\n",
              "      <td>3029</td>\n",
              "      <td>3029</td>\n",
              "      <td>3029</td>\n",
              "      <td>3029</td>\n",
              "      <td>3029</td>\n",
              "      <td>3029</td>\n",
              "      <td>2901</td>\n",
              "      <td>3029</td>\n",
              "      <td>2780</td>\n",
              "      <td>252</td>\n",
              "      <td>2983</td>\n",
              "      <td>3029</td>\n",
              "      <td>3029</td>\n",
              "      <td>3029</td>\n",
              "      <td>3029</td>\n",
              "      <td>3029</td>\n",
              "      <td>3029</td>\n",
              "      <td>3029</td>\n",
              "      <td>3029</td>\n",
              "      <td>3029</td>\n",
              "      <td>3029</td>\n",
              "      <td>3029</td>\n",
              "      <td>3029</td>\n",
              "      <td>3029</td>\n",
              "      <td>3029</td>\n",
              "      <td>2400</td>\n",
              "    </tr>\n",
              "    <tr>\n",
              "      <th>india mark iii</th>\n",
              "      <th>india mark iii</th>\n",
              "      <td>135</td>\n",
              "      <td>135</td>\n",
              "      <td>135</td>\n",
              "      <td>135</td>\n",
              "      <td>135</td>\n",
              "      <td>135</td>\n",
              "      <td>135</td>\n",
              "      <td>135</td>\n",
              "      <td>135</td>\n",
              "      <td>135</td>\n",
              "      <td>135</td>\n",
              "      <td>135</td>\n",
              "      <td>135</td>\n",
              "      <td>135</td>\n",
              "      <td>135</td>\n",
              "      <td>135</td>\n",
              "      <td>135</td>\n",
              "      <td>135</td>\n",
              "      <td>122</td>\n",
              "      <td>135</td>\n",
              "      <td>134</td>\n",
              "      <td>4</td>\n",
              "      <td>135</td>\n",
              "      <td>135</td>\n",
              "      <td>135</td>\n",
              "      <td>135</td>\n",
              "      <td>135</td>\n",
              "      <td>135</td>\n",
              "      <td>135</td>\n",
              "      <td>135</td>\n",
              "      <td>135</td>\n",
              "      <td>135</td>\n",
              "      <td>135</td>\n",
              "      <td>135</td>\n",
              "      <td>135</td>\n",
              "      <td>135</td>\n",
              "      <td>135</td>\n",
              "      <td>98</td>\n",
              "    </tr>\n",
              "    <tr>\n",
              "      <th>nira/tanira</th>\n",
              "      <th>nira/tanira</th>\n",
              "      <td>10205</td>\n",
              "      <td>10205</td>\n",
              "      <td>10205</td>\n",
              "      <td>9908</td>\n",
              "      <td>10205</td>\n",
              "      <td>9893</td>\n",
              "      <td>10205</td>\n",
              "      <td>10205</td>\n",
              "      <td>10205</td>\n",
              "      <td>10205</td>\n",
              "      <td>10205</td>\n",
              "      <td>10202</td>\n",
              "      <td>10205</td>\n",
              "      <td>10205</td>\n",
              "      <td>10205</td>\n",
              "      <td>10205</td>\n",
              "      <td>10205</td>\n",
              "      <td>10205</td>\n",
              "      <td>9366</td>\n",
              "      <td>10205</td>\n",
              "      <td>8965</td>\n",
              "      <td>945</td>\n",
              "      <td>9916</td>\n",
              "      <td>10205</td>\n",
              "      <td>10205</td>\n",
              "      <td>10205</td>\n",
              "      <td>10205</td>\n",
              "      <td>10205</td>\n",
              "      <td>10205</td>\n",
              "      <td>10205</td>\n",
              "      <td>10205</td>\n",
              "      <td>10205</td>\n",
              "      <td>10205</td>\n",
              "      <td>10205</td>\n",
              "      <td>10205</td>\n",
              "      <td>10205</td>\n",
              "      <td>10205</td>\n",
              "      <td>8154</td>\n",
              "    </tr>\n",
              "    <tr>\n",
              "      <th>other - mkulima/shinyanga</th>\n",
              "      <th>other handpump</th>\n",
              "      <td>2</td>\n",
              "      <td>2</td>\n",
              "      <td>2</td>\n",
              "      <td>1</td>\n",
              "      <td>2</td>\n",
              "      <td>2</td>\n",
              "      <td>2</td>\n",
              "      <td>2</td>\n",
              "      <td>2</td>\n",
              "      <td>2</td>\n",
              "      <td>2</td>\n",
              "      <td>2</td>\n",
              "      <td>2</td>\n",
              "      <td>2</td>\n",
              "      <td>2</td>\n",
              "      <td>2</td>\n",
              "      <td>2</td>\n",
              "      <td>2</td>\n",
              "      <td>2</td>\n",
              "      <td>2</td>\n",
              "      <td>2</td>\n",
              "      <td>0</td>\n",
              "      <td>2</td>\n",
              "      <td>2</td>\n",
              "      <td>2</td>\n",
              "      <td>2</td>\n",
              "      <td>2</td>\n",
              "      <td>2</td>\n",
              "      <td>2</td>\n",
              "      <td>2</td>\n",
              "      <td>2</td>\n",
              "      <td>2</td>\n",
              "      <td>2</td>\n",
              "      <td>2</td>\n",
              "      <td>2</td>\n",
              "      <td>2</td>\n",
              "      <td>2</td>\n",
              "      <td>2</td>\n",
              "    </tr>\n",
              "    <tr>\n",
              "      <th>other - play pump</th>\n",
              "      <th>other handpump</th>\n",
              "      <td>101</td>\n",
              "      <td>101</td>\n",
              "      <td>101</td>\n",
              "      <td>101</td>\n",
              "      <td>101</td>\n",
              "      <td>101</td>\n",
              "      <td>101</td>\n",
              "      <td>101</td>\n",
              "      <td>101</td>\n",
              "      <td>101</td>\n",
              "      <td>101</td>\n",
              "      <td>101</td>\n",
              "      <td>101</td>\n",
              "      <td>101</td>\n",
              "      <td>101</td>\n",
              "      <td>101</td>\n",
              "      <td>101</td>\n",
              "      <td>101</td>\n",
              "      <td>100</td>\n",
              "      <td>101</td>\n",
              "      <td>91</td>\n",
              "      <td>81</td>\n",
              "      <td>100</td>\n",
              "      <td>101</td>\n",
              "      <td>101</td>\n",
              "      <td>101</td>\n",
              "      <td>101</td>\n",
              "      <td>101</td>\n",
              "      <td>101</td>\n",
              "      <td>101</td>\n",
              "      <td>101</td>\n",
              "      <td>101</td>\n",
              "      <td>101</td>\n",
              "      <td>101</td>\n",
              "      <td>101</td>\n",
              "      <td>101</td>\n",
              "      <td>101</td>\n",
              "      <td>85</td>\n",
              "    </tr>\n",
              "    <tr>\n",
              "      <th>other - swn 81</th>\n",
              "      <th>other handpump</th>\n",
              "      <td>284</td>\n",
              "      <td>284</td>\n",
              "      <td>284</td>\n",
              "      <td>272</td>\n",
              "      <td>284</td>\n",
              "      <td>272</td>\n",
              "      <td>284</td>\n",
              "      <td>284</td>\n",
              "      <td>284</td>\n",
              "      <td>284</td>\n",
              "      <td>284</td>\n",
              "      <td>284</td>\n",
              "      <td>284</td>\n",
              "      <td>284</td>\n",
              "      <td>284</td>\n",
              "      <td>284</td>\n",
              "      <td>284</td>\n",
              "      <td>284</td>\n",
              "      <td>269</td>\n",
              "      <td>284</td>\n",
              "      <td>281</td>\n",
              "      <td>17</td>\n",
              "      <td>274</td>\n",
              "      <td>284</td>\n",
              "      <td>284</td>\n",
              "      <td>284</td>\n",
              "      <td>284</td>\n",
              "      <td>284</td>\n",
              "      <td>284</td>\n",
              "      <td>284</td>\n",
              "      <td>284</td>\n",
              "      <td>284</td>\n",
              "      <td>284</td>\n",
              "      <td>284</td>\n",
              "      <td>284</td>\n",
              "      <td>284</td>\n",
              "      <td>284</td>\n",
              "      <td>229</td>\n",
              "    </tr>\n",
              "    <tr>\n",
              "      <th>swn 80</th>\n",
              "      <th>swn 80</th>\n",
              "      <td>4588</td>\n",
              "      <td>4588</td>\n",
              "      <td>4588</td>\n",
              "      <td>4505</td>\n",
              "      <td>4588</td>\n",
              "      <td>4501</td>\n",
              "      <td>4588</td>\n",
              "      <td>4588</td>\n",
              "      <td>4588</td>\n",
              "      <td>4588</td>\n",
              "      <td>4588</td>\n",
              "      <td>4588</td>\n",
              "      <td>4588</td>\n",
              "      <td>4588</td>\n",
              "      <td>4588</td>\n",
              "      <td>4588</td>\n",
              "      <td>4588</td>\n",
              "      <td>4588</td>\n",
              "      <td>4381</td>\n",
              "      <td>4588</td>\n",
              "      <td>3871</td>\n",
              "      <td>197</td>\n",
              "      <td>4571</td>\n",
              "      <td>4588</td>\n",
              "      <td>4588</td>\n",
              "      <td>4588</td>\n",
              "      <td>4588</td>\n",
              "      <td>4588</td>\n",
              "      <td>4588</td>\n",
              "      <td>4588</td>\n",
              "      <td>4588</td>\n",
              "      <td>4588</td>\n",
              "      <td>4588</td>\n",
              "      <td>4588</td>\n",
              "      <td>4588</td>\n",
              "      <td>4588</td>\n",
              "      <td>4588</td>\n",
              "      <td>3670</td>\n",
              "    </tr>\n",
              "    <tr>\n",
              "      <th>walimi</th>\n",
              "      <th>other handpump</th>\n",
              "      <td>60</td>\n",
              "      <td>60</td>\n",
              "      <td>60</td>\n",
              "      <td>60</td>\n",
              "      <td>60</td>\n",
              "      <td>60</td>\n",
              "      <td>60</td>\n",
              "      <td>60</td>\n",
              "      <td>60</td>\n",
              "      <td>60</td>\n",
              "      <td>60</td>\n",
              "      <td>60</td>\n",
              "      <td>60</td>\n",
              "      <td>60</td>\n",
              "      <td>60</td>\n",
              "      <td>60</td>\n",
              "      <td>60</td>\n",
              "      <td>60</td>\n",
              "      <td>57</td>\n",
              "      <td>60</td>\n",
              "      <td>59</td>\n",
              "      <td>0</td>\n",
              "      <td>60</td>\n",
              "      <td>60</td>\n",
              "      <td>60</td>\n",
              "      <td>60</td>\n",
              "      <td>60</td>\n",
              "      <td>60</td>\n",
              "      <td>60</td>\n",
              "      <td>60</td>\n",
              "      <td>60</td>\n",
              "      <td>60</td>\n",
              "      <td>60</td>\n",
              "      <td>60</td>\n",
              "      <td>60</td>\n",
              "      <td>60</td>\n",
              "      <td>60</td>\n",
              "      <td>48</td>\n",
              "    </tr>\n",
              "    <tr>\n",
              "      <th rowspan=\"3\" valign=\"top\">motorpump</th>\n",
              "      <th>cemo</th>\n",
              "      <th>other motorpump</th>\n",
              "      <td>108</td>\n",
              "      <td>108</td>\n",
              "      <td>108</td>\n",
              "      <td>108</td>\n",
              "      <td>108</td>\n",
              "      <td>108</td>\n",
              "      <td>108</td>\n",
              "      <td>108</td>\n",
              "      <td>108</td>\n",
              "      <td>108</td>\n",
              "      <td>108</td>\n",
              "      <td>108</td>\n",
              "      <td>108</td>\n",
              "      <td>108</td>\n",
              "      <td>108</td>\n",
              "      <td>108</td>\n",
              "      <td>108</td>\n",
              "      <td>108</td>\n",
              "      <td>108</td>\n",
              "      <td>108</td>\n",
              "      <td>107</td>\n",
              "      <td>107</td>\n",
              "      <td>108</td>\n",
              "      <td>108</td>\n",
              "      <td>108</td>\n",
              "      <td>108</td>\n",
              "      <td>108</td>\n",
              "      <td>108</td>\n",
              "      <td>108</td>\n",
              "      <td>108</td>\n",
              "      <td>108</td>\n",
              "      <td>108</td>\n",
              "      <td>108</td>\n",
              "      <td>108</td>\n",
              "      <td>108</td>\n",
              "      <td>108</td>\n",
              "      <td>108</td>\n",
              "      <td>90</td>\n",
              "    </tr>\n",
              "    <tr>\n",
              "      <th>climax</th>\n",
              "      <th>other motorpump</th>\n",
              "      <td>41</td>\n",
              "      <td>41</td>\n",
              "      <td>41</td>\n",
              "      <td>41</td>\n",
              "      <td>41</td>\n",
              "      <td>41</td>\n",
              "      <td>41</td>\n",
              "      <td>41</td>\n",
              "      <td>41</td>\n",
              "      <td>41</td>\n",
              "      <td>41</td>\n",
              "      <td>41</td>\n",
              "      <td>41</td>\n",
              "      <td>41</td>\n",
              "      <td>41</td>\n",
              "      <td>41</td>\n",
              "      <td>41</td>\n",
              "      <td>41</td>\n",
              "      <td>41</td>\n",
              "      <td>41</td>\n",
              "      <td>41</td>\n",
              "      <td>38</td>\n",
              "      <td>41</td>\n",
              "      <td>41</td>\n",
              "      <td>41</td>\n",
              "      <td>41</td>\n",
              "      <td>41</td>\n",
              "      <td>41</td>\n",
              "      <td>41</td>\n",
              "      <td>41</td>\n",
              "      <td>41</td>\n",
              "      <td>41</td>\n",
              "      <td>41</td>\n",
              "      <td>41</td>\n",
              "      <td>41</td>\n",
              "      <td>41</td>\n",
              "      <td>41</td>\n",
              "      <td>32</td>\n",
              "    </tr>\n",
              "    <tr>\n",
              "      <th>mono</th>\n",
              "      <th>mono</th>\n",
              "      <td>3628</td>\n",
              "      <td>3628</td>\n",
              "      <td>3628</td>\n",
              "      <td>3272</td>\n",
              "      <td>3628</td>\n",
              "      <td>3272</td>\n",
              "      <td>3628</td>\n",
              "      <td>3628</td>\n",
              "      <td>3628</td>\n",
              "      <td>3628</td>\n",
              "      <td>3628</td>\n",
              "      <td>3479</td>\n",
              "      <td>3628</td>\n",
              "      <td>3628</td>\n",
              "      <td>3628</td>\n",
              "      <td>3628</td>\n",
              "      <td>3628</td>\n",
              "      <td>3628</td>\n",
              "      <td>3491</td>\n",
              "      <td>3628</td>\n",
              "      <td>3608</td>\n",
              "      <td>2810</td>\n",
              "      <td>3280</td>\n",
              "      <td>3628</td>\n",
              "      <td>3628</td>\n",
              "      <td>3628</td>\n",
              "      <td>3628</td>\n",
              "      <td>3628</td>\n",
              "      <td>3628</td>\n",
              "      <td>3628</td>\n",
              "      <td>3628</td>\n",
              "      <td>3628</td>\n",
              "      <td>3628</td>\n",
              "      <td>3628</td>\n",
              "      <td>3628</td>\n",
              "      <td>3628</td>\n",
              "      <td>3628</td>\n",
              "      <td>2865</td>\n",
              "    </tr>\n",
              "    <tr>\n",
              "      <th>other</th>\n",
              "      <th>other</th>\n",
              "      <th>other</th>\n",
              "      <td>8102</td>\n",
              "      <td>8102</td>\n",
              "      <td>8102</td>\n",
              "      <td>7572</td>\n",
              "      <td>8102</td>\n",
              "      <td>7564</td>\n",
              "      <td>8102</td>\n",
              "      <td>8102</td>\n",
              "      <td>8102</td>\n",
              "      <td>8102</td>\n",
              "      <td>8102</td>\n",
              "      <td>8091</td>\n",
              "      <td>8102</td>\n",
              "      <td>8102</td>\n",
              "      <td>8102</td>\n",
              "      <td>8102</td>\n",
              "      <td>8102</td>\n",
              "      <td>8102</td>\n",
              "      <td>7544</td>\n",
              "      <td>8102</td>\n",
              "      <td>6580</td>\n",
              "      <td>1156</td>\n",
              "      <td>7627</td>\n",
              "      <td>8102</td>\n",
              "      <td>8102</td>\n",
              "      <td>8102</td>\n",
              "      <td>8102</td>\n",
              "      <td>8102</td>\n",
              "      <td>8102</td>\n",
              "      <td>8102</td>\n",
              "      <td>8102</td>\n",
              "      <td>8102</td>\n",
              "      <td>8102</td>\n",
              "      <td>8102</td>\n",
              "      <td>8102</td>\n",
              "      <td>8102</td>\n",
              "      <td>8102</td>\n",
              "      <td>6430</td>\n",
              "    </tr>\n",
              "    <tr>\n",
              "      <th>rope pump</th>\n",
              "      <th>other - rope pump</th>\n",
              "      <th>rope pump</th>\n",
              "      <td>572</td>\n",
              "      <td>572</td>\n",
              "      <td>572</td>\n",
              "      <td>565</td>\n",
              "      <td>572</td>\n",
              "      <td>565</td>\n",
              "      <td>572</td>\n",
              "      <td>572</td>\n",
              "      <td>572</td>\n",
              "      <td>572</td>\n",
              "      <td>572</td>\n",
              "      <td>572</td>\n",
              "      <td>572</td>\n",
              "      <td>572</td>\n",
              "      <td>572</td>\n",
              "      <td>572</td>\n",
              "      <td>572</td>\n",
              "      <td>572</td>\n",
              "      <td>437</td>\n",
              "      <td>572</td>\n",
              "      <td>471</td>\n",
              "      <td>39</td>\n",
              "      <td>438</td>\n",
              "      <td>572</td>\n",
              "      <td>572</td>\n",
              "      <td>572</td>\n",
              "      <td>572</td>\n",
              "      <td>572</td>\n",
              "      <td>572</td>\n",
              "      <td>572</td>\n",
              "      <td>572</td>\n",
              "      <td>572</td>\n",
              "      <td>572</td>\n",
              "      <td>572</td>\n",
              "      <td>572</td>\n",
              "      <td>572</td>\n",
              "      <td>572</td>\n",
              "      <td>451</td>\n",
              "    </tr>\n",
              "    <tr>\n",
              "      <th rowspan=\"2\" valign=\"top\">submersible</th>\n",
              "      <th>ksb</th>\n",
              "      <th>submersible</th>\n",
              "      <td>1790</td>\n",
              "      <td>1790</td>\n",
              "      <td>1790</td>\n",
              "      <td>1785</td>\n",
              "      <td>1790</td>\n",
              "      <td>1784</td>\n",
              "      <td>1790</td>\n",
              "      <td>1790</td>\n",
              "      <td>1790</td>\n",
              "      <td>1790</td>\n",
              "      <td>1790</td>\n",
              "      <td>1790</td>\n",
              "      <td>1790</td>\n",
              "      <td>1790</td>\n",
              "      <td>1790</td>\n",
              "      <td>1790</td>\n",
              "      <td>1790</td>\n",
              "      <td>1790</td>\n",
              "      <td>1696</td>\n",
              "      <td>1790</td>\n",
              "      <td>1780</td>\n",
              "      <td>1521</td>\n",
              "      <td>1785</td>\n",
              "      <td>1790</td>\n",
              "      <td>1790</td>\n",
              "      <td>1790</td>\n",
              "      <td>1790</td>\n",
              "      <td>1790</td>\n",
              "      <td>1790</td>\n",
              "      <td>1790</td>\n",
              "      <td>1790</td>\n",
              "      <td>1790</td>\n",
              "      <td>1790</td>\n",
              "      <td>1790</td>\n",
              "      <td>1790</td>\n",
              "      <td>1790</td>\n",
              "      <td>1790</td>\n",
              "      <td>1415</td>\n",
              "    </tr>\n",
              "    <tr>\n",
              "      <th>submersible</th>\n",
              "      <th>submersible</th>\n",
              "      <td>5982</td>\n",
              "      <td>5982</td>\n",
              "      <td>5982</td>\n",
              "      <td>5544</td>\n",
              "      <td>5982</td>\n",
              "      <td>5540</td>\n",
              "      <td>5982</td>\n",
              "      <td>5982</td>\n",
              "      <td>5982</td>\n",
              "      <td>5982</td>\n",
              "      <td>5982</td>\n",
              "      <td>5843</td>\n",
              "      <td>5982</td>\n",
              "      <td>5982</td>\n",
              "      <td>5982</td>\n",
              "      <td>5982</td>\n",
              "      <td>5982</td>\n",
              "      <td>5982</td>\n",
              "      <td>5306</td>\n",
              "      <td>5982</td>\n",
              "      <td>5784</td>\n",
              "      <td>4254</td>\n",
              "      <td>5584</td>\n",
              "      <td>5982</td>\n",
              "      <td>5982</td>\n",
              "      <td>5982</td>\n",
              "      <td>5982</td>\n",
              "      <td>5982</td>\n",
              "      <td>5982</td>\n",
              "      <td>5982</td>\n",
              "      <td>5982</td>\n",
              "      <td>5982</td>\n",
              "      <td>5982</td>\n",
              "      <td>5982</td>\n",
              "      <td>5982</td>\n",
              "      <td>5982</td>\n",
              "      <td>5982</td>\n",
              "      <td>4764</td>\n",
              "    </tr>\n",
              "    <tr>\n",
              "      <th>wind-powered</th>\n",
              "      <th>windmill</th>\n",
              "      <th>wind-powered</th>\n",
              "      <td>152</td>\n",
              "      <td>152</td>\n",
              "      <td>152</td>\n",
              "      <td>147</td>\n",
              "      <td>152</td>\n",
              "      <td>147</td>\n",
              "      <td>152</td>\n",
              "      <td>152</td>\n",
              "      <td>152</td>\n",
              "      <td>152</td>\n",
              "      <td>152</td>\n",
              "      <td>152</td>\n",
              "      <td>152</td>\n",
              "      <td>152</td>\n",
              "      <td>152</td>\n",
              "      <td>152</td>\n",
              "      <td>152</td>\n",
              "      <td>152</td>\n",
              "      <td>150</td>\n",
              "      <td>152</td>\n",
              "      <td>152</td>\n",
              "      <td>104</td>\n",
              "      <td>138</td>\n",
              "      <td>152</td>\n",
              "      <td>152</td>\n",
              "      <td>152</td>\n",
              "      <td>152</td>\n",
              "      <td>152</td>\n",
              "      <td>152</td>\n",
              "      <td>152</td>\n",
              "      <td>152</td>\n",
              "      <td>152</td>\n",
              "      <td>152</td>\n",
              "      <td>152</td>\n",
              "      <td>152</td>\n",
              "      <td>152</td>\n",
              "      <td>152</td>\n",
              "      <td>117</td>\n",
              "    </tr>\n",
              "  </tbody>\n",
              "</table>\n",
              "</div>"
            ],
            "text/plain": [
              "                                                                       index  ...  status_group\n",
              "extraction_type_class extraction_type           extraction_type_group         ...              \n",
              "gravity               gravity                   gravity                33263  ...         26780\n",
              "handpump              afridev                   afridev                 2208  ...          1770\n",
              "                      india mark ii             india mark ii           3029  ...          2400\n",
              "                      india mark iii            india mark iii           135  ...            98\n",
              "                      nira/tanira               nira/tanira            10205  ...          8154\n",
              "                      other - mkulima/shinyanga other handpump             2  ...             2\n",
              "                      other - play pump         other handpump           101  ...            85\n",
              "                      other - swn 81            other handpump           284  ...           229\n",
              "                      swn 80                    swn 80                  4588  ...          3670\n",
              "                      walimi                    other handpump            60  ...            48\n",
              "motorpump             cemo                      other motorpump          108  ...            90\n",
              "                      climax                    other motorpump           41  ...            32\n",
              "                      mono                      mono                    3628  ...          2865\n",
              "other                 other                     other                   8102  ...          6430\n",
              "rope pump             other - rope pump         rope pump                572  ...           451\n",
              "submersible           ksb                       submersible             1790  ...          1415\n",
              "                      submersible               submersible             5982  ...          4764\n",
              "wind-powered          windmill                  wind-powered             152  ...           117\n",
              "\n",
              "[18 rows x 38 columns]"
            ]
          },
          "metadata": {},
          "execution_count": 44
        }
      ]
    },
    {
      "cell_type": "code",
      "metadata": {
        "colab": {
          "base_uri": "https://localhost:8080/"
        },
        "id": "SpG3g9-RC_Zv",
        "outputId": "257f6f28-7ccd-4372-a616-cd745b64d68e"
      },
      "source": [
        "df['waterpoint_type'].value_counts()"
      ],
      "execution_count": 45,
      "outputs": [
        {
          "output_type": "execute_result",
          "data": {
            "text/plain": [
              "communal standpipe             35628\n",
              "hand pump                      21884\n",
              "other                           8010\n",
              "communal standpipe multiple     7611\n",
              "improved spring                  959\n",
              "cattle trough                    150\n",
              "dam                                8\n",
              "Name: waterpoint_type, dtype: int64"
            ]
          },
          "metadata": {},
          "execution_count": 45
        }
      ]
    },
    {
      "cell_type": "code",
      "metadata": {
        "colab": {
          "base_uri": "https://localhost:8080/"
        },
        "id": "sz7P0IVOD962",
        "outputId": "ebd96b1f-4495-48cf-90b2-e10e8cfb01b6"
      },
      "source": [
        "df['waterpoint_type_group'].value_counts()"
      ],
      "execution_count": 46,
      "outputs": [
        {
          "output_type": "execute_result",
          "data": {
            "text/plain": [
              "communal standpipe    43239\n",
              "hand pump             21884\n",
              "other                  8010\n",
              "improved spring         959\n",
              "cattle trough           150\n",
              "dam                       8\n",
              "Name: waterpoint_type_group, dtype: int64"
            ]
          },
          "metadata": {},
          "execution_count": 46
        }
      ]
    },
    {
      "cell_type": "code",
      "metadata": {
        "id": "LMHQV1ALEChe"
      },
      "source": [
        "df.drop(columns=['management_group','scheme_management','quantity_group','source_class','source_type','quality_group',\n",
        "                'payment_type','extraction_type_class','extraction_type', 'waterpoint_type_group'],inplace=True )"
      ],
      "execution_count": 47,
      "outputs": []
    },
    {
      "cell_type": "code",
      "metadata": {
        "colab": {
          "base_uri": "https://localhost:8080/"
        },
        "id": "IR5mpddZEW2A",
        "outputId": "705871d6-eb4a-44a0-beb1-d0e208192ea3"
      },
      "source": [
        "df['construction_year'].value_counts()"
      ],
      "execution_count": 48,
      "outputs": [
        {
          "output_type": "execute_result",
          "data": {
            "text/plain": [
              "0       25969\n",
              "2010     3314\n",
              "2008     3243\n",
              "2009     3196\n",
              "2000     2578\n",
              "2007     1960\n",
              "2006     1892\n",
              "2011     1591\n",
              "2003     1579\n",
              "2004     1417\n",
              "2012     1347\n",
              "2002     1343\n",
              "1995     1283\n",
              "2005     1275\n",
              "1978     1267\n",
              "1999     1222\n",
              "1998     1190\n",
              "1985     1177\n",
              "1990     1176\n",
              "1996     1020\n",
              "1980     1005\n",
              "1984      970\n",
              "1994      940\n",
              "1982      926\n",
              "1972      892\n",
              "1997      821\n",
              "1974      814\n",
              "1992      807\n",
              "1993      745\n",
              "2001      680\n",
              "1988      657\n",
              "1983      594\n",
              "1975      561\n",
              "1986      553\n",
              "1976      525\n",
              "1970      493\n",
              "1991      407\n",
              "1989      396\n",
              "1987      370\n",
              "1981      291\n",
              "1977      247\n",
              "1979      245\n",
              "1973      227\n",
              "2013      209\n",
              "1971      177\n",
              "1960      124\n",
              "1963      107\n",
              "1967      106\n",
              "1968       93\n",
              "1969       77\n",
              "1964       48\n",
              "1962       36\n",
              "1961       28\n",
              "1965       21\n",
              "1966       19\n",
              "Name: construction_year, dtype: int64"
            ]
          },
          "metadata": {},
          "execution_count": 48
        }
      ]
    },
    {
      "cell_type": "code",
      "metadata": {
        "id": "XtGjstiIEaSB"
      },
      "source": [
        "df['decade'] = df['construction_year']"
      ],
      "execution_count": 49,
      "outputs": []
    },
    {
      "cell_type": "code",
      "metadata": {
        "id": "qmVG5yzjEee3"
      },
      "source": [
        "df['decade'].replace(to_replace = (1960,1961,1962,1963,1964,1965,1966,1967,1968,1969),\n",
        "                        value ='60s' , inplace=True)\n",
        "df['decade'].replace(to_replace = (1970,1971,1972,1973,1974,1975,1976,1977,1978,1979),\n",
        "                        value ='70s' , inplace=True)\n",
        "df['decade'].replace(to_replace = (1980,1981,1982,1983,1984,1985,1986,1987,1988,1989),\n",
        "                        value ='80s' , inplace=True)\n",
        "df['decade'].replace(to_replace = (1990,1991,1992,1993,1994,1995,1996,1997,1998,1999),\n",
        "                        value ='90s' , inplace=True)\n",
        "df['decade'].replace(to_replace = (2000,2001,2002,2003,2004,2005,2006,2007,2008,2009),\n",
        "                        value ='00s' , inplace=True)\n",
        "df['decade'].replace(to_replace = (2010,2011,2012,2013),\n",
        "                        value ='10s' , inplace=True)"
      ],
      "execution_count": 50,
      "outputs": []
    },
    {
      "cell_type": "code",
      "metadata": {
        "colab": {
          "base_uri": "https://localhost:8080/"
        },
        "id": "zMjLRCjvEgDX",
        "outputId": "5888b63c-dc1f-46c6-fbff-1966aafa3b05"
      },
      "source": [
        "df['decade'].value_counts()"
      ],
      "execution_count": 51,
      "outputs": [
        {
          "output_type": "execute_result",
          "data": {
            "text/plain": [
              "0      25969\n",
              "00s    19163\n",
              "90s     9611\n",
              "80s     6939\n",
              "10s     6461\n",
              "70s     5448\n",
              "60s      659\n",
              "Name: decade, dtype: int64"
            ]
          },
          "metadata": {},
          "execution_count": 51
        }
      ]
    },
    {
      "cell_type": "code",
      "metadata": {
        "colab": {
          "base_uri": "https://localhost:8080/",
          "height": 295
        },
        "id": "DGV3H4n8EhoY",
        "outputId": "d6dba83e-991e-4b29-9a77-b03ff51c537e"
      },
      "source": [
        "df.loc[df['construction_year']!=0].describe()"
      ],
      "execution_count": 52,
      "outputs": [
        {
          "output_type": "execute_result",
          "data": {
            "text/html": [
              "<div>\n",
              "<style scoped>\n",
              "    .dataframe tbody tr th:only-of-type {\n",
              "        vertical-align: middle;\n",
              "    }\n",
              "\n",
              "    .dataframe tbody tr th {\n",
              "        vertical-align: top;\n",
              "    }\n",
              "\n",
              "    .dataframe thead th {\n",
              "        text-align: right;\n",
              "    }\n",
              "</style>\n",
              "<table border=\"1\" class=\"dataframe\">\n",
              "  <thead>\n",
              "    <tr style=\"text-align: right;\">\n",
              "      <th></th>\n",
              "      <th>index</th>\n",
              "      <th>id</th>\n",
              "      <th>amount_tsh</th>\n",
              "      <th>gps_height</th>\n",
              "      <th>longitude</th>\n",
              "      <th>latitude</th>\n",
              "      <th>num_private</th>\n",
              "      <th>region_code</th>\n",
              "      <th>district_code</th>\n",
              "      <th>population</th>\n",
              "      <th>construction_year</th>\n",
              "    </tr>\n",
              "  </thead>\n",
              "  <tbody>\n",
              "    <tr>\n",
              "      <th>count</th>\n",
              "      <td>48281.000000</td>\n",
              "      <td>48281.000000</td>\n",
              "      <td>48281.000000</td>\n",
              "      <td>48281.000000</td>\n",
              "      <td>48281.000000</td>\n",
              "      <td>48281.000000</td>\n",
              "      <td>48281.000000</td>\n",
              "      <td>48281.000000</td>\n",
              "      <td>48281.000000</td>\n",
              "      <td>48281.000000</td>\n",
              "      <td>48281.000000</td>\n",
              "    </tr>\n",
              "    <tr>\n",
              "      <th>mean</th>\n",
              "      <td>37080.867546</td>\n",
              "      <td>37084.269609</td>\n",
              "      <td>469.739275</td>\n",
              "      <td>1000.202709</td>\n",
              "      <td>35.986840</td>\n",
              "      <td>-6.237147</td>\n",
              "      <td>0.693088</td>\n",
              "      <td>15.669559</td>\n",
              "      <td>5.967006</td>\n",
              "      <td>271.572233</td>\n",
              "      <td>1996.870943</td>\n",
              "    </tr>\n",
              "    <tr>\n",
              "      <th>std</th>\n",
              "      <td>21433.030676</td>\n",
              "      <td>21411.638110</td>\n",
              "      <td>3456.533934</td>\n",
              "      <td>618.538809</td>\n",
              "      <td>2.559941</td>\n",
              "      <td>2.760997</td>\n",
              "      <td>14.240205</td>\n",
              "      <td>20.937445</td>\n",
              "      <td>10.709279</td>\n",
              "      <td>552.329367</td>\n",
              "      <td>12.440524</td>\n",
              "    </tr>\n",
              "    <tr>\n",
              "      <th>min</th>\n",
              "      <td>0.000000</td>\n",
              "      <td>1.000000</td>\n",
              "      <td>0.000000</td>\n",
              "      <td>-63.000000</td>\n",
              "      <td>29.607122</td>\n",
              "      <td>-11.649440</td>\n",
              "      <td>0.000000</td>\n",
              "      <td>2.000000</td>\n",
              "      <td>1.000000</td>\n",
              "      <td>0.000000</td>\n",
              "      <td>1960.000000</td>\n",
              "    </tr>\n",
              "    <tr>\n",
              "      <th>25%</th>\n",
              "      <td>18491.000000</td>\n",
              "      <td>18512.000000</td>\n",
              "      <td>0.000000</td>\n",
              "      <td>369.000000</td>\n",
              "      <td>34.676387</td>\n",
              "      <td>-8.744394</td>\n",
              "      <td>0.000000</td>\n",
              "      <td>4.000000</td>\n",
              "      <td>2.000000</td>\n",
              "      <td>30.000000</td>\n",
              "      <td>1988.000000</td>\n",
              "    </tr>\n",
              "    <tr>\n",
              "      <th>50%</th>\n",
              "      <td>37142.000000</td>\n",
              "      <td>37097.000000</td>\n",
              "      <td>0.000000</td>\n",
              "      <td>1153.000000</td>\n",
              "      <td>36.653857</td>\n",
              "      <td>-6.078797</td>\n",
              "      <td>0.000000</td>\n",
              "      <td>10.000000</td>\n",
              "      <td>3.000000</td>\n",
              "      <td>150.000000</td>\n",
              "      <td>2000.000000</td>\n",
              "    </tr>\n",
              "    <tr>\n",
              "      <th>75%</th>\n",
              "      <td>55598.000000</td>\n",
              "      <td>55548.000000</td>\n",
              "      <td>200.000000</td>\n",
              "      <td>1486.000000</td>\n",
              "      <td>37.814225</td>\n",
              "      <td>-3.654467</td>\n",
              "      <td>0.000000</td>\n",
              "      <td>16.000000</td>\n",
              "      <td>5.000000</td>\n",
              "      <td>312.000000</td>\n",
              "      <td>2008.000000</td>\n",
              "    </tr>\n",
              "    <tr>\n",
              "      <th>max</th>\n",
              "      <td>74249.000000</td>\n",
              "      <td>74249.000000</td>\n",
              "      <td>350000.000000</td>\n",
              "      <td>2777.000000</td>\n",
              "      <td>40.345193</td>\n",
              "      <td>-1.042375</td>\n",
              "      <td>1776.000000</td>\n",
              "      <td>99.000000</td>\n",
              "      <td>63.000000</td>\n",
              "      <td>30500.000000</td>\n",
              "      <td>2013.000000</td>\n",
              "    </tr>\n",
              "  </tbody>\n",
              "</table>\n",
              "</div>"
            ],
            "text/plain": [
              "              index            id  ...    population  construction_year\n",
              "count  48281.000000  48281.000000  ...  48281.000000       48281.000000\n",
              "mean   37080.867546  37084.269609  ...    271.572233        1996.870943\n",
              "std    21433.030676  21411.638110  ...    552.329367          12.440524\n",
              "min        0.000000      1.000000  ...      0.000000        1960.000000\n",
              "25%    18491.000000  18512.000000  ...     30.000000        1988.000000\n",
              "50%    37142.000000  37097.000000  ...    150.000000        2000.000000\n",
              "75%    55598.000000  55548.000000  ...    312.000000        2008.000000\n",
              "max    74249.000000  74249.000000  ...  30500.000000        2013.000000\n",
              "\n",
              "[8 rows x 11 columns]"
            ]
          },
          "metadata": {},
          "execution_count": 52
        }
      ]
    },
    {
      "cell_type": "code",
      "metadata": {
        "id": "rih0l3OkEjwm"
      },
      "source": [
        "df['construction_year'].replace(to_replace = 0, value = 2000, inplace=True)"
      ],
      "execution_count": 53,
      "outputs": []
    },
    {
      "cell_type": "code",
      "metadata": {
        "colab": {
          "base_uri": "https://localhost:8080/"
        },
        "id": "bRl9ET9CElfQ",
        "outputId": "f414c23a-d3a9-445d-a5ce-753617fe1313"
      },
      "source": [
        "df['recorded_by'].value_counts()"
      ],
      "execution_count": 54,
      "outputs": [
        {
          "output_type": "execute_result",
          "data": {
            "text/plain": [
              "GeoData Consultants Ltd    74250\n",
              "Name: recorded_by, dtype: int64"
            ]
          },
          "metadata": {},
          "execution_count": 54
        }
      ]
    },
    {
      "cell_type": "code",
      "metadata": {
        "id": "HeVM8vwVEnEC"
      },
      "source": [
        "df.drop(columns=['recorded_by'],inplace=True )"
      ],
      "execution_count": 55,
      "outputs": []
    },
    {
      "cell_type": "code",
      "metadata": {
        "colab": {
          "base_uri": "https://localhost:8080/"
        },
        "id": "i-tCOqnUFEua",
        "outputId": "d4c7e618-1a00-42fb-eb2a-52d2f8399195"
      },
      "source": [
        "df['installer'].value_counts().head(20)"
      ],
      "execution_count": 56,
      "outputs": [
        {
          "output_type": "execute_result",
          "data": {
            "text/plain": [
              "DWE                   21751\n",
              "Government             2282\n",
              "RWE                    1498\n",
              "Commu                  1347\n",
              "DANIDA                 1305\n",
              "KKKT                   1120\n",
              "Hesawa                 1070\n",
              "0                       980\n",
              "TCRS                    887\n",
              "CES                     765\n",
              "Central government      764\n",
              "DANID                   690\n",
              "Community               687\n",
              "HESAWA                  679\n",
              "District Council        663\n",
              "World vision            517\n",
              "TASAF                   504\n",
              "LGA                     501\n",
              "WEDECO                  496\n",
              "District council        490\n",
              "Name: installer, dtype: int64"
            ]
          },
          "metadata": {},
          "execution_count": 56
        }
      ]
    },
    {
      "cell_type": "code",
      "metadata": {
        "colab": {
          "base_uri": "https://localhost:8080/",
          "height": 638
        },
        "id": "AqCwoyVQFHMG",
        "outputId": "cf58e17d-737b-461a-f5c2-89922b6e6b06"
      },
      "source": [
        "df.loc[df['longitude']==0]"
      ],
      "execution_count": 57,
      "outputs": [
        {
          "output_type": "execute_result",
          "data": {
            "text/html": [
              "<div>\n",
              "<style scoped>\n",
              "    .dataframe tbody tr th:only-of-type {\n",
              "        vertical-align: middle;\n",
              "    }\n",
              "\n",
              "    .dataframe tbody tr th {\n",
              "        vertical-align: top;\n",
              "    }\n",
              "\n",
              "    .dataframe thead th {\n",
              "        text-align: right;\n",
              "    }\n",
              "</style>\n",
              "<table border=\"1\" class=\"dataframe\">\n",
              "  <thead>\n",
              "    <tr style=\"text-align: right;\">\n",
              "      <th></th>\n",
              "      <th>index</th>\n",
              "      <th>id</th>\n",
              "      <th>amount_tsh</th>\n",
              "      <th>funder</th>\n",
              "      <th>gps_height</th>\n",
              "      <th>installer</th>\n",
              "      <th>longitude</th>\n",
              "      <th>latitude</th>\n",
              "      <th>wpt_name</th>\n",
              "      <th>num_private</th>\n",
              "      <th>basin</th>\n",
              "      <th>subvillage</th>\n",
              "      <th>region</th>\n",
              "      <th>region_code</th>\n",
              "      <th>district_code</th>\n",
              "      <th>lga</th>\n",
              "      <th>ward</th>\n",
              "      <th>population</th>\n",
              "      <th>public_meeting</th>\n",
              "      <th>scheme_name</th>\n",
              "      <th>permit</th>\n",
              "      <th>construction_year</th>\n",
              "      <th>extraction_type_group</th>\n",
              "      <th>management</th>\n",
              "      <th>payment</th>\n",
              "      <th>water_quality</th>\n",
              "      <th>quantity</th>\n",
              "      <th>source</th>\n",
              "      <th>waterpoint_type</th>\n",
              "      <th>status_group</th>\n",
              "      <th>decade</th>\n",
              "    </tr>\n",
              "  </thead>\n",
              "  <tbody>\n",
              "    <tr>\n",
              "      <th>21</th>\n",
              "      <td>21</td>\n",
              "      <td>6091</td>\n",
              "      <td>0.0</td>\n",
              "      <td>Dwsp</td>\n",
              "      <td>0</td>\n",
              "      <td>DWE</td>\n",
              "      <td>0.0</td>\n",
              "      <td>-2.000000e-08</td>\n",
              "      <td>Muungano</td>\n",
              "      <td>0</td>\n",
              "      <td>Lake Victoria</td>\n",
              "      <td>Ibabachegu</td>\n",
              "      <td>Shinyanga</td>\n",
              "      <td>17</td>\n",
              "      <td>1</td>\n",
              "      <td>Bariadi</td>\n",
              "      <td>Ikungulyabashashi</td>\n",
              "      <td>0</td>\n",
              "      <td>NaN</td>\n",
              "      <td>NaN</td>\n",
              "      <td>False</td>\n",
              "      <td>2000</td>\n",
              "      <td>swn 80</td>\n",
              "      <td>wug</td>\n",
              "      <td>unknown</td>\n",
              "      <td>unknown</td>\n",
              "      <td>unknown</td>\n",
              "      <td>shallow well</td>\n",
              "      <td>hand pump</td>\n",
              "      <td>functional</td>\n",
              "      <td>0</td>\n",
              "    </tr>\n",
              "    <tr>\n",
              "      <th>53</th>\n",
              "      <td>53</td>\n",
              "      <td>32376</td>\n",
              "      <td>0.0</td>\n",
              "      <td>Government Of Tanzania</td>\n",
              "      <td>0</td>\n",
              "      <td>Government</td>\n",
              "      <td>0.0</td>\n",
              "      <td>-2.000000e-08</td>\n",
              "      <td>Polisi</td>\n",
              "      <td>0</td>\n",
              "      <td>Lake Victoria</td>\n",
              "      <td>Center</td>\n",
              "      <td>Mwanza</td>\n",
              "      <td>19</td>\n",
              "      <td>6</td>\n",
              "      <td>Geita</td>\n",
              "      <td>Nyang'hwale</td>\n",
              "      <td>0</td>\n",
              "      <td>True</td>\n",
              "      <td>Nyang'hwale</td>\n",
              "      <td>True</td>\n",
              "      <td>2000</td>\n",
              "      <td>submersible</td>\n",
              "      <td>vwc</td>\n",
              "      <td>unknown</td>\n",
              "      <td>unknown</td>\n",
              "      <td>dry</td>\n",
              "      <td>machine dbh</td>\n",
              "      <td>communal standpipe multiple</td>\n",
              "      <td>non functional</td>\n",
              "      <td>0</td>\n",
              "    </tr>\n",
              "    <tr>\n",
              "      <th>168</th>\n",
              "      <td>168</td>\n",
              "      <td>72678</td>\n",
              "      <td>0.0</td>\n",
              "      <td>Wvt</td>\n",
              "      <td>0</td>\n",
              "      <td>WVT</td>\n",
              "      <td>0.0</td>\n",
              "      <td>-2.000000e-08</td>\n",
              "      <td>Wvt Tanzania</td>\n",
              "      <td>0</td>\n",
              "      <td>Lake Victoria</td>\n",
              "      <td>Ilula</td>\n",
              "      <td>Shinyanga</td>\n",
              "      <td>17</td>\n",
              "      <td>1</td>\n",
              "      <td>Bariadi</td>\n",
              "      <td>Chinamili</td>\n",
              "      <td>0</td>\n",
              "      <td>False</td>\n",
              "      <td>NaN</td>\n",
              "      <td>False</td>\n",
              "      <td>2000</td>\n",
              "      <td>gravity</td>\n",
              "      <td>parastatal</td>\n",
              "      <td>other</td>\n",
              "      <td>soft</td>\n",
              "      <td>seasonal</td>\n",
              "      <td>rainwater harvesting</td>\n",
              "      <td>communal standpipe</td>\n",
              "      <td>functional</td>\n",
              "      <td>0</td>\n",
              "    </tr>\n",
              "    <tr>\n",
              "      <th>177</th>\n",
              "      <td>177</td>\n",
              "      <td>56725</td>\n",
              "      <td>0.0</td>\n",
              "      <td>Netherlands</td>\n",
              "      <td>0</td>\n",
              "      <td>DWE</td>\n",
              "      <td>0.0</td>\n",
              "      <td>-2.000000e-08</td>\n",
              "      <td>Kikundi Cha Wakina Mama</td>\n",
              "      <td>0</td>\n",
              "      <td>Lake Victoria</td>\n",
              "      <td>Mahaha</td>\n",
              "      <td>Shinyanga</td>\n",
              "      <td>17</td>\n",
              "      <td>1</td>\n",
              "      <td>Bariadi</td>\n",
              "      <td>Bunamhala</td>\n",
              "      <td>0</td>\n",
              "      <td>NaN</td>\n",
              "      <td>NaN</td>\n",
              "      <td>False</td>\n",
              "      <td>2000</td>\n",
              "      <td>other</td>\n",
              "      <td>wug</td>\n",
              "      <td>unknown</td>\n",
              "      <td>soft</td>\n",
              "      <td>enough</td>\n",
              "      <td>shallow well</td>\n",
              "      <td>other</td>\n",
              "      <td>non functional</td>\n",
              "      <td>0</td>\n",
              "    </tr>\n",
              "    <tr>\n",
              "      <th>253</th>\n",
              "      <td>253</td>\n",
              "      <td>13042</td>\n",
              "      <td>0.0</td>\n",
              "      <td>Hesawa</td>\n",
              "      <td>0</td>\n",
              "      <td>DWE</td>\n",
              "      <td>0.0</td>\n",
              "      <td>-2.000000e-08</td>\n",
              "      <td>Kwakisusi</td>\n",
              "      <td>0</td>\n",
              "      <td>Lake Victoria</td>\n",
              "      <td>Nyamatala</td>\n",
              "      <td>Mwanza</td>\n",
              "      <td>19</td>\n",
              "      <td>2</td>\n",
              "      <td>Magu</td>\n",
              "      <td>Malili</td>\n",
              "      <td>0</td>\n",
              "      <td>True</td>\n",
              "      <td>NaN</td>\n",
              "      <td>True</td>\n",
              "      <td>2000</td>\n",
              "      <td>nira/tanira</td>\n",
              "      <td>vwc</td>\n",
              "      <td>never pay</td>\n",
              "      <td>soft</td>\n",
              "      <td>insufficient</td>\n",
              "      <td>shallow well</td>\n",
              "      <td>hand pump</td>\n",
              "      <td>functional needs repair</td>\n",
              "      <td>0</td>\n",
              "    </tr>\n",
              "    <tr>\n",
              "      <th>...</th>\n",
              "      <td>...</td>\n",
              "      <td>...</td>\n",
              "      <td>...</td>\n",
              "      <td>...</td>\n",
              "      <td>...</td>\n",
              "      <td>...</td>\n",
              "      <td>...</td>\n",
              "      <td>...</td>\n",
              "      <td>...</td>\n",
              "      <td>...</td>\n",
              "      <td>...</td>\n",
              "      <td>...</td>\n",
              "      <td>...</td>\n",
              "      <td>...</td>\n",
              "      <td>...</td>\n",
              "      <td>...</td>\n",
              "      <td>...</td>\n",
              "      <td>...</td>\n",
              "      <td>...</td>\n",
              "      <td>...</td>\n",
              "      <td>...</td>\n",
              "      <td>...</td>\n",
              "      <td>...</td>\n",
              "      <td>...</td>\n",
              "      <td>...</td>\n",
              "      <td>...</td>\n",
              "      <td>...</td>\n",
              "      <td>...</td>\n",
              "      <td>...</td>\n",
              "      <td>...</td>\n",
              "      <td>...</td>\n",
              "    </tr>\n",
              "    <tr>\n",
              "      <th>74049</th>\n",
              "      <td>74049</td>\n",
              "      <td>30454</td>\n",
              "      <td>0.0</td>\n",
              "      <td>Nyamigogo</td>\n",
              "      <td>0</td>\n",
              "      <td>MASWI</td>\n",
              "      <td>0.0</td>\n",
              "      <td>-2.000000e-08</td>\n",
              "      <td>Husein</td>\n",
              "      <td>0</td>\n",
              "      <td>Lake Victoria</td>\n",
              "      <td>Nyaweshi</td>\n",
              "      <td>Mwanza</td>\n",
              "      <td>19</td>\n",
              "      <td>6</td>\n",
              "      <td>Geita</td>\n",
              "      <td>Kharumwa</td>\n",
              "      <td>0</td>\n",
              "      <td>True</td>\n",
              "      <td>Borehole</td>\n",
              "      <td>True</td>\n",
              "      <td>2000</td>\n",
              "      <td>india mark ii</td>\n",
              "      <td>vwc</td>\n",
              "      <td>never pay</td>\n",
              "      <td>soft</td>\n",
              "      <td>insufficient</td>\n",
              "      <td>shallow well</td>\n",
              "      <td>hand pump</td>\n",
              "      <td>NaN</td>\n",
              "      <td>0</td>\n",
              "    </tr>\n",
              "    <tr>\n",
              "      <th>74076</th>\n",
              "      <td>74076</td>\n",
              "      <td>44766</td>\n",
              "      <td>0.0</td>\n",
              "      <td>Dwsp</td>\n",
              "      <td>0</td>\n",
              "      <td>DWE</td>\n",
              "      <td>0.0</td>\n",
              "      <td>-2.000000e-08</td>\n",
              "      <td>Imalanota</td>\n",
              "      <td>0</td>\n",
              "      <td>Lake Victoria</td>\n",
              "      <td>Busumabwi</td>\n",
              "      <td>Mwanza</td>\n",
              "      <td>17</td>\n",
              "      <td>1</td>\n",
              "      <td>Magu</td>\n",
              "      <td>Nkungulu</td>\n",
              "      <td>0</td>\n",
              "      <td>False</td>\n",
              "      <td>NaN</td>\n",
              "      <td>False</td>\n",
              "      <td>2000</td>\n",
              "      <td>swn 80</td>\n",
              "      <td>wug</td>\n",
              "      <td>other</td>\n",
              "      <td>soft</td>\n",
              "      <td>enough</td>\n",
              "      <td>shallow well</td>\n",
              "      <td>hand pump</td>\n",
              "      <td>NaN</td>\n",
              "      <td>0</td>\n",
              "    </tr>\n",
              "    <tr>\n",
              "      <th>74166</th>\n",
              "      <td>74166</td>\n",
              "      <td>56279</td>\n",
              "      <td>0.0</td>\n",
              "      <td>Government Of Tanzania</td>\n",
              "      <td>0</td>\n",
              "      <td>RWE</td>\n",
              "      <td>0.0</td>\n",
              "      <td>-2.000000e-08</td>\n",
              "      <td>Ofisini</td>\n",
              "      <td>0</td>\n",
              "      <td>Lake Victoria</td>\n",
              "      <td>Madukani</td>\n",
              "      <td>Mwanza</td>\n",
              "      <td>19</td>\n",
              "      <td>2</td>\n",
              "      <td>Magu</td>\n",
              "      <td>Mkula</td>\n",
              "      <td>0</td>\n",
              "      <td>True</td>\n",
              "      <td>Kalemela Water Supply</td>\n",
              "      <td>True</td>\n",
              "      <td>2000</td>\n",
              "      <td>gravity</td>\n",
              "      <td>vwc</td>\n",
              "      <td>never pay</td>\n",
              "      <td>soft</td>\n",
              "      <td>insufficient</td>\n",
              "      <td>lake</td>\n",
              "      <td>communal standpipe multiple</td>\n",
              "      <td>NaN</td>\n",
              "      <td>0</td>\n",
              "    </tr>\n",
              "    <tr>\n",
              "      <th>74231</th>\n",
              "      <td>74231</td>\n",
              "      <td>37994</td>\n",
              "      <td>0.0</td>\n",
              "      <td>Hesawa</td>\n",
              "      <td>0</td>\n",
              "      <td>DWE</td>\n",
              "      <td>0.0</td>\n",
              "      <td>-2.000000e-08</td>\n",
              "      <td>Kwa Masilili</td>\n",
              "      <td>0</td>\n",
              "      <td>Lake Victoria</td>\n",
              "      <td>Solima A</td>\n",
              "      <td>Mwanza</td>\n",
              "      <td>19</td>\n",
              "      <td>2</td>\n",
              "      <td>Magu</td>\n",
              "      <td>Kabita</td>\n",
              "      <td>0</td>\n",
              "      <td>True</td>\n",
              "      <td>NaN</td>\n",
              "      <td>True</td>\n",
              "      <td>2000</td>\n",
              "      <td>nira/tanira</td>\n",
              "      <td>vwc</td>\n",
              "      <td>never pay</td>\n",
              "      <td>salty</td>\n",
              "      <td>enough</td>\n",
              "      <td>shallow well</td>\n",
              "      <td>hand pump</td>\n",
              "      <td>NaN</td>\n",
              "      <td>0</td>\n",
              "    </tr>\n",
              "    <tr>\n",
              "      <th>74241</th>\n",
              "      <td>74241</td>\n",
              "      <td>64579</td>\n",
              "      <td>0.0</td>\n",
              "      <td>Dwsp</td>\n",
              "      <td>0</td>\n",
              "      <td>DWE</td>\n",
              "      <td>0.0</td>\n",
              "      <td>-2.000000e-08</td>\n",
              "      <td>Iguna</td>\n",
              "      <td>0</td>\n",
              "      <td>Lake Victoria</td>\n",
              "      <td>Nyerere</td>\n",
              "      <td>Shinyanga</td>\n",
              "      <td>17</td>\n",
              "      <td>1</td>\n",
              "      <td>Bariadi</td>\n",
              "      <td>Kasoli</td>\n",
              "      <td>0</td>\n",
              "      <td>NaN</td>\n",
              "      <td>NaN</td>\n",
              "      <td>False</td>\n",
              "      <td>2000</td>\n",
              "      <td>swn 80</td>\n",
              "      <td>wug</td>\n",
              "      <td>unknown</td>\n",
              "      <td>soft</td>\n",
              "      <td>enough</td>\n",
              "      <td>shallow well</td>\n",
              "      <td>hand pump</td>\n",
              "      <td>NaN</td>\n",
              "      <td>0</td>\n",
              "    </tr>\n",
              "  </tbody>\n",
              "</table>\n",
              "<p>2269 rows × 31 columns</p>\n",
              "</div>"
            ],
            "text/plain": [
              "       index     id  ...             status_group decade\n",
              "21        21   6091  ...               functional      0\n",
              "53        53  32376  ...           non functional      0\n",
              "168      168  72678  ...               functional      0\n",
              "177      177  56725  ...           non functional      0\n",
              "253      253  13042  ...  functional needs repair      0\n",
              "...      ...    ...  ...                      ...    ...\n",
              "74049  74049  30454  ...                      NaN      0\n",
              "74076  74076  44766  ...                      NaN      0\n",
              "74166  74166  56279  ...                      NaN      0\n",
              "74231  74231  37994  ...                      NaN      0\n",
              "74241  74241  64579  ...                      NaN      0\n",
              "\n",
              "[2269 rows x 31 columns]"
            ]
          },
          "metadata": {},
          "execution_count": 57
        }
      ]
    },
    {
      "cell_type": "code",
      "metadata": {
        "colab": {
          "base_uri": "https://localhost:8080/",
          "height": 295
        },
        "id": "A2ALqCC5FIY8",
        "outputId": "eddaa419-1b5b-4748-f4f2-f81f126b5e3a"
      },
      "source": [
        "df.loc[df['longitude']!=0].describe()"
      ],
      "execution_count": 58,
      "outputs": [
        {
          "output_type": "execute_result",
          "data": {
            "text/html": [
              "<div>\n",
              "<style scoped>\n",
              "    .dataframe tbody tr th:only-of-type {\n",
              "        vertical-align: middle;\n",
              "    }\n",
              "\n",
              "    .dataframe tbody tr th {\n",
              "        vertical-align: top;\n",
              "    }\n",
              "\n",
              "    .dataframe thead th {\n",
              "        text-align: right;\n",
              "    }\n",
              "</style>\n",
              "<table border=\"1\" class=\"dataframe\">\n",
              "  <thead>\n",
              "    <tr style=\"text-align: right;\">\n",
              "      <th></th>\n",
              "      <th>index</th>\n",
              "      <th>id</th>\n",
              "      <th>amount_tsh</th>\n",
              "      <th>gps_height</th>\n",
              "      <th>longitude</th>\n",
              "      <th>latitude</th>\n",
              "      <th>num_private</th>\n",
              "      <th>region_code</th>\n",
              "      <th>district_code</th>\n",
              "      <th>population</th>\n",
              "      <th>construction_year</th>\n",
              "    </tr>\n",
              "  </thead>\n",
              "  <tbody>\n",
              "    <tr>\n",
              "      <th>count</th>\n",
              "      <td>71981.000000</td>\n",
              "      <td>71981.000000</td>\n",
              "      <td>71981.000000</td>\n",
              "      <td>71981.000000</td>\n",
              "      <td>71981.000000</td>\n",
              "      <td>71981.000000</td>\n",
              "      <td>71981.000000</td>\n",
              "      <td>71981.000000</td>\n",
              "      <td>71981.000000</td>\n",
              "      <td>71981.000000</td>\n",
              "      <td>71981.000000</td>\n",
              "    </tr>\n",
              "    <tr>\n",
              "      <th>mean</th>\n",
              "      <td>37116.747586</td>\n",
              "      <td>37117.739945</td>\n",
              "      <td>328.731381</td>\n",
              "      <td>686.650616</td>\n",
              "      <td>35.148358</td>\n",
              "      <td>-5.881503</td>\n",
              "      <td>0.476904</td>\n",
              "      <td>15.185091</td>\n",
              "      <td>5.728248</td>\n",
              "      <td>186.448493</td>\n",
              "      <td>1997.901196</td>\n",
              "    </tr>\n",
              "    <tr>\n",
              "      <th>std</th>\n",
              "      <td>21437.485525</td>\n",
              "      <td>21432.597850</td>\n",
              "      <td>2951.661960</td>\n",
              "      <td>693.280413</td>\n",
              "      <td>2.608924</td>\n",
              "      <td>2.808758</td>\n",
              "      <td>11.718023</td>\n",
              "      <td>17.775842</td>\n",
              "      <td>9.768536</td>\n",
              "      <td>477.341984</td>\n",
              "      <td>10.294211</td>\n",
              "    </tr>\n",
              "    <tr>\n",
              "      <th>min</th>\n",
              "      <td>0.000000</td>\n",
              "      <td>0.000000</td>\n",
              "      <td>0.000000</td>\n",
              "      <td>-90.000000</td>\n",
              "      <td>29.607122</td>\n",
              "      <td>-11.649440</td>\n",
              "      <td>0.000000</td>\n",
              "      <td>1.000000</td>\n",
              "      <td>0.000000</td>\n",
              "      <td>0.000000</td>\n",
              "      <td>1960.000000</td>\n",
              "    </tr>\n",
              "    <tr>\n",
              "      <th>25%</th>\n",
              "      <td>18547.000000</td>\n",
              "      <td>18565.000000</td>\n",
              "      <td>0.000000</td>\n",
              "      <td>0.000000</td>\n",
              "      <td>33.277747</td>\n",
              "      <td>-8.632576</td>\n",
              "      <td>0.000000</td>\n",
              "      <td>5.000000</td>\n",
              "      <td>2.000000</td>\n",
              "      <td>0.000000</td>\n",
              "      <td>1995.000000</td>\n",
              "    </tr>\n",
              "    <tr>\n",
              "      <th>50%</th>\n",
              "      <td>37104.000000</td>\n",
              "      <td>37122.000000</td>\n",
              "      <td>0.000000</td>\n",
              "      <td>418.000000</td>\n",
              "      <td>35.007072</td>\n",
              "      <td>-5.173950</td>\n",
              "      <td>0.000000</td>\n",
              "      <td>12.000000</td>\n",
              "      <td>3.000000</td>\n",
              "      <td>35.000000</td>\n",
              "      <td>2000.000000</td>\n",
              "    </tr>\n",
              "    <tr>\n",
              "      <th>75%</th>\n",
              "      <td>55672.000000</td>\n",
              "      <td>55684.000000</td>\n",
              "      <td>30.000000</td>\n",
              "      <td>1330.000000</td>\n",
              "      <td>37.237383</td>\n",
              "      <td>-3.371872</td>\n",
              "      <td>0.000000</td>\n",
              "      <td>17.000000</td>\n",
              "      <td>5.000000</td>\n",
              "      <td>230.000000</td>\n",
              "      <td>2005.000000</td>\n",
              "    </tr>\n",
              "    <tr>\n",
              "      <th>max</th>\n",
              "      <td>74249.000000</td>\n",
              "      <td>74249.000000</td>\n",
              "      <td>350000.000000</td>\n",
              "      <td>2777.000000</td>\n",
              "      <td>40.345193</td>\n",
              "      <td>-0.998464</td>\n",
              "      <td>1776.000000</td>\n",
              "      <td>99.000000</td>\n",
              "      <td>80.000000</td>\n",
              "      <td>30500.000000</td>\n",
              "      <td>2013.000000</td>\n",
              "    </tr>\n",
              "  </tbody>\n",
              "</table>\n",
              "</div>"
            ],
            "text/plain": [
              "              index            id  ...    population  construction_year\n",
              "count  71981.000000  71981.000000  ...  71981.000000       71981.000000\n",
              "mean   37116.747586  37117.739945  ...    186.448493        1997.901196\n",
              "std    21437.485525  21432.597850  ...    477.341984          10.294211\n",
              "min        0.000000      0.000000  ...      0.000000        1960.000000\n",
              "25%    18547.000000  18565.000000  ...      0.000000        1995.000000\n",
              "50%    37104.000000  37122.000000  ...     35.000000        2000.000000\n",
              "75%    55672.000000  55684.000000  ...    230.000000        2005.000000\n",
              "max    74249.000000  74249.000000  ...  30500.000000        2013.000000\n",
              "\n",
              "[8 rows x 11 columns]"
            ]
          },
          "metadata": {},
          "execution_count": 58
        }
      ]
    },
    {
      "cell_type": "code",
      "metadata": {
        "id": "tE2zJ-syFMz6"
      },
      "source": [
        "df['longitude'].replace(to_replace = 0 , value =35.15, inplace=True)"
      ],
      "execution_count": 59,
      "outputs": []
    },
    {
      "cell_type": "code",
      "metadata": {
        "colab": {
          "base_uri": "https://localhost:8080/"
        },
        "id": "K65jyG5lFONj",
        "outputId": "fa49cab8-c3fa-499b-c72f-37b0c4789b32"
      },
      "source": [
        "df['wpt_name'].value_counts()"
      ],
      "execution_count": 60,
      "outputs": [
        {
          "output_type": "execute_result",
          "data": {
            "text/plain": [
              "none                   4440\n",
              "Shuleni                2183\n",
              "Zahanati               1034\n",
              "Msikitini               647\n",
              "Kanisani                390\n",
              "                       ... \n",
              "Kwa Nikolama Teru         1\n",
              "Kwa Mzee Lugendo          1\n",
              "Kwala Sekondari           1\n",
              "Kwa Elizabeth Molel       1\n",
              "Nsimbo Secondary          1\n",
              "Name: wpt_name, Length: 45684, dtype: int64"
            ]
          },
          "metadata": {},
          "execution_count": 60
        }
      ]
    },
    {
      "cell_type": "code",
      "metadata": {
        "colab": {
          "base_uri": "https://localhost:8080/"
        },
        "id": "l6NtQpbfFPcv",
        "outputId": "11f9ce2b-bbd3-4f24-a9a3-bb03d6949778"
      },
      "source": [
        "df['scheme_name'].value_counts()"
      ],
      "execution_count": 61,
      "outputs": [
        {
          "output_type": "execute_result",
          "data": {
            "text/plain": [
              "K                                               858\n",
              "None                                            794\n",
              "Borehole                                        704\n",
              "Chalinze wate                                   501\n",
              "M                                               490\n",
              "                                               ... \n",
              "Sasa                                              1\n",
              "BL Cosmas Woiso                                   1\n",
              "Mradi wa maji wa mfalanyak                        1\n",
              "Igongolo gravity water sch                        1\n",
              "Kazilamihunda subgravity source water supply      1\n",
              "Name: scheme_name, Length: 2868, dtype: int64"
            ]
          },
          "metadata": {},
          "execution_count": 61
        }
      ]
    },
    {
      "cell_type": "code",
      "metadata": {
        "id": "yrY5_zBSFQ2I"
      },
      "source": [
        "df.drop(columns=['wpt_name','scheme_name','region_code'],inplace=True )"
      ],
      "execution_count": 62,
      "outputs": []
    },
    {
      "cell_type": "code",
      "metadata": {
        "colab": {
          "base_uri": "https://localhost:8080/"
        },
        "id": "2QbxZz6cFSkI",
        "outputId": "9ec2dbc3-eb1f-499f-b2c7-f3c880405ea6"
      },
      "source": [
        "df['region'].value_counts()"
      ],
      "execution_count": 63,
      "outputs": [
        {
          "output_type": "execute_result",
          "data": {
            "text/plain": [
              "Iringa           6599\n",
              "Shinyanga        6293\n",
              "Mbeya            5758\n",
              "Kilimanjaro      5494\n",
              "Morogoro         5038\n",
              "Kagera           4174\n",
              "Arusha           4111\n",
              "Mwanza           3897\n",
              "Kigoma           3533\n",
              "Pwani            3331\n",
              "Ruvuma           3306\n",
              "Tanga            3186\n",
              "Dodoma           2779\n",
              "Singida          2536\n",
              "Tabora           2466\n",
              "Mara             2451\n",
              "Rukwa            2242\n",
              "Mtwara           2144\n",
              "Manyara          1972\n",
              "Lindi            1920\n",
              "Dar es Salaam    1020\n",
              "Name: region, dtype: int64"
            ]
          },
          "metadata": {},
          "execution_count": 63
        }
      ]
    },
    {
      "cell_type": "code",
      "metadata": {
        "colab": {
          "base_uri": "https://localhost:8080/"
        },
        "id": "qaSrB9k6FUsD",
        "outputId": "eb95a226-cc5b-4023-d810-ae870083248e"
      },
      "source": [
        "df['population'].value_counts()"
      ],
      "execution_count": 64,
      "outputs": [
        {
          "output_type": "execute_result",
          "data": {
            "text/plain": [
              "0       26834\n",
              "1        8782\n",
              "200      2370\n",
              "150      2328\n",
              "250      2087\n",
              "        ...  \n",
              "1193        1\n",
              "593         1\n",
              "1065        1\n",
              "785         1\n",
              "895         1\n",
              "Name: population, Length: 1128, dtype: int64"
            ]
          },
          "metadata": {},
          "execution_count": 64
        }
      ]
    },
    {
      "cell_type": "code",
      "metadata": {
        "colab": {
          "base_uri": "https://localhost:8080/",
          "height": 226
        },
        "id": "yNsrGEO3FV7A",
        "outputId": "409e0665-37eb-4104-d334-91b3aa0807c9"
      },
      "source": [
        "df.loc[df['population']==0].groupby('status_group').count()"
      ],
      "execution_count": 65,
      "outputs": [
        {
          "output_type": "execute_result",
          "data": {
            "text/html": [
              "<div>\n",
              "<style scoped>\n",
              "    .dataframe tbody tr th:only-of-type {\n",
              "        vertical-align: middle;\n",
              "    }\n",
              "\n",
              "    .dataframe tbody tr th {\n",
              "        vertical-align: top;\n",
              "    }\n",
              "\n",
              "    .dataframe thead th {\n",
              "        text-align: right;\n",
              "    }\n",
              "</style>\n",
              "<table border=\"1\" class=\"dataframe\">\n",
              "  <thead>\n",
              "    <tr style=\"text-align: right;\">\n",
              "      <th></th>\n",
              "      <th>index</th>\n",
              "      <th>id</th>\n",
              "      <th>amount_tsh</th>\n",
              "      <th>funder</th>\n",
              "      <th>gps_height</th>\n",
              "      <th>installer</th>\n",
              "      <th>longitude</th>\n",
              "      <th>latitude</th>\n",
              "      <th>num_private</th>\n",
              "      <th>basin</th>\n",
              "      <th>subvillage</th>\n",
              "      <th>region</th>\n",
              "      <th>district_code</th>\n",
              "      <th>lga</th>\n",
              "      <th>ward</th>\n",
              "      <th>population</th>\n",
              "      <th>public_meeting</th>\n",
              "      <th>permit</th>\n",
              "      <th>construction_year</th>\n",
              "      <th>extraction_type_group</th>\n",
              "      <th>management</th>\n",
              "      <th>payment</th>\n",
              "      <th>water_quality</th>\n",
              "      <th>quantity</th>\n",
              "      <th>source</th>\n",
              "      <th>waterpoint_type</th>\n",
              "      <th>decade</th>\n",
              "    </tr>\n",
              "    <tr>\n",
              "      <th>status_group</th>\n",
              "      <th></th>\n",
              "      <th></th>\n",
              "      <th></th>\n",
              "      <th></th>\n",
              "      <th></th>\n",
              "      <th></th>\n",
              "      <th></th>\n",
              "      <th></th>\n",
              "      <th></th>\n",
              "      <th></th>\n",
              "      <th></th>\n",
              "      <th></th>\n",
              "      <th></th>\n",
              "      <th></th>\n",
              "      <th></th>\n",
              "      <th></th>\n",
              "      <th></th>\n",
              "      <th></th>\n",
              "      <th></th>\n",
              "      <th></th>\n",
              "      <th></th>\n",
              "      <th></th>\n",
              "      <th></th>\n",
              "      <th></th>\n",
              "      <th></th>\n",
              "      <th></th>\n",
              "      <th></th>\n",
              "    </tr>\n",
              "  </thead>\n",
              "  <tbody>\n",
              "    <tr>\n",
              "      <th>functional</th>\n",
              "      <td>11274</td>\n",
              "      <td>11274</td>\n",
              "      <td>11274</td>\n",
              "      <td>10048</td>\n",
              "      <td>11274</td>\n",
              "      <td>10033</td>\n",
              "      <td>11274</td>\n",
              "      <td>11274</td>\n",
              "      <td>11274</td>\n",
              "      <td>11274</td>\n",
              "      <td>11071</td>\n",
              "      <td>11274</td>\n",
              "      <td>11274</td>\n",
              "      <td>11274</td>\n",
              "      <td>11274</td>\n",
              "      <td>11274</td>\n",
              "      <td>10700</td>\n",
              "      <td>10596</td>\n",
              "      <td>11274</td>\n",
              "      <td>11274</td>\n",
              "      <td>11274</td>\n",
              "      <td>11274</td>\n",
              "      <td>11274</td>\n",
              "      <td>11274</td>\n",
              "      <td>11274</td>\n",
              "      <td>11274</td>\n",
              "      <td>11274</td>\n",
              "    </tr>\n",
              "    <tr>\n",
              "      <th>functional needs repair</th>\n",
              "      <td>1775</td>\n",
              "      <td>1775</td>\n",
              "      <td>1775</td>\n",
              "      <td>1464</td>\n",
              "      <td>1775</td>\n",
              "      <td>1462</td>\n",
              "      <td>1775</td>\n",
              "      <td>1775</td>\n",
              "      <td>1775</td>\n",
              "      <td>1775</td>\n",
              "      <td>1775</td>\n",
              "      <td>1775</td>\n",
              "      <td>1775</td>\n",
              "      <td>1775</td>\n",
              "      <td>1775</td>\n",
              "      <td>1775</td>\n",
              "      <td>1732</td>\n",
              "      <td>1613</td>\n",
              "      <td>1775</td>\n",
              "      <td>1775</td>\n",
              "      <td>1775</td>\n",
              "      <td>1775</td>\n",
              "      <td>1775</td>\n",
              "      <td>1775</td>\n",
              "      <td>1775</td>\n",
              "      <td>1775</td>\n",
              "      <td>1775</td>\n",
              "    </tr>\n",
              "    <tr>\n",
              "      <th>non functional</th>\n",
              "      <td>8332</td>\n",
              "      <td>8332</td>\n",
              "      <td>8332</td>\n",
              "      <td>7753</td>\n",
              "      <td>8332</td>\n",
              "      <td>7755</td>\n",
              "      <td>8332</td>\n",
              "      <td>8332</td>\n",
              "      <td>8332</td>\n",
              "      <td>8332</td>\n",
              "      <td>8174</td>\n",
              "      <td>8332</td>\n",
              "      <td>8332</td>\n",
              "      <td>8332</td>\n",
              "      <td>8332</td>\n",
              "      <td>8332</td>\n",
              "      <td>7967</td>\n",
              "      <td>8063</td>\n",
              "      <td>8332</td>\n",
              "      <td>8332</td>\n",
              "      <td>8332</td>\n",
              "      <td>8332</td>\n",
              "      <td>8332</td>\n",
              "      <td>8332</td>\n",
              "      <td>8332</td>\n",
              "      <td>8332</td>\n",
              "      <td>8332</td>\n",
              "    </tr>\n",
              "  </tbody>\n",
              "</table>\n",
              "</div>"
            ],
            "text/plain": [
              "                         index     id  ...  waterpoint_type  decade\n",
              "status_group                           ...                         \n",
              "functional               11274  11274  ...            11274   11274\n",
              "functional needs repair   1775   1775  ...             1775    1775\n",
              "non functional            8332   8332  ...             8332    8332\n",
              "\n",
              "[3 rows x 27 columns]"
            ]
          },
          "metadata": {},
          "execution_count": 65
        }
      ]
    },
    {
      "cell_type": "code",
      "metadata": {
        "colab": {
          "base_uri": "https://localhost:8080/",
          "height": 295
        },
        "id": "VjbjoTMzFXRX",
        "outputId": "84845fc8-0ff1-43fc-e0b5-7da84a78e2e6"
      },
      "source": [
        "df.loc[df['population']!=0].describe()"
      ],
      "execution_count": 66,
      "outputs": [
        {
          "output_type": "execute_result",
          "data": {
            "text/html": [
              "<div>\n",
              "<style scoped>\n",
              "    .dataframe tbody tr th:only-of-type {\n",
              "        vertical-align: middle;\n",
              "    }\n",
              "\n",
              "    .dataframe tbody tr th {\n",
              "        vertical-align: top;\n",
              "    }\n",
              "\n",
              "    .dataframe thead th {\n",
              "        text-align: right;\n",
              "    }\n",
              "</style>\n",
              "<table border=\"1\" class=\"dataframe\">\n",
              "  <thead>\n",
              "    <tr style=\"text-align: right;\">\n",
              "      <th></th>\n",
              "      <th>index</th>\n",
              "      <th>id</th>\n",
              "      <th>amount_tsh</th>\n",
              "      <th>gps_height</th>\n",
              "      <th>longitude</th>\n",
              "      <th>latitude</th>\n",
              "      <th>num_private</th>\n",
              "      <th>district_code</th>\n",
              "      <th>population</th>\n",
              "      <th>construction_year</th>\n",
              "    </tr>\n",
              "  </thead>\n",
              "  <tbody>\n",
              "    <tr>\n",
              "      <th>count</th>\n",
              "      <td>47416.000000</td>\n",
              "      <td>47416.000000</td>\n",
              "      <td>47416.000000</td>\n",
              "      <td>47416.000000</td>\n",
              "      <td>47416.000000</td>\n",
              "      <td>47416.000000</td>\n",
              "      <td>47416.000000</td>\n",
              "      <td>47416.000000</td>\n",
              "      <td>47416.000000</td>\n",
              "      <td>47416.000000</td>\n",
              "    </tr>\n",
              "    <tr>\n",
              "      <th>mean</th>\n",
              "      <td>37060.327421</td>\n",
              "      <td>37109.020394</td>\n",
              "      <td>447.783038</td>\n",
              "      <td>967.471254</td>\n",
              "      <td>36.078646</td>\n",
              "      <td>-6.140993</td>\n",
              "      <td>0.723975</td>\n",
              "      <td>6.300405</td>\n",
              "      <td>283.042623</td>\n",
              "      <td>1996.964379</td>\n",
              "    </tr>\n",
              "    <tr>\n",
              "      <th>std</th>\n",
              "      <td>21429.562428</td>\n",
              "      <td>21406.625880</td>\n",
              "      <td>3592.900978</td>\n",
              "      <td>612.979582</td>\n",
              "      <td>2.587554</td>\n",
              "      <td>2.736761</td>\n",
              "      <td>14.431650</td>\n",
              "      <td>11.327183</td>\n",
              "      <td>564.413842</td>\n",
              "      <td>12.397505</td>\n",
              "    </tr>\n",
              "    <tr>\n",
              "      <th>min</th>\n",
              "      <td>0.000000</td>\n",
              "      <td>1.000000</td>\n",
              "      <td>0.000000</td>\n",
              "      <td>-90.000000</td>\n",
              "      <td>29.607122</td>\n",
              "      <td>-11.649440</td>\n",
              "      <td>0.000000</td>\n",
              "      <td>1.000000</td>\n",
              "      <td>1.000000</td>\n",
              "      <td>1960.000000</td>\n",
              "    </tr>\n",
              "    <tr>\n",
              "      <th>25%</th>\n",
              "      <td>18483.750000</td>\n",
              "      <td>18541.750000</td>\n",
              "      <td>0.000000</td>\n",
              "      <td>344.000000</td>\n",
              "      <td>34.715217</td>\n",
              "      <td>-8.383484</td>\n",
              "      <td>0.000000</td>\n",
              "      <td>2.000000</td>\n",
              "      <td>40.000000</td>\n",
              "      <td>1988.000000</td>\n",
              "    </tr>\n",
              "    <tr>\n",
              "      <th>50%</th>\n",
              "      <td>37109.500000</td>\n",
              "      <td>37126.500000</td>\n",
              "      <td>0.000000</td>\n",
              "      <td>1133.000000</td>\n",
              "      <td>36.714568</td>\n",
              "      <td>-5.765866</td>\n",
              "      <td>0.000000</td>\n",
              "      <td>3.000000</td>\n",
              "      <td>150.000000</td>\n",
              "      <td>2000.000000</td>\n",
              "    </tr>\n",
              "    <tr>\n",
              "      <th>75%</th>\n",
              "      <td>55569.250000</td>\n",
              "      <td>55568.250000</td>\n",
              "      <td>100.000000</td>\n",
              "      <td>1461.000000</td>\n",
              "      <td>37.949838</td>\n",
              "      <td>-3.600882</td>\n",
              "      <td>0.000000</td>\n",
              "      <td>5.000000</td>\n",
              "      <td>328.000000</td>\n",
              "      <td>2008.000000</td>\n",
              "    </tr>\n",
              "    <tr>\n",
              "      <th>max</th>\n",
              "      <td>74249.000000</td>\n",
              "      <td>74249.000000</td>\n",
              "      <td>350000.000000</td>\n",
              "      <td>2777.000000</td>\n",
              "      <td>40.345193</td>\n",
              "      <td>-1.042375</td>\n",
              "      <td>1776.000000</td>\n",
              "      <td>67.000000</td>\n",
              "      <td>30500.000000</td>\n",
              "      <td>2013.000000</td>\n",
              "    </tr>\n",
              "  </tbody>\n",
              "</table>\n",
              "</div>"
            ],
            "text/plain": [
              "              index            id  ...    population  construction_year\n",
              "count  47416.000000  47416.000000  ...  47416.000000       47416.000000\n",
              "mean   37060.327421  37109.020394  ...    283.042623        1996.964379\n",
              "std    21429.562428  21406.625880  ...    564.413842          12.397505\n",
              "min        0.000000      1.000000  ...      1.000000        1960.000000\n",
              "25%    18483.750000  18541.750000  ...     40.000000        1988.000000\n",
              "50%    37109.500000  37126.500000  ...    150.000000        2000.000000\n",
              "75%    55569.250000  55568.250000  ...    328.000000        2008.000000\n",
              "max    74249.000000  74249.000000  ...  30500.000000        2013.000000\n",
              "\n",
              "[8 rows x 10 columns]"
            ]
          },
          "metadata": {},
          "execution_count": 66
        }
      ]
    },
    {
      "cell_type": "code",
      "metadata": {
        "id": "dAIQ9rv-FY07"
      },
      "source": [
        "df['population'].replace(to_replace = 0 , value =281, inplace=True)"
      ],
      "execution_count": 67,
      "outputs": []
    },
    {
      "cell_type": "code",
      "metadata": {
        "colab": {
          "base_uri": "https://localhost:8080/"
        },
        "id": "hVv4KGh6iLU6",
        "outputId": "b193f599-a64b-4b60-a04f-8495a294737b"
      },
      "source": [
        "df.info()"
      ],
      "execution_count": 68,
      "outputs": [
        {
          "output_type": "stream",
          "name": "stdout",
          "text": [
            "<class 'pandas.core.frame.DataFrame'>\n",
            "RangeIndex: 74250 entries, 0 to 74249\n",
            "Data columns (total 28 columns):\n",
            " #   Column                 Non-Null Count  Dtype  \n",
            "---  ------                 --------------  -----  \n",
            " 0   index                  74250 non-null  int64  \n",
            " 1   id                     74250 non-null  int64  \n",
            " 2   amount_tsh             74250 non-null  float64\n",
            " 3   funder                 69746 non-null  object \n",
            " 4   gps_height             74250 non-null  int64  \n",
            " 5   installer              69718 non-null  object \n",
            " 6   longitude              74250 non-null  float64\n",
            " 7   latitude               74250 non-null  float64\n",
            " 8   num_private            74250 non-null  int64  \n",
            " 9   basin                  74250 non-null  object \n",
            " 10  subvillage             73780 non-null  object \n",
            " 11  region                 74250 non-null  object \n",
            " 12  district_code          74250 non-null  int64  \n",
            " 13  lga                    74250 non-null  object \n",
            " 14  ward                   74250 non-null  object \n",
            " 15  population             74250 non-null  int64  \n",
            " 16  public_meeting         70095 non-null  object \n",
            " 17  permit                 70457 non-null  object \n",
            " 18  construction_year      74250 non-null  int64  \n",
            " 19  extraction_type_group  74250 non-null  object \n",
            " 20  management             74250 non-null  object \n",
            " 21  payment                74250 non-null  object \n",
            " 22  water_quality          74250 non-null  object \n",
            " 23  quantity               74250 non-null  object \n",
            " 24  source                 74250 non-null  object \n",
            " 25  waterpoint_type        74250 non-null  object \n",
            " 26  status_group           59400 non-null  object \n",
            " 27  decade                 74250 non-null  object \n",
            "dtypes: float64(3), int64(7), object(18)\n",
            "memory usage: 15.9+ MB\n"
          ]
        }
      ]
    },
    {
      "cell_type": "code",
      "metadata": {
        "colab": {
          "base_uri": "https://localhost:8080/"
        },
        "id": "f5ZEDJ_pFb37",
        "outputId": "5e71afdc-d771-4108-8273-c65ea9c3cbff"
      },
      "source": [
        "df['subvillage'].nunique()"
      ],
      "execution_count": 69,
      "outputs": [
        {
          "output_type": "execute_result",
          "data": {
            "text/plain": [
              "21425"
            ]
          },
          "metadata": {},
          "execution_count": 69
        }
      ]
    },
    {
      "cell_type": "code",
      "metadata": {
        "id": "Cn1Fo1RhFdPP"
      },
      "source": [
        "df.drop(columns=['subvillage'],inplace=True )"
      ],
      "execution_count": 70,
      "outputs": []
    },
    {
      "cell_type": "code",
      "metadata": {
        "colab": {
          "base_uri": "https://localhost:8080/"
        },
        "id": "usfSRkM9FiGT",
        "outputId": "655fa826-756f-4e95-ced2-c446be32ee10"
      },
      "source": [
        "df['public_meeting'].value_counts()"
      ],
      "execution_count": 71,
      "outputs": [
        {
          "output_type": "execute_result",
          "data": {
            "text/plain": [
              "True     63749\n",
              "False     6346\n",
              "Name: public_meeting, dtype: int64"
            ]
          },
          "metadata": {},
          "execution_count": 71
        }
      ]
    },
    {
      "cell_type": "code",
      "metadata": {
        "id": "H-HCFBIZFj-c"
      },
      "source": [
        "df['public_meeting'].fillna(value=True,inplace=True)"
      ],
      "execution_count": 72,
      "outputs": []
    },
    {
      "cell_type": "code",
      "metadata": {
        "colab": {
          "base_uri": "https://localhost:8080/"
        },
        "id": "25dMv5jPFlGh",
        "outputId": "5a6e3088-3997-439f-e005-dfee5a433710"
      },
      "source": [
        "df['permit'].value_counts()"
      ],
      "execution_count": 73,
      "outputs": [
        {
          "output_type": "execute_result",
          "data": {
            "text/plain": [
              "True     48606\n",
              "False    21851\n",
              "Name: permit, dtype: int64"
            ]
          },
          "metadata": {},
          "execution_count": 73
        }
      ]
    },
    {
      "cell_type": "code",
      "metadata": {
        "id": "cnZkgHxjFmNA"
      },
      "source": [
        "df['permit'].fillna(value=True, inplace=True)"
      ],
      "execution_count": 74,
      "outputs": []
    },
    {
      "cell_type": "code",
      "metadata": {
        "id": "ebPH8JfjFqd8"
      },
      "source": [
        "df['funder'] = pd.factorize(df['funder'])[0]\n",
        "df['installer'] = pd.factorize(df['installer'])[0]\n",
        "df['decade'] = pd.factorize(df['decade'])[0]\n",
        "df['basin'] = pd.factorize(df['basin'])[0]\n",
        "df['region'] = pd.factorize(df['region'])[0]\n",
        "df['lga'] = pd.factorize(df['lga'])[0]\n",
        "df['ward'] = pd.factorize(df['ward'])[0]\n",
        "df['extraction_type_group'] = pd.factorize(df['extraction_type_group'])[0]\n",
        "df['management'] = pd.factorize(df['management'])[0]\n",
        "df['payment'] = pd.factorize(df['payment'])[0]\n",
        "df['water_quality'] = pd.factorize(df['water_quality'])[0]\n",
        "df['quantity'] = pd.factorize(df['quantity'])[0]\n",
        "df['source'] = pd.factorize(df['source'])[0]\n",
        "df['waterpoint_type'] = pd.factorize(df['waterpoint_type'])[0]"
      ],
      "execution_count": 75,
      "outputs": []
    },
    {
      "cell_type": "code",
      "metadata": {
        "colab": {
          "base_uri": "https://localhost:8080/"
        },
        "id": "cdS8QXvMFtpi",
        "outputId": "9efb2c8c-fc70-4aab-f75f-63a745cc828e"
      },
      "source": [
        "df.info()"
      ],
      "execution_count": 76,
      "outputs": [
        {
          "output_type": "stream",
          "name": "stdout",
          "text": [
            "<class 'pandas.core.frame.DataFrame'>\n",
            "RangeIndex: 74250 entries, 0 to 74249\n",
            "Data columns (total 27 columns):\n",
            " #   Column                 Non-Null Count  Dtype  \n",
            "---  ------                 --------------  -----  \n",
            " 0   index                  74250 non-null  int64  \n",
            " 1   id                     74250 non-null  int64  \n",
            " 2   amount_tsh             74250 non-null  float64\n",
            " 3   funder                 74250 non-null  int64  \n",
            " 4   gps_height             74250 non-null  int64  \n",
            " 5   installer              74250 non-null  int64  \n",
            " 6   longitude              74250 non-null  float64\n",
            " 7   latitude               74250 non-null  float64\n",
            " 8   num_private            74250 non-null  int64  \n",
            " 9   basin                  74250 non-null  int64  \n",
            " 10  region                 74250 non-null  int64  \n",
            " 11  district_code          74250 non-null  int64  \n",
            " 12  lga                    74250 non-null  int64  \n",
            " 13  ward                   74250 non-null  int64  \n",
            " 14  population             74250 non-null  int64  \n",
            " 15  public_meeting         74250 non-null  bool   \n",
            " 16  permit                 74250 non-null  bool   \n",
            " 17  construction_year      74250 non-null  int64  \n",
            " 18  extraction_type_group  74250 non-null  int64  \n",
            " 19  management             74250 non-null  int64  \n",
            " 20  payment                74250 non-null  int64  \n",
            " 21  water_quality          74250 non-null  int64  \n",
            " 22  quantity               74250 non-null  int64  \n",
            " 23  source                 74250 non-null  int64  \n",
            " 24  waterpoint_type        74250 non-null  int64  \n",
            " 25  status_group           59400 non-null  object \n",
            " 26  decade                 74250 non-null  int64  \n",
            "dtypes: bool(2), float64(3), int64(21), object(1)\n",
            "memory usage: 14.3+ MB\n"
          ]
        }
      ]
    },
    {
      "cell_type": "code",
      "metadata": {
        "colab": {
          "base_uri": "https://localhost:8080/"
        },
        "id": "mFdfoxvbguOS",
        "outputId": "46000cee-afa9-4108-e163-d742f67dbfa3"
      },
      "source": [
        "len_data"
      ],
      "execution_count": 77,
      "outputs": [
        {
          "output_type": "execute_result",
          "data": {
            "text/plain": [
              "59400"
            ]
          },
          "metadata": {},
          "execution_count": 77
        }
      ]
    },
    {
      "cell_type": "code",
      "metadata": {
        "colab": {
          "base_uri": "https://localhost:8080/"
        },
        "id": "KWa4fw-fhnFA",
        "outputId": "6e928a10-1bde-4829-9015-a3c5aba15562"
      },
      "source": [
        "df.shape"
      ],
      "execution_count": 78,
      "outputs": [
        {
          "output_type": "execute_result",
          "data": {
            "text/plain": [
              "(74250, 27)"
            ]
          },
          "metadata": {},
          "execution_count": 78
        }
      ]
    },
    {
      "cell_type": "code",
      "metadata": {
        "colab": {
          "base_uri": "https://localhost:8080/"
        },
        "id": "4KipIEy0kTxf",
        "outputId": "1e2dd6d9-bde7-4a80-83e0-6033a2b0ac2d"
      },
      "source": [
        "df.isna().sum()"
      ],
      "execution_count": 79,
      "outputs": [
        {
          "output_type": "execute_result",
          "data": {
            "text/plain": [
              "index                        0\n",
              "id                           0\n",
              "amount_tsh                   0\n",
              "funder                       0\n",
              "gps_height                   0\n",
              "installer                    0\n",
              "longitude                    0\n",
              "latitude                     0\n",
              "num_private                  0\n",
              "basin                        0\n",
              "region                       0\n",
              "district_code                0\n",
              "lga                          0\n",
              "ward                         0\n",
              "population                   0\n",
              "public_meeting               0\n",
              "permit                       0\n",
              "construction_year            0\n",
              "extraction_type_group        0\n",
              "management                   0\n",
              "payment                      0\n",
              "water_quality                0\n",
              "quantity                     0\n",
              "source                       0\n",
              "waterpoint_type              0\n",
              "status_group             14850\n",
              "decade                       0\n",
              "dtype: int64"
            ]
          },
          "metadata": {},
          "execution_count": 79
        }
      ]
    },
    {
      "cell_type": "code",
      "metadata": {
        "id": "iF4EZWPxFvgq"
      },
      "source": [
        "df.drop(columns=['status_group'],inplace=True )\n",
        "X_train = df[:len_data]\n",
        "test1 = df[len_data:]"
      ],
      "execution_count": 80,
      "outputs": []
    },
    {
      "cell_type": "code",
      "metadata": {
        "colab": {
          "base_uri": "https://localhost:8080/",
          "height": 223
        },
        "id": "oZQsX53xg0Ie",
        "outputId": "ff6c2a2a-e2e1-496b-8183-f699261dc966"
      },
      "source": [
        "test1.head()\n"
      ],
      "execution_count": 81,
      "outputs": [
        {
          "output_type": "execute_result",
          "data": {
            "text/html": [
              "<div>\n",
              "<style scoped>\n",
              "    .dataframe tbody tr th:only-of-type {\n",
              "        vertical-align: middle;\n",
              "    }\n",
              "\n",
              "    .dataframe tbody tr th {\n",
              "        vertical-align: top;\n",
              "    }\n",
              "\n",
              "    .dataframe thead th {\n",
              "        text-align: right;\n",
              "    }\n",
              "</style>\n",
              "<table border=\"1\" class=\"dataframe\">\n",
              "  <thead>\n",
              "    <tr style=\"text-align: right;\">\n",
              "      <th></th>\n",
              "      <th>index</th>\n",
              "      <th>id</th>\n",
              "      <th>amount_tsh</th>\n",
              "      <th>funder</th>\n",
              "      <th>gps_height</th>\n",
              "      <th>installer</th>\n",
              "      <th>longitude</th>\n",
              "      <th>latitude</th>\n",
              "      <th>num_private</th>\n",
              "      <th>basin</th>\n",
              "      <th>region</th>\n",
              "      <th>district_code</th>\n",
              "      <th>lga</th>\n",
              "      <th>ward</th>\n",
              "      <th>population</th>\n",
              "      <th>public_meeting</th>\n",
              "      <th>permit</th>\n",
              "      <th>construction_year</th>\n",
              "      <th>extraction_type_group</th>\n",
              "      <th>management</th>\n",
              "      <th>payment</th>\n",
              "      <th>water_quality</th>\n",
              "      <th>quantity</th>\n",
              "      <th>source</th>\n",
              "      <th>waterpoint_type</th>\n",
              "      <th>decade</th>\n",
              "    </tr>\n",
              "  </thead>\n",
              "  <tbody>\n",
              "    <tr>\n",
              "      <th>59400</th>\n",
              "      <td>59400</td>\n",
              "      <td>50785</td>\n",
              "      <td>0.0</td>\n",
              "      <td>162</td>\n",
              "      <td>1996</td>\n",
              "      <td>340</td>\n",
              "      <td>35.290799</td>\n",
              "      <td>-4.059696</td>\n",
              "      <td>0</td>\n",
              "      <td>4</td>\n",
              "      <td>2</td>\n",
              "      <td>3</td>\n",
              "      <td>37</td>\n",
              "      <td>573</td>\n",
              "      <td>321</td>\n",
              "      <td>True</td>\n",
              "      <td>True</td>\n",
              "      <td>2012</td>\n",
              "      <td>5</td>\n",
              "      <td>8</td>\n",
              "      <td>1</td>\n",
              "      <td>0</td>\n",
              "      <td>3</td>\n",
              "      <td>1</td>\n",
              "      <td>3</td>\n",
              "      <td>1</td>\n",
              "    </tr>\n",
              "    <tr>\n",
              "      <th>59401</th>\n",
              "      <td>59401</td>\n",
              "      <td>51630</td>\n",
              "      <td>0.0</td>\n",
              "      <td>20</td>\n",
              "      <td>1569</td>\n",
              "      <td>5</td>\n",
              "      <td>36.656709</td>\n",
              "      <td>-3.309214</td>\n",
              "      <td>0</td>\n",
              "      <td>2</td>\n",
              "      <td>16</td>\n",
              "      <td>2</td>\n",
              "      <td>26</td>\n",
              "      <td>367</td>\n",
              "      <td>300</td>\n",
              "      <td>True</td>\n",
              "      <td>True</td>\n",
              "      <td>2000</td>\n",
              "      <td>0</td>\n",
              "      <td>0</td>\n",
              "      <td>1</td>\n",
              "      <td>0</td>\n",
              "      <td>1</td>\n",
              "      <td>0</td>\n",
              "      <td>0</td>\n",
              "      <td>2</td>\n",
              "    </tr>\n",
              "    <tr>\n",
              "      <th>59402</th>\n",
              "      <td>59402</td>\n",
              "      <td>17168</td>\n",
              "      <td>0.0</td>\n",
              "      <td>-1</td>\n",
              "      <td>1567</td>\n",
              "      <td>-1</td>\n",
              "      <td>34.767863</td>\n",
              "      <td>-5.004344</td>\n",
              "      <td>0</td>\n",
              "      <td>4</td>\n",
              "      <td>18</td>\n",
              "      <td>2</td>\n",
              "      <td>32</td>\n",
              "      <td>647</td>\n",
              "      <td>500</td>\n",
              "      <td>True</td>\n",
              "      <td>True</td>\n",
              "      <td>2010</td>\n",
              "      <td>5</td>\n",
              "      <td>0</td>\n",
              "      <td>1</td>\n",
              "      <td>0</td>\n",
              "      <td>1</td>\n",
              "      <td>1</td>\n",
              "      <td>3</td>\n",
              "      <td>1</td>\n",
              "    </tr>\n",
              "    <tr>\n",
              "      <th>59403</th>\n",
              "      <td>59403</td>\n",
              "      <td>45559</td>\n",
              "      <td>0.0</td>\n",
              "      <td>143</td>\n",
              "      <td>267</td>\n",
              "      <td>129</td>\n",
              "      <td>38.058046</td>\n",
              "      <td>-9.418672</td>\n",
              "      <td>0</td>\n",
              "      <td>3</td>\n",
              "      <td>14</td>\n",
              "      <td>43</td>\n",
              "      <td>105</td>\n",
              "      <td>1795</td>\n",
              "      <td>250</td>\n",
              "      <td>True</td>\n",
              "      <td>True</td>\n",
              "      <td>1987</td>\n",
              "      <td>5</td>\n",
              "      <td>0</td>\n",
              "      <td>3</td>\n",
              "      <td>0</td>\n",
              "      <td>2</td>\n",
              "      <td>5</td>\n",
              "      <td>3</td>\n",
              "      <td>3</td>\n",
              "    </tr>\n",
              "    <tr>\n",
              "      <th>59404</th>\n",
              "      <td>59404</td>\n",
              "      <td>49871</td>\n",
              "      <td>500.0</td>\n",
              "      <td>1036</td>\n",
              "      <td>1260</td>\n",
              "      <td>1131</td>\n",
              "      <td>35.006123</td>\n",
              "      <td>-10.950412</td>\n",
              "      <td>0</td>\n",
              "      <td>3</td>\n",
              "      <td>9</td>\n",
              "      <td>3</td>\n",
              "      <td>97</td>\n",
              "      <td>653</td>\n",
              "      <td>60</td>\n",
              "      <td>True</td>\n",
              "      <td>True</td>\n",
              "      <td>2000</td>\n",
              "      <td>0</td>\n",
              "      <td>4</td>\n",
              "      <td>6</td>\n",
              "      <td>0</td>\n",
              "      <td>0</td>\n",
              "      <td>0</td>\n",
              "      <td>0</td>\n",
              "      <td>2</td>\n",
              "    </tr>\n",
              "  </tbody>\n",
              "</table>\n",
              "</div>"
            ],
            "text/plain": [
              "       index     id  amount_tsh  ...  source  waterpoint_type  decade\n",
              "59400  59400  50785         0.0  ...       1                3       1\n",
              "59401  59401  51630         0.0  ...       0                0       2\n",
              "59402  59402  17168         0.0  ...       1                3       1\n",
              "59403  59403  45559         0.0  ...       5                3       3\n",
              "59404  59404  49871       500.0  ...       0                0       2\n",
              "\n",
              "[5 rows x 26 columns]"
            ]
          },
          "metadata": {},
          "execution_count": 81
        }
      ]
    },
    {
      "cell_type": "code",
      "metadata": {
        "colab": {
          "base_uri": "https://localhost:8080/",
          "height": 223
        },
        "id": "_aXkHGcyImEC",
        "outputId": "731d1230-fa65-456f-ef96-e35212714d92"
      },
      "source": [
        "X_train.head()"
      ],
      "execution_count": 82,
      "outputs": [
        {
          "output_type": "execute_result",
          "data": {
            "text/html": [
              "<div>\n",
              "<style scoped>\n",
              "    .dataframe tbody tr th:only-of-type {\n",
              "        vertical-align: middle;\n",
              "    }\n",
              "\n",
              "    .dataframe tbody tr th {\n",
              "        vertical-align: top;\n",
              "    }\n",
              "\n",
              "    .dataframe thead th {\n",
              "        text-align: right;\n",
              "    }\n",
              "</style>\n",
              "<table border=\"1\" class=\"dataframe\">\n",
              "  <thead>\n",
              "    <tr style=\"text-align: right;\">\n",
              "      <th></th>\n",
              "      <th>index</th>\n",
              "      <th>id</th>\n",
              "      <th>amount_tsh</th>\n",
              "      <th>funder</th>\n",
              "      <th>gps_height</th>\n",
              "      <th>installer</th>\n",
              "      <th>longitude</th>\n",
              "      <th>latitude</th>\n",
              "      <th>num_private</th>\n",
              "      <th>basin</th>\n",
              "      <th>region</th>\n",
              "      <th>district_code</th>\n",
              "      <th>lga</th>\n",
              "      <th>ward</th>\n",
              "      <th>population</th>\n",
              "      <th>public_meeting</th>\n",
              "      <th>permit</th>\n",
              "      <th>construction_year</th>\n",
              "      <th>extraction_type_group</th>\n",
              "      <th>management</th>\n",
              "      <th>payment</th>\n",
              "      <th>water_quality</th>\n",
              "      <th>quantity</th>\n",
              "      <th>source</th>\n",
              "      <th>waterpoint_type</th>\n",
              "      <th>decade</th>\n",
              "    </tr>\n",
              "  </thead>\n",
              "  <tbody>\n",
              "    <tr>\n",
              "      <th>0</th>\n",
              "      <td>0</td>\n",
              "      <td>69572</td>\n",
              "      <td>6000.0</td>\n",
              "      <td>0</td>\n",
              "      <td>1390</td>\n",
              "      <td>0</td>\n",
              "      <td>34.938093</td>\n",
              "      <td>-9.856322</td>\n",
              "      <td>0</td>\n",
              "      <td>0</td>\n",
              "      <td>0</td>\n",
              "      <td>5</td>\n",
              "      <td>0</td>\n",
              "      <td>0</td>\n",
              "      <td>109</td>\n",
              "      <td>True</td>\n",
              "      <td>False</td>\n",
              "      <td>1999</td>\n",
              "      <td>0</td>\n",
              "      <td>0</td>\n",
              "      <td>0</td>\n",
              "      <td>0</td>\n",
              "      <td>0</td>\n",
              "      <td>0</td>\n",
              "      <td>0</td>\n",
              "      <td>0</td>\n",
              "    </tr>\n",
              "    <tr>\n",
              "      <th>1</th>\n",
              "      <td>1</td>\n",
              "      <td>8776</td>\n",
              "      <td>0.0</td>\n",
              "      <td>1</td>\n",
              "      <td>1399</td>\n",
              "      <td>1</td>\n",
              "      <td>34.698766</td>\n",
              "      <td>-2.147466</td>\n",
              "      <td>0</td>\n",
              "      <td>1</td>\n",
              "      <td>1</td>\n",
              "      <td>2</td>\n",
              "      <td>1</td>\n",
              "      <td>1</td>\n",
              "      <td>280</td>\n",
              "      <td>True</td>\n",
              "      <td>True</td>\n",
              "      <td>2010</td>\n",
              "      <td>0</td>\n",
              "      <td>1</td>\n",
              "      <td>1</td>\n",
              "      <td>0</td>\n",
              "      <td>1</td>\n",
              "      <td>1</td>\n",
              "      <td>0</td>\n",
              "      <td>1</td>\n",
              "    </tr>\n",
              "    <tr>\n",
              "      <th>2</th>\n",
              "      <td>2</td>\n",
              "      <td>34310</td>\n",
              "      <td>25.0</td>\n",
              "      <td>2</td>\n",
              "      <td>686</td>\n",
              "      <td>2</td>\n",
              "      <td>37.460664</td>\n",
              "      <td>-3.821329</td>\n",
              "      <td>0</td>\n",
              "      <td>2</td>\n",
              "      <td>2</td>\n",
              "      <td>4</td>\n",
              "      <td>2</td>\n",
              "      <td>2</td>\n",
              "      <td>250</td>\n",
              "      <td>True</td>\n",
              "      <td>True</td>\n",
              "      <td>2009</td>\n",
              "      <td>0</td>\n",
              "      <td>0</td>\n",
              "      <td>2</td>\n",
              "      <td>0</td>\n",
              "      <td>0</td>\n",
              "      <td>2</td>\n",
              "      <td>1</td>\n",
              "      <td>2</td>\n",
              "    </tr>\n",
              "    <tr>\n",
              "      <th>3</th>\n",
              "      <td>3</td>\n",
              "      <td>67743</td>\n",
              "      <td>0.0</td>\n",
              "      <td>3</td>\n",
              "      <td>263</td>\n",
              "      <td>3</td>\n",
              "      <td>38.486161</td>\n",
              "      <td>-11.155298</td>\n",
              "      <td>0</td>\n",
              "      <td>3</td>\n",
              "      <td>3</td>\n",
              "      <td>63</td>\n",
              "      <td>3</td>\n",
              "      <td>3</td>\n",
              "      <td>58</td>\n",
              "      <td>True</td>\n",
              "      <td>True</td>\n",
              "      <td>1986</td>\n",
              "      <td>1</td>\n",
              "      <td>0</td>\n",
              "      <td>1</td>\n",
              "      <td>0</td>\n",
              "      <td>2</td>\n",
              "      <td>3</td>\n",
              "      <td>1</td>\n",
              "      <td>3</td>\n",
              "    </tr>\n",
              "    <tr>\n",
              "      <th>4</th>\n",
              "      <td>4</td>\n",
              "      <td>19728</td>\n",
              "      <td>0.0</td>\n",
              "      <td>4</td>\n",
              "      <td>0</td>\n",
              "      <td>4</td>\n",
              "      <td>31.130847</td>\n",
              "      <td>-1.825359</td>\n",
              "      <td>0</td>\n",
              "      <td>1</td>\n",
              "      <td>4</td>\n",
              "      <td>1</td>\n",
              "      <td>4</td>\n",
              "      <td>4</td>\n",
              "      <td>281</td>\n",
              "      <td>True</td>\n",
              "      <td>True</td>\n",
              "      <td>2000</td>\n",
              "      <td>0</td>\n",
              "      <td>2</td>\n",
              "      <td>1</td>\n",
              "      <td>0</td>\n",
              "      <td>3</td>\n",
              "      <td>1</td>\n",
              "      <td>0</td>\n",
              "      <td>4</td>\n",
              "    </tr>\n",
              "  </tbody>\n",
              "</table>\n",
              "</div>"
            ],
            "text/plain": [
              "   index     id  amount_tsh  funder  ...  quantity  source  waterpoint_type  decade\n",
              "0      0  69572      6000.0       0  ...         0       0                0       0\n",
              "1      1   8776         0.0       1  ...         1       1                0       1\n",
              "2      2  34310        25.0       2  ...         0       2                1       2\n",
              "3      3  67743         0.0       3  ...         2       3                1       3\n",
              "4      4  19728         0.0       4  ...         3       1                0       4\n",
              "\n",
              "[5 rows x 26 columns]"
            ]
          },
          "metadata": {},
          "execution_count": 82
        }
      ]
    },
    {
      "cell_type": "code",
      "metadata": {
        "colab": {
          "base_uri": "https://localhost:8080/"
        },
        "id": "Z5Zgno4VQ-Yz",
        "outputId": "f86d85ea-a2b4-4c49-cb31-c149b54e9ace"
      },
      "source": [
        "df.shape"
      ],
      "execution_count": 83,
      "outputs": [
        {
          "output_type": "execute_result",
          "data": {
            "text/plain": [
              "(74250, 26)"
            ]
          },
          "metadata": {},
          "execution_count": 83
        }
      ]
    },
    {
      "cell_type": "code",
      "metadata": {
        "colab": {
          "base_uri": "https://localhost:8080/"
        },
        "id": "dB-BwxG7kpcU",
        "outputId": "02993628-12fa-4234-d679-d43ed244852b"
      },
      "source": [
        "X_train.mean()"
      ],
      "execution_count": 84,
      "outputs": [
        {
          "output_type": "execute_result",
          "data": {
            "text/plain": [
              "index                    29699.500000\n",
              "id                       37115.131768\n",
              "amount_tsh                 317.650385\n",
              "funder                     130.773384\n",
              "gps_height                 668.297239\n",
              "installer                  141.405909\n",
              "longitude                   35.149679\n",
              "latitude                    -5.706033\n",
              "num_private                  0.474141\n",
              "basin                        3.641296\n",
              "region                       9.752340\n",
              "district_code                5.629747\n",
              "lga                         50.439343\n",
              "ward                       740.484024\n",
              "population                 281.055791\n",
              "public_meeting               0.914899\n",
              "permit                       0.705522\n",
              "construction_year         1997.925202\n",
              "extraction_type_group        2.060724\n",
              "management                   1.178485\n",
              "payment                      2.331902\n",
              "water_quality                0.294529\n",
              "quantity                     0.722677\n",
              "source                       3.237441\n",
              "waterpoint_type              1.077054\n",
              "decade                       2.704529\n",
              "dtype: float64"
            ]
          },
          "metadata": {},
          "execution_count": 84
        }
      ]
    },
    {
      "cell_type": "code",
      "metadata": {
        "id": "a7M9ETIGIrYX"
      },
      "source": [
        "X_train= X_train.fillna(X_train.mean())\n",
        "test1= test1.fillna(X_train.mean())"
      ],
      "execution_count": 85,
      "outputs": []
    },
    {
      "cell_type": "code",
      "metadata": {
        "colab": {
          "base_uri": "https://localhost:8080/"
        },
        "id": "IAvqMiQvQb3v",
        "outputId": "d13bf414-29f5-44e4-ff9e-0fe8dc252a0e"
      },
      "source": [
        "test1.shape"
      ],
      "execution_count": 86,
      "outputs": [
        {
          "output_type": "execute_result",
          "data": {
            "text/plain": [
              "(14850, 26)"
            ]
          },
          "metadata": {},
          "execution_count": 86
        }
      ]
    },
    {
      "cell_type": "code",
      "metadata": {
        "colab": {
          "base_uri": "https://localhost:8080/"
        },
        "id": "h_QNCLGURkCE",
        "outputId": "7ba9267b-27ab-45ba-c070-4a486ee4e8c0"
      },
      "source": [
        "X_train.shape"
      ],
      "execution_count": 87,
      "outputs": [
        {
          "output_type": "execute_result",
          "data": {
            "text/plain": [
              "(59400, 26)"
            ]
          },
          "metadata": {},
          "execution_count": 87
        }
      ]
    },
    {
      "cell_type": "code",
      "metadata": {
        "id": "MYGaLXRzIujM"
      },
      "source": [
        "scaler = StandardScaler()\n",
        "X_train = scaler.fit_transform(X_train)\n",
        "test1 = scaler.transform(test1)"
      ],
      "execution_count": 88,
      "outputs": []
    },
    {
      "cell_type": "code",
      "metadata": {
        "id": "uaJWiilzi4Fx"
      },
      "source": [
        "y_train = df_train_labels['status_group']\n",
        "kfold = StratifiedKFold(n_splits=10)"
      ],
      "execution_count": 89,
      "outputs": []
    },
    {
      "cell_type": "code",
      "metadata": {
        "colab": {
          "base_uri": "https://localhost:8080/"
        },
        "id": "5DTKyptpjbpQ",
        "outputId": "fe625903-f333-4363-da45-a23c7da5bbe8"
      },
      "source": [
        "y_train.shape"
      ],
      "execution_count": 90,
      "outputs": [
        {
          "output_type": "execute_result",
          "data": {
            "text/plain": [
              "(59400,)"
            ]
          },
          "metadata": {},
          "execution_count": 90
        }
      ]
    },
    {
      "cell_type": "code",
      "metadata": {
        "id": "rsfpsCU-p3uK"
      },
      "source": [
        "model1 = RandomForestClassifier(n_estimators=100, max_depth=5, random_state=1)\n",
        "model1.fit(X_train,y_train)"
      ],
      "execution_count": null,
      "outputs": []
    },
    {
      "cell_type": "code",
      "metadata": {
        "id": "_JiQxSW4wAVN"
      },
      "source": [
        "predictions1 = model1.predict(test1)"
      ],
      "execution_count": null,
      "outputs": []
    },
    {
      "cell_type": "code",
      "metadata": {
        "id": "8IMkKHEQwFXB"
      },
      "source": [
        "submit_set1 = pd.read_csv('/content/drive/My Drive/MLproject/SubmissionFormat.csv')\n",
        "submit_set1['status_group'] = predictions\n",
        "submit_set1.to_csv('/content/drive/My Drive/MLproject/submissionrf1.csv', index=False)"
      ],
      "execution_count": null,
      "outputs": []
    },
    {
      "cell_type": "code",
      "metadata": {
        "id": "IhYME6vii3L6"
      },
      "source": [
        ""
      ],
      "execution_count": null,
      "outputs": []
    },
    {
      "cell_type": "code",
      "metadata": {
        "colab": {
          "base_uri": "https://localhost:8080/"
        },
        "id": "RNNfsbeq8bLX",
        "outputId": "1b14b290-82a9-4597-cf3d-257e1a23f70c"
      },
      "source": [
        "model2 = XGBClassifier(max_depth=8, learning_rate=0.3, n_estimators=100,gamma=0.2)\n",
        "model2.fit(X_train,y_train)"
      ],
      "execution_count": 98,
      "outputs": [
        {
          "output_type": "execute_result",
          "data": {
            "text/plain": [
              "XGBClassifier(base_score=0.5, booster='gbtree', colsample_bylevel=1,\n",
              "              colsample_bynode=1, colsample_bytree=1, gamma=0.2,\n",
              "              learning_rate=0.3, max_delta_step=0, max_depth=8,\n",
              "              min_child_weight=1, missing=None, n_estimators=100, n_jobs=1,\n",
              "              nthread=None, objective='multi:softprob', random_state=0,\n",
              "              reg_alpha=0, reg_lambda=1, scale_pos_weight=1, seed=None,\n",
              "              silent=None, subsample=1, verbosity=1)"
            ]
          },
          "metadata": {},
          "execution_count": 98
        }
      ]
    },
    {
      "cell_type": "code",
      "metadata": {
        "id": "70tjdQGbgI5b"
      },
      "source": [
        "predictions2 = model2.predict(test1)\n",
        "submit_set2 = pd.read_csv('/content/drive/My Drive/MLproject/SubmissionFormat.csv')\n",
        "submit_set2['status_group'] = predictions\n",
        "submit_set2.to_csv('/content/drive/My Drive/MLproject/submissionxgb2.csv', index=False)"
      ],
      "execution_count": null,
      "outputs": []
    }
  ]
}